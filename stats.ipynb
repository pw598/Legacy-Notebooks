{
 "cells": [
  {
   "cell_type": "code",
   "execution_count": null,
   "id": "a1c97ec0-7e77-45d5-872f-9d8b84c0ac0d",
   "metadata": {},
   "outputs": [],
   "source": []
  },
  {
   "cell_type": "markdown",
   "id": "01534dc5-2bf9-4bcb-b51b-29a8760f62bb",
   "metadata": {},
   "source": [
    "## Descriptive Statistics"
   ]
  },
  {
   "cell_type": "markdown",
   "id": "e54efccc-1cd0-49de-93fc-5eab254bf3fe",
   "metadata": {},
   "source": [
    "Summarizing data is important to understanding it at scale, and descriptive statistics help us to do so."
   ]
  },
  {
   "cell_type": "markdown",
   "id": "416b4d1e-be35-4602-a23f-0553a25fe603",
   "metadata": {},
   "source": [
    "#### Mean, Median, and Mode"
   ]
  },
  {
   "cell_type": "markdown",
   "id": "e3a2b0a9-32c7-4f48-bb05-b9a092f56b69",
   "metadata": {},
   "source": [
    "The mean of a series of numbers is the average, the sum divided by the count.\n",
    "\n",
    "<h4>$\\bar{x} ~~= \\frac{ \\sum_{i=1}^n x_i }{n} ~~= ~~\\frac{1}{n} \\sum_{i=1}^n x_i$</h4>\n",
    "\n",
    "- $\\bar{x}$ is the mean of the series of numbers $x$\n",
    "- $n$ is the number of observations\n",
    "- $i$ is the index of a particular data point of $x$\n",
    "- $x_i$ is a data point of $x$ with index $i$\n",
    "\n",
    "The median is the data point in the middle of the list when you sort the series of numbers $x$ by value. It can be preferable to the mean as a measure of central tendency, as it is unaffected by outliers.\n",
    "\n",
    "The mode is the value observed most frequently in the series of numbers, and can be tied amongst two or more values.\n",
    "\n",
    "With an unskewed Gaussian/normal distribution, the median and mode happen to be equal to the mean."
   ]
  },
  {
   "cell_type": "markdown",
   "id": "a2a34ef3-92b8-4c54-aca4-4a1f706a6c1c",
   "metadata": {},
   "source": [
    "#### Percentile and Quartile"
   ]
  },
  {
   "cell_type": "markdown",
   "id": "fc30a598-846e-455b-af27-9b332e2d6ade",
   "metadata": {},
   "source": [
    "You can think of the concept of percentiles as a generalization of the concept of the median, as the median represents the value at the $50^{th}$ percentile. Other special cases of the percentile are the values $25\\%$ and $75\\%$ of the way down the list of sorted values, and together with the median, these are called quartiles, because they divide the data into four sections with an equal number of observations."
   ]
  },
  {
   "cell_type": "markdown",
   "id": "d417cf94-0f50-4da5-aa77-4afa6ceb146d",
   "metadata": {},
   "source": [
    "#### Probability Distributions"
   ]
  },
  {
   "cell_type": "markdown",
   "id": "594e9796-4103-4313-95fe-cedc872ffb44",
   "metadata": {},
   "source": [
    "Probability is the soul of statistics, which is all about quantifying uncertainty. It helps us to quantify randomness, and by calculating probabilities, we can determine whether observed phenomena are statistically significant or likely due to chance. Probabilities are non-negative numbers between $0$ and $1$, and part of a series of probabilities that together sum to $1$, called a probability distribution.\n",
    "\n",
    "There are many types of probability distributions, and the math behind them gets pretty hairy. We will not delve into the various ways that these distributions are calculated, but a couple of articles on the subject can be found here:\n",
    "\n",
    "- <a href=\"https://github.com/pw598/Articles/blob/main/Probability%20Distributions%20I%20-%20Discrete%20Distributions.ipynb\">Probability Distributions I - Discrete Distributions</a>\n",
    "- <a href=\"https://github.com/pw598/Articles/blob/main/Probability%20Distributions%20II%20-%20Continuous%20Distributions.ipynb\">Probability Distributions II - Continuous Distributions</a>\n",
    "\n",
    "What's important to know is that probability distributions, and the random variables which represent them, are mathematical functions. A function transforms a series of $x$ values input into some output, for example, $f(x)=x^2$. A probability distribution, known by its probability density function (PDF), is a parametric function where the outputs are probabilities. By parametric, we mean that the function is defined partly in terms of variable parameters - like with the Gaussian/normal distribution, mean and variance.\n",
    "\n",
    "Several important concepts are agnostic to the type of distribution being used."
   ]
  },
  {
   "cell_type": "markdown",
   "id": "5ea58bff-4c58-4dc8-bb1d-0c8c4fd6ec63",
   "metadata": {},
   "source": [
    "#### Expected Value"
   ]
  },
  {
   "cell_type": "markdown",
   "id": "a5fc1b02-cbef-4a96-b1d9-82e6e09cefcd",
   "metadata": {},
   "source": [
    "The expected value of a probability distribution is a measure of its center, and though equal to the mean in the case of symmetrical distributions, it can be thought of as a broader generalization. It is the average outcome you would expect when repeating an experiment many times, and is calculated by summing the products of each possible outcome and its probability.\n",
    "\n",
    "<h4>$E(X) = \\sum_i x_i \\cdot P(X=x_i)$</h4>\n",
    "\n",
    "- $E(X)$ is the expected value of $X$\n",
    "- $\\sum_i$ represents a sum over all indices $i$ of $X$\n",
    "- $i$ is the index of the value of $X$ being considered\n",
    "- $x_i$ is the value of $X$ for a given index\n",
    "- $\\cdot$ is the multiplication operation\n",
    "- $P(X=x_i)$ is the probability that $X$ equals $x_i$\n",
    "\n",
    "For a continuous distribution, we can use the above as a discrete approximation, but otherwise need to involve the concept of integrals from calculus (which we'll avoid)."
   ]
  },
  {
   "cell_type": "markdown",
   "id": "18a6c166-d2c0-41f4-94e4-83d1e7f66c1d",
   "metadata": {},
   "source": [
    "#### Variance"
   ]
  },
  {
   "cell_type": "markdown",
   "id": "b8a39e01-344b-46c4-875f-16d52e6ae9c0",
   "metadata": {},
   "source": [
    "Variance is a measure of how much spread there is around the expected value, and is calculated as the average of squared differences from the expected value. Squared because we don't want negative differences to offset the positive ones, but rather blend together to give us an idea of average distance regardless of direction. A nuance is that when dealing with a sample rather than a population, we divide by $n-1$ instead of $n$.\n",
    "\n",
    "<i>Population Variance:</i>\n",
    "\n",
    "<h4>$\\sigma^2 = \\frac{\\sum(x - \\mu)^2}{n}$</h4>\n",
    "\n",
    "<i>Sample Variance:</i>\n",
    "\n",
    "<h4>$s^2 = \\frac{\\sum(x - \\bar{x})^2}{n-1}$</h4>\n",
    "\n",
    "- $\\sigma^2$ is the population variance\n",
    "- $s^2$ is the sample variance\n",
    "- $x$ is the value of an instance in the dataset\n",
    "- $\\mu$ is the population average value\n",
    "- $\\bar{x}$ is the sample average value\n",
    "- $n$ is the number of observations"
   ]
  },
  {
   "cell_type": "markdown",
   "id": "f7008c39-727f-42cd-9690-fef1b3a4a0e8",
   "metadata": {},
   "source": [
    "#### Standard Deviation"
   ]
  },
  {
   "cell_type": "markdown",
   "id": "e6d0812e-5c1e-48d5-97d7-f635fd0ec1b2",
   "metadata": {},
   "source": [
    "The squared values of variance make for an interpretability issue - the units of variance are not in the same unit of measurement of the data. This is why we commonly speak in terms of standard deviation - the square root of variance - which brings us back to the same units as the data.\n",
    "\n",
    "<i>Population Standard Deviation:</i>\n",
    "\n",
    "<h4>$\\sigma = \\sqrt{\\sigma^2} = \\sqrt{\\frac{\\sum(x - \\mu)^2}{n}}$</h4>\n",
    "\n",
    "<i>Sample Standard Deviation:</i>\n",
    "\n",
    "<h4>$s = \\sqrt{s^2} = \\sqrt{\\frac{\\sum(x - \\bar{x})^2}{n-1}}$</h4>\n",
    "\n",
    "- $\\sigma$ is the population standard deviation\n",
    "- $s$ is the sample standard deviation\n",
    "- $x$ is the value of an instance in the dataset\n",
    "- $\\mu$ is the population average value\n",
    "- $\\bar{x}$ is the sample average value\n",
    "- $n$ is the number of observations"
   ]
  },
  {
   "cell_type": "markdown",
   "id": "920c71eb-2d3d-4ce2-bcb3-b4c6dd705750",
   "metadata": {},
   "source": [
    "#### Covariance and Correlation"
   ]
  },
  {
   "cell_type": "markdown",
   "id": "7da06429-7aa9-4516-8d58-0aa3cdc9c739",
   "metadata": {},
   "source": [
    "You are likely familiar with the concept of correlation - the degree to which the behavior of one variable explains another. To understand correlation, it helps to understand covariance, the unscaled version of correlation. While correlation ranges $-1$ to $+1$, covariance ranges $-X$ to $+X$, and correlation is just scaled covariance.\n",
    "\n",
    "Covariance is the sum of the product of differences from the mean for two variables, scaled by the number of observations $n$, or $n-1$ if sampling. Two coinciding positive differences make for a large contribution to covariance, as do two coinciding negative differences, through multiplication.\n",
    "\n",
    "<i>Population Covariance:</i>\n",
    "\n",
    "<h4>$cov(x,y) = \\frac{\\sum (x_i - \\bar{x}) (y_i - \\bar{y})}{n}$</h4>\n",
    "\n",
    "<i>Sample Covariance:</i>\n",
    "\n",
    "<h4>$cov(x,y) = \\frac{\\sum (x_i - \\bar{x}) (y_i - \\bar{y})}{n-1}$</h4>\n",
    "\n",
    "- $x$ is a vector (series) of values\n",
    "- $y$ is a vector of values\n",
    "- $x_i$ is an individual data point of $x$\n",
    "- $\\bar{x}$ is the average value of $x$\n",
    "- $y_i$ is an individual data point of $y$\n",
    "- $\\bar{y}$ is the average value of $y$\n",
    "- $n$ is the number of observations"
   ]
  },
  {
   "cell_type": "markdown",
   "id": "74a34ebc-a0b9-4f50-b55f-3d9ee2ef07a4",
   "metadata": {},
   "source": [
    "Back to correlation - correlation is covariance with the numerator scaled by the product of standard deviations for the two variables, rather than $n$ or $n-1$.\n",
    "\n",
    "<h4>$r = \\frac{ \\sum (x_i - \\bar{x}) (y_i - \\bar{y}) }{ \\sqrt{\\sum(x_i - \\bar{x})^2} \\sqrt{\\sum(y_i - \\bar{y})^2} }$</h4>\n",
    "\n",
    "- $x$ is a vector of values\n",
    "- $y$ is a vector of values\n",
    "- $x_i$ is an individual data point of $x$\n",
    "- $\\bar{x}$ is the average value of $x$\n",
    "- $y_i$ is an individual data point of $y$\n",
    "- $\\bar{y}$ is the average value of $y$\n",
    "- $n$ is the number of observations"
   ]
  },
  {
   "cell_type": "markdown",
   "id": "b8e5cca1-0bc6-472f-b14b-e05beb0d1a68",
   "metadata": {},
   "source": [
    "#### Z-Scores and Standardization"
   ]
  },
  {
   "cell_type": "markdown",
   "id": "e7f9d11c-9333-4af3-9eb5-fa23a93a0837",
   "metadata": {},
   "source": [
    "Z-Scores indicate how many standard deviations away a data point is from the mean of the dataset.\n",
    "\n",
    "<h4>$z = \\frac{x_i - \\mu}{\\sigma}$</h4>\n",
    "\n",
    "- $z$ is the distance in standard deviations of $x_i$ from the mean of $x$, $\\mu$\n",
    "- $x_i$ is an individual data point of $x$\n",
    "- $\\mu$ is the average value of $x$\n",
    "- $\\sigma$ is the standard deviation of $x$"
   ]
  },
  {
   "cell_type": "markdown",
   "id": "0b1fa8a3-d5bc-4443-a941-4dcf87232e30",
   "metadata": {},
   "source": [
    "Z-scores can be helpful for standardization, a form of scaling in which data points are expressed in terms of the number of standard deviations away from the mean.\n",
    "\n",
    "Another way to scale data is with min/max scaling, which follows the following formula:\n",
    "\n",
    "<h4>$scaled ~x_i = \\frac{x_i - min(x)}{max(x) - min(x)}$</h4>\n",
    "\n",
    "- $scaled ~x_i$ is the proportion of range from the minimum to maximum of the vector $x$\n",
    "- $x_i$ is an individual instance of $x$\n",
    "- $min(x)$ is the minimum value of $x$\n",
    "- $max(x)$ is the maximum value of $x$"
   ]
  },
  {
   "cell_type": "code",
   "execution_count": null,
   "id": "550c8ec0-bd60-486e-a7eb-1bc89bc13477",
   "metadata": {},
   "outputs": [],
   "source": []
  },
  {
   "cell_type": "code",
   "execution_count": null,
   "id": "84aaab1d-a03e-4ec8-ac95-f8575d967bb8",
   "metadata": {},
   "outputs": [],
   "source": []
  },
  {
   "cell_type": "code",
   "execution_count": null,
   "id": "9a4a7372-aa45-4cc1-beee-ad087bb8a68c",
   "metadata": {},
   "outputs": [],
   "source": []
  },
  {
   "cell_type": "code",
   "execution_count": null,
   "id": "29f3e86e-5277-44b1-86ec-752c4de92f70",
   "metadata": {},
   "outputs": [],
   "source": []
  },
  {
   "cell_type": "code",
   "execution_count": null,
   "id": "10b966a5-5400-4cf4-bee5-7d4cd681d494",
   "metadata": {},
   "outputs": [],
   "source": []
  },
  {
   "cell_type": "code",
   "execution_count": null,
   "id": "b7e09744-3a83-44ea-ae3c-44cecbccb703",
   "metadata": {},
   "outputs": [],
   "source": []
  },
  {
   "cell_type": "code",
   "execution_count": null,
   "id": "25587c1e-a727-4d37-9558-dcd7cc9cf4d3",
   "metadata": {},
   "outputs": [],
   "source": []
  },
  {
   "cell_type": "code",
   "execution_count": null,
   "id": "cbecb63a-43ba-49f7-bbaf-53a6e10208fd",
   "metadata": {},
   "outputs": [],
   "source": []
  },
  {
   "cell_type": "code",
   "execution_count": null,
   "id": "2b32898d-89a5-4ad4-84b0-a76068890a07",
   "metadata": {},
   "outputs": [],
   "source": []
  },
  {
   "cell_type": "markdown",
   "id": "c235f258-470d-4db1-a4a9-72e23966b9c7",
   "metadata": {},
   "source": [
    "## Statistical Hypothesis Testing"
   ]
  },
  {
   "cell_type": "markdown",
   "id": "19439afc-d9ca-471c-bedd-db4c334ba9a9",
   "metadata": {},
   "source": [
    "Probability distributions provide a mathematical framework for describing the likelihood of events in a random process or experiment. Methods like maximum likelihood estimation use analytical functions to find parameters that best fit observed data to a theoretical distribution.\n",
    "\n",
    "Going forward, we will assume the Gaussian/normal distribution, or at times, the t-distribution. The parameters of the Gaussian distribution are mean and variance, and the parameter of the t-distribution is degrees of freedom, set to $n-1$ (where $n$ is the number of observations).\n",
    "\n",
    "If testing the effect of an experiment, we expect to see that a sample mean from the experiment is unlikely to come from the assumed population probability distribution, meaning that the difference in stimulus/environment/etc. has had a <i>significant</i> effect.\n",
    "\n",
    "A p-value (probability value) measures the likelihood of obtaining a particular sample mean from a theoretical distribution as determined by the type of distribution, and the variable parameters which define that distribution. A significance level $\\alpha$ reflecting the maximum threshold for the p-value is commonly selected to be $0.05$ or $0.01$. This reflects .... It is when the p-value is lower than the significance level $\\alpha$ that we consider a result not likely to be due to random chance.\n",
    "\n",
    "The null hypothesis $H_0$ is that there is no difference between the sampled data and the population. The drug had no effect, the sale provided no uplift, etc. When the p-value is less than the significance level $\\alpha$, the null hypothesis $H_0$ is rejected in favor of the alternative hypothesis $H_A$ (or $H_1$). Rejecting the null hypothesis does not prove that the alternative hypothesis is true, but suggests there is sufficient enough evidence that the null hypothesis is unlikely to be true."
   ]
  },
  {
   "cell_type": "markdown",
   "id": "6917a9fc-bf26-4f92-9faf-067bc2d7b0f5",
   "metadata": {},
   "source": [
    "#### The Z-Test"
   ]
  },
  {
   "cell_type": "markdown",
   "id": "b8189b91-cb6d-4373-8afa-28ebdf5f5dce",
   "metadata": {},
   "source": [
    "The z-test quantifies the probability of a number as or more extreme than another given number, when drawn from a normal distribution, given the data observed. Notable p-z combinations include:\n",
    "- 68.3% of data is between -1 and +1 standard deviations from the mean\n",
    "- 95.5% of data is between -2 and +2 standard deviations from the mean\n",
    "- 99.7% of data is between -3 and +3 standard deviations from the mean"
   ]
  },
  {
   "cell_type": "markdown",
   "id": "6c4e1ec1-8b64-4bf0-829e-091317813ffd",
   "metadata": {},
   "source": [
    "#### Critical Values"
   ]
  },
  {
   "cell_type": "markdown",
   "id": "8f74cbe5-41ae-403e-8a76-24ffb7c97506",
   "metadata": {},
   "source": [
    "A critical value is defined in the context of the population distribution and a probability, and is used as a threshold for interpreting the result of a statistical test. The values in the population beyond the critical value are called the critical region or region of rejection.\n",
    "\n",
    "A one-tailed test has a single critical value, on the left or the right of the distribution, and if the calculated statistic is less or equally extreme than the critical value, the null hypothesis of the test fails to be rejected. A two-tailed test has two critical values, one on each side of the distribution, which is often assumed to be symmetrical. When using a two-tailed test, the significance level $\\alpha$ used in the calculation of critical values must be divided by two."
   ]
  },
  {
   "cell_type": "markdown",
   "id": "ab1190f7-0cad-49ec-b9b6-108dd85272ce",
   "metadata": {},
   "source": [
    "#### Confidence Intervals"
   ]
  },
  {
   "cell_type": "markdown",
   "id": "4210b1ff-eb79-4426-8c04-c6d59bd20b66",
   "metadata": {},
   "source": [
    "A point estimate is the simplest approach to estimating a population parameter, and a confidence interval is a point estimate $\\pm$ the margin of error. The wider the interval, the greater the confidence level. To be 95% confident means that there is a 95% chance that the mean is contained in the confidence interval, and that the method used to construct the interval will provide intervals that contain the population mean 95% of the time.\n",
    "\n",
    "Involved in the calculation of a confidence interval is a critical statistic, such as a z-score or t-statistic, representative of the confidence level. A z-statistic is assumed to be drawn from a normal distribution, and a t-statistic is assumed to be drawn from a t-distribution. The t-distribution is similar to the normal distribution, and approximates a normal distribution as the number of samples becomes greater, but for lower numbers of samples, it is shorter and more spread out. For 30 or more samples, it is common to assume the normal distribution.\n",
    "\n",
    "<i>Confidence Interval with z-Statistic:</i>\n",
    "\n",
    "<h4>$CI = \\bar{x} \\pm z_{\\alpha} \\frac{s}{\\sqrt{n}}$</h4>\n",
    "\n",
    "<i>Confidence Interval with t-Statistic:</i>\n",
    "\n",
    "<h4>$CI = \\bar{x} \\pm t_{n-1} \\frac{s}{\\sqrt{n}}$</h4>\n",
    "\n",
    "- $\\bar{x}$ is the sample average\n",
    "- $z_{\\alpha}$ is a critical z-statistic for the given $\\alpha$ (significance) level\n",
    "- $\\alpha$ is the significance level ($0.05$ or $0.01$ is common)\n",
    "- $s$ is the sample standard deviation\n",
    "- $t_{n-1}$ is a critical t-statistic with degrees of freedom equal to $n-1$\n",
    "- $n$ is the number of observations"
   ]
  },
  {
   "cell_type": "code",
   "execution_count": null,
   "id": "77ba073a-f70e-4e79-8d42-493f379a7047",
   "metadata": {},
   "outputs": [],
   "source": []
  },
  {
   "cell_type": "code",
   "execution_count": null,
   "id": "aedc3575-8712-49d2-a8c5-aed44896fde8",
   "metadata": {},
   "outputs": [],
   "source": []
  },
  {
   "cell_type": "code",
   "execution_count": null,
   "id": "c0e8993f-5e2a-481b-ba57-4caf37457b8d",
   "metadata": {},
   "outputs": [],
   "source": []
  },
  {
   "cell_type": "code",
   "execution_count": null,
   "id": "453d619e-83c3-42b5-a549-ce21ff7fe5dd",
   "metadata": {},
   "outputs": [],
   "source": []
  },
  {
   "cell_type": "code",
   "execution_count": null,
   "id": "8a9908d6-bd07-4c77-9f68-1845b2154a01",
   "metadata": {},
   "outputs": [],
   "source": []
  },
  {
   "cell_type": "code",
   "execution_count": null,
   "id": "4cd1ea71-a783-43c1-88bf-eda8bac23858",
   "metadata": {},
   "outputs": [],
   "source": []
  },
  {
   "cell_type": "code",
   "execution_count": null,
   "id": "d9d5bf44-8354-46d9-8e6b-50a29f22d2fd",
   "metadata": {},
   "outputs": [],
   "source": []
  },
  {
   "cell_type": "code",
   "execution_count": null,
   "id": "51b001b8-1851-406d-801c-28c06bb2332a",
   "metadata": {},
   "outputs": [],
   "source": []
  },
  {
   "cell_type": "code",
   "execution_count": null,
   "id": "485b0f12-2f1a-4f36-9cd2-e1ed029e704b",
   "metadata": {},
   "outputs": [],
   "source": []
  },
  {
   "cell_type": "markdown",
   "id": "e599d015-8aec-45c3-aa38-043474277752",
   "metadata": {
    "tags": []
   },
   "source": [
    "## Linear Regression"
   ]
  },
  {
   "cell_type": "markdown",
   "id": "3514efb0-9185-42d0-8b54-539735b3404b",
   "metadata": {},
   "source": [
    "Linear regression takes a set of inputs X and a set of outputs y, and models a linear relationship by which the input maximally explains the output. For a single variable, the relationship is written as:\n",
    "\n",
    "<p>$$y = \\beta_0 + \\beta_1 x + \\epsilon$$</p>\n",
    "    <ul>\n",
    "        <li>$y$ is the numeric response for the instance in question</li>\n",
    "        <li>$\\beta_0$ is an estimated intercept value</li>\n",
    "        <li>$\\beta_1$ is the estimated coefficient for the $x$ variable</li>\n",
    "        <li>$\\epsilon$ is random error that cannot be explained by the model</li>\n",
    "    </ul>"
   ]
  },
  {
   "cell_type": "markdown",
   "id": "43dfa725-7107-46b2-8e45-86d007b53a8d",
   "metadata": {},
   "source": [
    "#### Multiple Regression"
   ]
  },
  {
   "cell_type": "markdown",
   "id": "3641f211-3752-4475-bf5d-28f3641f4d7d",
   "metadata": {},
   "source": [
    "When multiple independent variables are being considered, we call it multiple regression. Each independent variable receives a coefficient (with a confidence interval) that describes the variable's contribution to the model, and predictions are created as a weighted sum of feature inputs.\n",
    "\n",
    "<p>$$y = \\beta_0 + \\beta_1 x1 + \\beta_2 x_2 + ... + \\beta_p x_p + \\epsilon$$</p>\n",
    "    <ul>\n",
    "        <li>$y$ is the numeric response for the instance in question</li>\n",
    "        <li>$\\beta_0$ is an estimated intercept value</li>\n",
    "        <li>$\\beta_p$ is the estimated coefficient for the $p^{th}$ variable</li>\n",
    "        <li>$\\epsilon$ is random error that cannot be explained by the model</li>\n",
    "    </ul>\n",
    "\n",
    "One advantage of regression models is that they are highly interpretable. The features and weights can be interpreted as such:\n",
    "- Numerical Feature: increasing the numerical feature by one unit changes the estimated outcome by the value of its weight.\n",
    "- Binary Feature: changing the feature from the reference category to the other category changes the estimated outcome by the feature's weight.\n",
    "- Categorical Feature: the interpretation of each category is the same as the interpretation for binary features.\n",
    "- Intercept $\\beta_0$: the intercept is the predicted outcome of an instance where all features are at their mean value.\n",
    "\n",
    "Another advantage of regression is that it provides standard errors of the coefficients. \n",
    "\n",
    "Assumptions apply, such as a lack of correlated independent ($X$) features, however these assumptions are often violated with minimal consequence."
   ]
  },
  {
   "cell_type": "code",
   "execution_count": null,
   "id": "5f2ab243-ef88-4a14-b29c-427e3ea77180",
   "metadata": {},
   "outputs": [],
   "source": []
  },
  {
   "cell_type": "code",
   "execution_count": null,
   "id": "23dabb3c-b985-488a-9962-0621256dbb69",
   "metadata": {},
   "outputs": [],
   "source": []
  },
  {
   "cell_type": "code",
   "execution_count": null,
   "id": "9cf20d22-0819-400c-b743-79019791ef50",
   "metadata": {},
   "outputs": [],
   "source": []
  },
  {
   "cell_type": "code",
   "execution_count": null,
   "id": "04f203d3-6374-46ca-b023-ff6fb7c7591a",
   "metadata": {},
   "outputs": [],
   "source": []
  }
 ],
 "metadata": {
  "kernelspec": {
   "display_name": "Python 3 (ipykernel)",
   "language": "python",
   "name": "python3"
  },
  "language_info": {
   "codemirror_mode": {
    "name": "ipython",
    "version": 3
   },
   "file_extension": ".py",
   "mimetype": "text/x-python",
   "name": "python",
   "nbconvert_exporter": "python",
   "pygments_lexer": "ipython3",
   "version": "3.11.5"
  }
 },
 "nbformat": 4,
 "nbformat_minor": 5
}
