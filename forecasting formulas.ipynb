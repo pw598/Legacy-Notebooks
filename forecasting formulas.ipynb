{
 "cells": [
  {
   "cell_type": "code",
   "execution_count": null,
   "id": "05d3e319-7216-4733-9fd7-7dda843dce81",
   "metadata": {},
   "outputs": [],
   "source": [
    "# EWMA"
   ]
  },
  {
   "cell_type": "markdown",
   "id": "c63e4612-ad9e-467d-b25d-31a6b625125f",
   "metadata": {},
   "source": [
    "$\\text{EWMA_t} = \\alpha y_t + (1-\\alpha)\\text{EWMA}_{t-1}$\n",
    "\n",
    "- $\\text{EWMA_t}$ is the weighted average for the current time point\n",
    "- $\\alpha$ is the degree to which $y_t$ is weighted, and the inverse to which $\\text{EWMA}_{t-1}$ is weighted\n",
    "- $y_t$ is the actual value of the time-series at time point $t$\n",
    "- $\\text{EWMA}_{t-1}$ is the result of the EWMA equation for the prior time point"
   ]
  },
  {
   "cell_type": "code",
   "execution_count": null,
   "id": "d51ead61-4856-4b91-b8c3-da4105cbac9d",
   "metadata": {},
   "outputs": [],
   "source": [
    "# Regression"
   ]
  },
  {
   "cell_type": "markdown",
   "id": "ecd3141f-e118-430b-9059-75b0fd866d56",
   "metadata": {},
   "source": [
    "<h4>$y = mx + b$</h4>\n",
    "\n",
    "- $y$ is the predicted value\n",
    "- $m$ is the slope of the regression line\n",
    "- $b$ is the bias, i.e., intercept"
   ]
  },
  {
   "cell_type": "code",
   "execution_count": null,
   "id": "7ba2e098-ef51-40c8-8216-0a981453c49e",
   "metadata": {},
   "outputs": [],
   "source": [
    "# Autoregression"
   ]
  },
  {
   "cell_type": "markdown",
   "id": "f6855301-e121-42d4-adf9-9e030b66522a",
   "metadata": {},
   "source": [
    "<h4>$y_{t} = c + \\phi_{1}y_{t-1} + \\phi_{2}y_{t-2} + \\dots + \\phi_{p}y_{t-p} + \\varepsilon_{t}$</h4>\n",
    "\n",
    "- $y_t$ is the value of the time-series at time point $t$\n",
    "- $c$ is a constant (an intercept)\n",
    "- $\\phi_1, \\phi_2, \\ldots, \\phi_p$ are the coefficients for lags $y_{t-1}, y_{t-2}, \\ldots, y_{t-p}$\n",
    "- $y_{t-1}, y_{t-2}, \\ldots, y_{t-p}$ are the actual values at lags $\\text{t-1}$, $\\text{t-2}$, etc.\n",
    "- $p$ is the number of lags included\n",
    "- $\\varepsilon_t$ is the prediction error at time $t$"
   ]
  },
  {
   "cell_type": "code",
   "execution_count": null,
   "id": "fb5cfb70-2b23-4963-9e94-eb5cbb4b1a75",
   "metadata": {},
   "outputs": [],
   "source": [
    "# Autocorrelation"
   ]
  },
  {
   "cell_type": "markdown",
   "id": "7a99a3bf-8fd4-4365-b2d4-2ed2c5a4266f",
   "metadata": {},
   "source": [
    "<h3>$p_k = \\frac{ Cov(y_t, y_{t-k}) }{ \\sqrt{ Var(y_t) \\cdot Var(y_{t-k}) } }$</h3>\n",
    "\n",
    "- $y_t$ is the value at time $t$\n",
    "- $t_{t-k}$ is the value of the time series at time $t$ lagged by $k$ periods\n",
    "- $Cov(y_t - y_{t-k})$ is the covariance between $y_t$ and $y_{t-k}$\n",
    "- $Var(y_t)$ and $Var(y_{t-k})$ are the variances of $y_t$ and $y_{t-k}$ respectively"
   ]
  },
  {
   "cell_type": "code",
   "execution_count": null,
   "id": "27046545-f9f4-461b-b31f-48175668fb03",
   "metadata": {},
   "outputs": [],
   "source": [
    "# Single Exponential Smoothing"
   ]
  },
  {
   "cell_type": "markdown",
   "id": "68827425-1614-4b0c-ad96-536c8d82bd95",
   "metadata": {
    "tags": []
   },
   "source": [
    "$\\begin{align*}\n",
    "\\hat{y}_t & = \\alpha y_{t-1} + (1-\\alpha) \\hat{y}_{t-1} \\\\\n",
    "\\hat{y}_{t+1} & = \\alpha y_t + (1-\\alpha) \\hat{y}_t \\\\\n",
    "\\end{align*}$\n",
    "\n",
    "- $\\hat{y}_t$ and $\\hat{y}_{t-1}$ are the predictions at time $t$ and $t-1$ respectively\n",
    "- $\\alpha$ is the smoothing constant, by which the most recent time point is weighted, and by which the prior time point is inversely weighted"
   ]
  },
  {
   "cell_type": "markdown",
   "id": "71f3b215-c2ac-4037-9d0b-e4100551f2e2",
   "metadata": {},
   "source": [
    "$\\begin{align*}\n",
    "\\hat{y}_3 & = \\alpha y_2 + (1-\\alpha) \\ell_2 \\\\\n",
    " & = \\alpha y_2 + (1-\\alpha)[\\alpha y_1 + (1-\\alpha)^2 \\ell_0] \\\\\n",
    "\\hat{y}_4 & = \\alpha y_3 + \\alpha(1-\\alpha) y_2 + \\alpha(1-\\alpha)^2 y_1 + (1-\\alpha)^3 \\ell_0\n",
    "\\end{align*}$\n",
    "\n",
    "- $y_3$ and $y_4$ are the predictions for time-steps $t=3$ and $t=4$ respectively\n",
    "- $\\alpha$ is the smoothing constant\n",
    "- $\\ell_0$ is the level (or smoothed value) at the first time point"
   ]
  },
  {
   "cell_type": "markdown",
   "id": "fada6530-b9aa-4112-8bc1-cdf4da9aab97",
   "metadata": {},
   "source": [
    "$\\begin{align*}\n",
    "  \\text{Forecast equation}  && \\hat{y}_{t+h} & = \\ell_{t}\\\\\n",
    "  \\text{Smoothing equation} && \\ell_{t}        & = \\alpha y_{t} + (1 - \\alpha)\\ell_{t-1},\n",
    "\\end{align*}$\n",
    "\n",
    "- $\\hat{y}_{t+h}$ is the predicted value at time point $t$ plus $h$ steps ahead\n",
    "- $\\ell_t$ is the smoothed forecast at time $t$\n",
    "- $\\alpha$ is the smoothing constant"
   ]
  },
  {
   "cell_type": "code",
   "execution_count": null,
   "id": "b70ffdf1-c1b1-4ffd-94c0-fca47652503b",
   "metadata": {},
   "outputs": [],
   "source": []
  }
 ],
 "metadata": {
  "kernelspec": {
   "display_name": "Python 3 (ipykernel)",
   "language": "python",
   "name": "python3"
  },
  "language_info": {
   "codemirror_mode": {
    "name": "ipython",
    "version": 3
   },
   "file_extension": ".py",
   "mimetype": "text/x-python",
   "name": "python",
   "nbconvert_exporter": "python",
   "pygments_lexer": "ipython3",
   "version": "3.11.5"
  }
 },
 "nbformat": 4,
 "nbformat_minor": 5
}
