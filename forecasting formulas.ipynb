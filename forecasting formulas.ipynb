{
 "cells": [
  {
   "cell_type": "code",
   "execution_count": 1,
   "id": "05d3e319-7216-4733-9fd7-7dda843dce81",
   "metadata": {},
   "outputs": [],
   "source": [
    "# EWMA"
   ]
  },
  {
   "cell_type": "markdown",
   "id": "c63e4612-ad9e-467d-b25d-31a6b625125f",
   "metadata": {},
   "source": [
    "$\\text{EWMA_t} = \\alpha y_t + (1-\\alpha)\\text{EWMA}_{t-1}$\n",
    "\n",
    "- $\\text{EWMA_t}$ is the weighted average for the current time point\n",
    "- $\\alpha$ is the degree to which $y_t$ is weighted, and the inverse to which $\\text{EWMA}_{t-1}$ is weighted\n",
    "- $y_t$ is the actual value of the time-series at time point $t$\n",
    "- $\\text{EWMA}_{t-1}$ is the result of the EWMA equation for the prior time point"
   ]
  },
  {
   "cell_type": "code",
   "execution_count": 2,
   "id": "d51ead61-4856-4b91-b8c3-da4105cbac9d",
   "metadata": {},
   "outputs": [],
   "source": [
    "# Regression"
   ]
  },
  {
   "cell_type": "markdown",
   "id": "ecd3141f-e118-430b-9059-75b0fd866d56",
   "metadata": {},
   "source": [
    "<h4>$y = mx + b$</h4>\n",
    "\n",
    "- $y$ is the predicted value\n",
    "- $m$ is the slope of the regression line\n",
    "- $b$ is the bias, i.e., intercept"
   ]
  },
  {
   "cell_type": "code",
   "execution_count": 3,
   "id": "7ba2e098-ef51-40c8-8216-0a981453c49e",
   "metadata": {},
   "outputs": [],
   "source": [
    "# Autoregression"
   ]
  },
  {
   "cell_type": "markdown",
   "id": "f6855301-e121-42d4-adf9-9e030b66522a",
   "metadata": {},
   "source": [
    "<h4>$y_{t} = c + \\phi_{1}y_{t-1} + \\phi_{2}y_{t-2} + \\dots + \\phi_{p}y_{t-p} + \\varepsilon_{t}$</h4>\n",
    "\n",
    "- $y_t$ is the value of the time-series at time point $t$\n",
    "- $c$ is a constant (an intercept)\n",
    "- $\\phi_1, \\phi_2, \\ldots, \\phi_p$ are the coefficients for lags $y_{t-1}, y_{t-2}, \\ldots, y_{t-p}$\n",
    "- $y_{t-1}, y_{t-2}, \\ldots, y_{t-p}$ are the actual values at lags $\\text{t-1}$, $\\text{t-2}$, etc.\n",
    "- $p$ is the number of lags included\n",
    "- $\\varepsilon_t$ is the prediction error at time $t$"
   ]
  },
  {
   "cell_type": "code",
   "execution_count": 4,
   "id": "fb5cfb70-2b23-4963-9e94-eb5cbb4b1a75",
   "metadata": {},
   "outputs": [],
   "source": [
    "# Autocorrelation"
   ]
  },
  {
   "cell_type": "markdown",
   "id": "7a99a3bf-8fd4-4365-b2d4-2ed2c5a4266f",
   "metadata": {},
   "source": [
    "<h3>$\\rho_k = \\frac{ Cov(y_t, y_{t-k}) }{ \\sqrt{ Var(y_t) \\cdot Var(y_{t-k}) } }$</h3>\n",
    "\n",
    "- $\\rho_k$ is the autocorrelation between time points $t$ and $k$\n",
    "- $y_t$ is the value at time $t$\n",
    "- $t_{t-k}$ is the value of the time series at time $t$ lagged by $k$ periods\n",
    "- $Cov(y_t - y_{t-k})$ is the covariance between $y_t$ and $y_{t-k}$\n",
    "- $Var(y_t)$ and $Var(y_{t-k})$ are the variances of $y_t$ and $y_{t-k}$ respectively"
   ]
  },
  {
   "cell_type": "code",
   "execution_count": 5,
   "id": "27046545-f9f4-461b-b31f-48175668fb03",
   "metadata": {},
   "outputs": [],
   "source": [
    "# Single Exponential Smoothing"
   ]
  },
  {
   "cell_type": "markdown",
   "id": "68827425-1614-4b0c-ad96-536c8d82bd95",
   "metadata": {
    "tags": []
   },
   "source": [
    "$\\begin{align*}\n",
    "\\hat{y}_t & = \\alpha y_{t-1} + (1-\\alpha) \\hat{y}_{t-1} \\\\\n",
    "\\hat{y}_{t+1} & = \\alpha y_t + (1-\\alpha) \\hat{y}_t \\\\\n",
    "\\end{align*}$\n",
    "\n",
    "- $\\hat{y}_t$ and $\\hat{y}_{t-1}$ are the predictions at time $t$ and $t-1$ respectively\n",
    "- $\\alpha$ is the smoothing constant, by which the most recent time point is weighted, and by which the prior time point's prediction is inversely weighted"
   ]
  },
  {
   "cell_type": "markdown",
   "id": "71f3b215-c2ac-4037-9d0b-e4100551f2e2",
   "metadata": {},
   "source": [
    "$\\begin{align*}\n",
    "\\hat{y}_3 & = \\alpha y_2 + (1-\\alpha) \\ell_2 \\\\\n",
    " & = \\alpha y_2 + (1-\\alpha)[\\alpha y_1 + (1-\\alpha)^2 \\ell_0] \\\\\n",
    "\\hat{y}_4 & = \\alpha y_3 + \\alpha(1-\\alpha) y_2 + \\alpha(1-\\alpha)^2 y_1 + (1-\\alpha)^3 \\ell_0\n",
    "\\end{align*}$\n",
    "\n",
    "- $y_3$ and $y_4$ are the predictions for time-steps $t=3$ and $t=4$ respectively\n",
    "- $\\alpha$ is the smoothing constant\n",
    "- $\\ell_t$ is the smoothed forecast at time $t$"
   ]
  },
  {
   "cell_type": "markdown",
   "id": "fada6530-b9aa-4112-8bc1-cdf4da9aab97",
   "metadata": {},
   "source": [
    "$\\begin{align*}\n",
    "  \\text{Forecast equation}  && \\hat{y}_{t+h} & = \\ell_{t}\\\\\n",
    "  \\text{Smoothing equation} && \\ell_{t}        & = \\alpha y_{t} + (1 - \\alpha)\\ell_{t-1},\n",
    "\\end{align*}$\n",
    "\n",
    "- $\\hat{y}_{t+h}$ is the predicted value at time point $t$ plus $h$ steps ahead\n",
    "- $\\ell_t$ is the smoothed forecast at time $t$\n",
    "- $\\alpha$ is the smoothing constant"
   ]
  },
  {
   "cell_type": "code",
   "execution_count": 6,
   "id": "b70ffdf1-c1b1-4ffd-94c0-fca47652503b",
   "metadata": {},
   "outputs": [],
   "source": [
    "# Adjusted R^2"
   ]
  },
  {
   "cell_type": "markdown",
   "id": "45ab54fb-6bb7-4ffd-bc62-3751e9c155f1",
   "metadata": {},
   "source": [
    "<h4>$\\bar{R}^2 = 1 - \\frac{(1-R^2)(T-1)}{T-k-1}$</h4>\n",
    "\n",
    "- $T$ is the total number of time points\n",
    "- $k$ is the number of parameters"
   ]
  },
  {
   "cell_type": "code",
   "execution_count": null,
   "id": "05ad118f-29af-463c-85d8-dea8b5467fc0",
   "metadata": {},
   "outputs": [],
   "source": [
    "# MSE"
   ]
  },
  {
   "cell_type": "markdown",
   "id": "b5064d35-3eb5-49ec-a8a0-048e8b0a9e14",
   "metadata": {},
   "source": [
    "<h4>$$MSE = \\frac{1}{n} \\sum_{i=1}^n (y_i - \\hat{y}_i)^2$$</h4>"
   ]
  },
  {
   "cell_type": "code",
   "execution_count": 7,
   "id": "0901f4a9-5250-419e-ac79-0792650bf5b5",
   "metadata": {},
   "outputs": [],
   "source": [
    "# RMSE"
   ]
  },
  {
   "cell_type": "markdown",
   "id": "8bb86da9-6cb4-4ed7-a4fc-d5e5d7da09ac",
   "metadata": {},
   "source": [
    "<h4>$$RMSE = \\sqrt{MSE} = \\sqrt{ \\frac{1}{n} \\sum_{i=1}^n (y_i - \\hat{y}_i)^2 }$$</h4>"
   ]
  },
  {
   "cell_type": "code",
   "execution_count": 8,
   "id": "1de256bd-41a4-4bd6-8767-5ede0ff46834",
   "metadata": {},
   "outputs": [],
   "source": [
    "# MAE"
   ]
  },
  {
   "cell_type": "markdown",
   "id": "323c28e0-c1fc-4721-bbe7-0084403ee190",
   "metadata": {},
   "source": [
    "$$MAE = \\frac{1}{n} \\sum_{i=1}^n (y_i - \\hat{y}_i)$$"
   ]
  },
  {
   "cell_type": "code",
   "execution_count": null,
   "id": "ac3fc547-9021-467f-9fb8-aff6c054b253",
   "metadata": {},
   "outputs": [],
   "source": [
    "# MAPE"
   ]
  },
  {
   "cell_type": "markdown",
   "id": "adb48fe4-22be-4fce-b490-a47712cdc480",
   "metadata": {},
   "source": [
    "<h4>$$MAPE = \\frac{1}{n} \\sum_{i=1}^n \\frac{y_i - \\hat{y}_i}{y_i} \\times 100$$</h4>"
   ]
  },
  {
   "cell_type": "code",
   "execution_count": 9,
   "id": "6a1629ac-a478-4d50-9f55-4fdaedca70a3",
   "metadata": {},
   "outputs": [],
   "source": [
    "# Double Exp Smoothing"
   ]
  },
  {
   "cell_type": "markdown",
   "id": "f3adf7ac-195f-4fcf-bc4f-78d613481637",
   "metadata": {},
   "source": [
    "$\\begin{align*}\n",
    "  \\text{Forecast equation}&& \\hat{y}_{t+h} &= \\ell_{t} + hb_{t} \\\\\n",
    "  \\text{Level equation}   && \\ell_{t} &= \\alpha y_{t} + (1 - \\alpha)(\\ell_{t-1} + b_{t-1})\\\\\n",
    "  \\text{Trend equation}   && b_{t}    &= \\beta^*(\\ell_{t} - \\ell_{t-1}) + (1 -\\beta^*)b_{t-1}\n",
    "\\end{align*}$\n",
    "\n",
    "- $\\hat{y}_{t+h}$ is the prediction for $h$ steps ahead of time point $t$\n",
    "- $\\ell_t$ is the level (the smoothed forecast) at time $t$\n",
    "- $h$ is the number of days ahead of $t$ to forecast for\n",
    "- $b_t$ is an estimate of the slope (trend) at time point $t$\n",
    "- $\\alpha$ is the smoothing constant\n",
    "- $\\beta^*$ is the smoothing parameter for the trend"
   ]
  },
  {
   "cell_type": "code",
   "execution_count": 10,
   "id": "2b1be31f-f18e-4f8d-8dc1-5b3189ebb585",
   "metadata": {},
   "outputs": [],
   "source": [
    "# Damped Double Exp Smoothing"
   ]
  },
  {
   "cell_type": "markdown",
   "id": "5b1880f3-7618-4af9-9dba-4848b51e53af",
   "metadata": {
    "tags": []
   },
   "source": [
    "$\\begin{align*}\n",
    "  \\text{Forecast equation}&& \\hat{y}_{t+h} &= \\ell_{t} + (\\phi+\\phi^2 + \\dots + \\phi^{h}) ~b_{t} \\\\\n",
    "  \\text{Level equation}   && \\ell_{t} &= \\alpha y_{t} + (1 - \\alpha)(\\ell_{t-1} + \\phi ~b_{t-1})\\\\\n",
    "  \\text{Trend equation}   && b_{t} &= \\beta^*(\\ell_{t} - \\ell_{t-1}) + (1 -\\beta^*) ~\\phi ~b_{t-1} \\\\\n",
    "\\end{align*}$\n",
    "\n",
    "- $\\phi$ is the dampening constant"
   ]
  },
  {
   "cell_type": "code",
   "execution_count": null,
   "id": "8e4314cb-e6cf-4372-97ed-55ebb878684f",
   "metadata": {},
   "outputs": [],
   "source": []
  }
 ],
 "metadata": {
  "kernelspec": {
   "display_name": "Python 3 (ipykernel)",
   "language": "python",
   "name": "python3"
  },
  "language_info": {
   "codemirror_mode": {
    "name": "ipython",
    "version": 3
   },
   "file_extension": ".py",
   "mimetype": "text/x-python",
   "name": "python",
   "nbconvert_exporter": "python",
   "pygments_lexer": "ipython3",
   "version": "3.11.5"
  }
 },
 "nbformat": 4,
 "nbformat_minor": 5
}
