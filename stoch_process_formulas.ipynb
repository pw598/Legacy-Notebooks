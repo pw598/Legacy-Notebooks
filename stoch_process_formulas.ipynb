{
 "cells": [
  {
   "cell_type": "code",
   "execution_count": null,
   "id": "1ee9a639-cc82-4f16-bf29-b22a54038af4",
   "metadata": {},
   "outputs": [],
   "source": []
  },
  {
   "cell_type": "markdown",
   "id": "167a4c4f-6ca4-4e81-8e22-db16f7c0824e",
   "metadata": {},
   "source": [
    "<h4>$P(N(t)=k) = \\frac{(\\lambda t)^k}{k!} e^{-\\lambda t}$</h4>\n",
    "<ul>\n",
    "    <li>$N(t)$ is the number of events in the interval $[0, t]$</li>\n",
    "    <li>$\\lambda$ is the average rate of events per unit of time</li>\n",
    "    <li>$k$ is the number of events observed</li>\n",
    "    <li>$k!$ is the factorial of $k$</li>\n",
    "</ul>"
   ]
  },
  {
   "cell_type": "code",
   "execution_count": null,
   "id": "4a9e07ce-ebbd-43a1-b380-93fd0db226f6",
   "metadata": {},
   "outputs": [],
   "source": []
  },
  {
   "cell_type": "markdown",
   "id": "fe736d96-d708-45f4-a543-5158e11021fc",
   "metadata": {},
   "source": [
    "<h4>$P(N(t)=6) = \\frac{(5(1))^6}{6!} ~e^{-5(1)} = 0.146223$</h4>"
   ]
  },
  {
   "cell_type": "code",
   "execution_count": null,
   "id": "9c4eadb9-f191-46fb-9f79-c92951980d76",
   "metadata": {},
   "outputs": [],
   "source": []
  },
  {
   "cell_type": "code",
   "execution_count": null,
   "id": "82663641-50e1-464d-b794-20da5f32f120",
   "metadata": {},
   "outputs": [],
   "source": [
    "# Gaussian Processes"
   ]
  },
  {
   "cell_type": "markdown",
   "id": "162ac31a-9993-4743-953d-b08742fe00e7",
   "metadata": {},
   "source": [
    "<h4>$f(\\mathbf{x}) ~\\text{~} \\mathcal{N} \\left( m(\\mathbf{x}, \\mathbf{\\Sigma}) \\right)$</h4>"
   ]
  },
  {
   "cell_type": "markdown",
   "id": "8f9b433a-d7c5-4805-8f37-4e7dc888e2b6",
   "metadata": {},
   "source": [
    "$\\begin{bmatrix} f(X_1) \\\\ f(X_2) \\\\ f(X_3) \\\\ \\end{bmatrix} ~\\text{~} \\mathcal{N} ~\\left( \\begin{bmatrix} m(X_1) \\\\ m(X_2) \\\\ m(X_3) \\\\ \\end{bmatrix} , \\begin{bmatrix} k(X_1, X_1)   & k(X_1, X_2)   & k(X_1, X_3) \\\\ k(X_1, X_2)^T & k(X_2, X_2)   & k(X_2, X_3) \\\\ k(X_1, X_3)^T & k(X_2, X_3)^T & k(X_3, X_3) \\\\ \\end{bmatrix} \\right)$"
   ]
  },
  {
   "cell_type": "code",
   "execution_count": null,
   "id": "96eb479a-7371-41ef-8727-205d3a1903b8",
   "metadata": {},
   "outputs": [],
   "source": [
    "# RBF Kernel"
   ]
  },
  {
   "cell_type": "markdown",
   "id": "8f19c5d4-a766-4481-91dd-c2ad5b4bb70b",
   "metadata": {},
   "source": [
    "<h4>$RBF(x, x') = \\sigma^2 ~exp \\left( - \\frac{(x - x')^2}{2 \\ell^2} \\right)$</h4>\n",
    "<ul>\n",
    "    <li>$\\ell$ is the length-scaling parameter</li>\n",
    "    <li>$\\sigma^2$ is the signal variance</li>\n",
    "</ul>"
   ]
  },
  {
   "cell_type": "code",
   "execution_count": null,
   "id": "d4673775-4c2c-4191-a706-78bb431453d9",
   "metadata": {},
   "outputs": [],
   "source": [
    "# Multivariate Gaussian"
   ]
  },
  {
   "cell_type": "markdown",
   "id": "ea76ff67-29ef-440c-b6b3-352036f6d087",
   "metadata": {},
   "source": [
    "<p>The PDF of a multivariate Gaussian distribution is given by:</p>\n",
    "\n",
    "<h4>$\n",
    "f(\\mathbf{x} | \\mathbf{\\mu}, \\mathbf{\\Sigma}) = \n",
    "\\frac{1}{(2 \\pi)^{n/2} |\\mathbf{\\Sigma}|^{1/2}}\n",
    "exp \\left( - \\frac{1}{2}(\\mathbf{x} - \\mathbf{\\mu})^T \\mathbf{\\Sigma}^{-1} (\\mathbf{x} - \\mathbf{\\mu}) \\right)\n",
    "$\n",
    "</h4>\n",
    "<ul>\n",
    "    <li>$\\mathbf{x}$ is an $n$-dimensional vector representing a sample from the distribution</li>\n",
    "    <li>$\\mathbf{\\mu}$ is the mean vector of the distribution, also of dimension $n$</li>\n",
    "    <li>$\\mathbf{\\Sigma}$ is the covariance matrix of the distribution, of size $n \\times n$</li>\n",
    "    <li>$| \\mathbf{\\Sigma} |$ is the determinant of the covariance matrix</li>\n",
    "    <li>$(\\mathbf{x} - \\mathbf{\\mu})^T$ is the transpose of the difference vector $\\mathbf{x} - \\mathbf{\\mu}$</li>\n",
    "</ul>"
   ]
  },
  {
   "cell_type": "code",
   "execution_count": null,
   "id": "97b17dfb-c5e5-4929-b0e7-e647bf8c1eff",
   "metadata": {},
   "outputs": [],
   "source": []
  },
  {
   "cell_type": "code",
   "execution_count": null,
   "id": "c58d59df-789a-4638-9ce8-75cde7481fa6",
   "metadata": {},
   "outputs": [],
   "source": []
  }
 ],
 "metadata": {
  "kernelspec": {
   "display_name": "Python 3 (ipykernel)",
   "language": "python",
   "name": "python3"
  },
  "language_info": {
   "codemirror_mode": {
    "name": "ipython",
    "version": 3
   },
   "file_extension": ".py",
   "mimetype": "text/x-python",
   "name": "python",
   "nbconvert_exporter": "python",
   "pygments_lexer": "ipython3",
   "version": "3.11.5"
  }
 },
 "nbformat": 4,
 "nbformat_minor": 5
}
