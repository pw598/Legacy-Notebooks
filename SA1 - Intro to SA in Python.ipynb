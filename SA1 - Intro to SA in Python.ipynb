{
 "cells": [
  {
   "cell_type": "markdown",
   "id": "10ca3b96",
   "metadata": {},
   "source": [
    "# <i>Survival Analysis I: </i>\n",
    "## <i>Introduction to Survival Analysis in Python</i>"
   ]
  },
  {
   "cell_type": "markdown",
   "id": "8d0172ef",
   "metadata": {},
   "source": [
    "## Applications\n",
    "\n",
    "<p>Survival analysis studies survival times and factors that influence them; it is a statistical method to investigate the expected amount of time before an event of interest occurs. In medicine, it refers to patient survival times; in engineering, it refers to time-to-failure, and in economics, duration analysis. In business, it can be applied to assess elements such as customer and employee retention.</p>"
   ]
  },
  {
   "cell_type": "markdown",
   "id": "77ed2254",
   "metadata": {},
   "source": [
    "## Objectives\n",
    "The goal of a survival analysis is to estimate the survival distribution (i.e. function), compare two or more survival curves, and/or assess the effects of a number of factors on survival. It is a type of regression problem, but differs in that parts of the training data are censored, and can only be partially observed."
   ]
  },
  {
   "cell_type": "markdown",
   "id": "9453c9c4",
   "metadata": {},
   "source": [
    "## Censoring\n",
    "\n",
    "<p>Censoring occurs when we only have partial information about an individual's survival time. This could include a loss of contact situation, or simply the subject not having experienced the event of interest by the time of the close of the study. Ignoring censoring results in the overestimation of survival probabilities.</p>\n",
    "\n",
    "<p>Left-censored data refers to an unavailability of data at the start of the timeline. For example, if the start date of an illness is not known. Right-censoring is more common, and means the survival duration is greater than the observed duration. A third case is interval censoring, in which the survival duration of an individual cannot be defined for some time-interval.</p>"
   ]
  },
  {
   "cell_type": "markdown",
   "id": "cd181220",
   "metadata": {},
   "source": [
    "## Basic Quantities\n",
    "\n",
    "<p>Two key ways of specifying the survival curve are the survival function and the hazard function.</p>\n",
    "\n",
    "\n",
    "<h3>The Survival Function</h3>\n",
    "\n",
    "<p>Given a survival curve, we compute the expected remaining lifetime as a function of current age. $S(t)$ represents the probability of living past some time.</p>\n",
    "\n",
    "<h3>$S(t) = Pr(T \\gt t)$</h3>\n",
    "\n",
    "<p>It has the properties of $S(0) = 1$ and $S(\\infty) = 0$. Its relation to the non-negative and non-decreasing cumulative hazard function $H(t)$ is:</p>\n",
    "\n",
    "<h3>$S(t) = exp(-H(t))$</h3>\n",
    "\n",
    "<p>If we were able to observe a survival time for all subjects, then $\\hat{S}(t)$ is simply equal to the number of subjects who survived beyond that time $t$, divided by the total number of subjects. But in the presence of censoring, that numerator is not defined.</p>\n",
    "\n",
    "\n",
    "\n",
    "<h3>The Hazard Function</h3>\n",
    "\n",
    "<p>The survival function is often defined in terms of the hazard function, which is the instantaneous rate of failure, i.e., the probability that a subject fails in the next interval of time, given that they have survived up to time $t$. The hazard function is related to the PDF and survival functions by:</p>\n",
    "\n",
    "<h2>$h(t) = \\frac{f(t)}{S(t)}$</h2>\n",
    "\n",
    "<p>In other words, the hazard at time $t$ is the probability that an event occurs in the neighborhood of time $t$, divided by the probability that the subject is alive at time $t$. The cumulative hazard function is the area under the hazard function up to time $t$, i.e.:</p>\n",
    "\n",
    "<h3>$H(t) = \\int_0^t h(u) ~du$</h3>\n",
    "\n",
    "<p>The hazard function is the derivative of the cumulative hazard function:</p>\n",
    "\n",
    "<h2>$h(t) = \\frac{dH(t)}{dt}$</h2>\n",
    "\n",
    "<p>The survival function may be defined in terms of the hazard function by:</p>\n",
    "\n",
    "<h3>$S(t) = exp \\left( - \\int_0^t h(u) ~du \\right) = exp(-H(t))$</h3>"
   ]
  },
  {
   "cell_type": "markdown",
   "id": "d106ef44",
   "metadata": {},
   "source": [
    "# Packages Available in Python"
   ]
  },
  {
   "cell_type": "markdown",
   "id": "9bf318e5",
   "metadata": {},
   "source": [
    "Python has packages <i>lifelines</i> and <i>scikit-survival</i>, which are easy to install and to use, and have extensive documentation.\n",
    "\n",
    "- https://lifelines.readthedocs.io/en/latest/index.html\n",
    "\n",
    "- https://scikit-survival.readthedocs.io/en/stable/index.html\n",
    "\n",
    "\n",
    "Both packages provide numerous datasets to practice on:\n",
    "\n",
    "- https://lifelines.readthedocs.io/en/latest/lifelines.datasets.html\n",
    "\n",
    "- https://scikit-survival.readthedocs.io/en/stable/api/datasets.html"
   ]
  },
  {
   "cell_type": "markdown",
   "id": "74e94d9d",
   "metadata": {},
   "source": [
    "We will work with a breast cancer dataset that happens to be available in both packages."
   ]
  },
  {
   "cell_type": "markdown",
   "id": "78b60415",
   "metadata": {},
   "source": [
    "# Loading the Breast Cancer Dataset in sksurv"
   ]
  },
  {
   "cell_type": "markdown",
   "id": "99d1dd33",
   "metadata": {},
   "source": [
    "In scikit-survival (sksurv), the call to the loading function returns a dataset partitioned into $X$ and $y$ values, where the $y$ values contain two pieces of information - the time, and whether or not the subject was censored at that time."
   ]
  },
  {
   "cell_type": "code",
   "execution_count": null,
   "id": "d8c3e8f8",
   "metadata": {},
   "outputs": [],
   "source": [
    "# !pip install --upgrade scikit-survival"
   ]
  },
  {
   "cell_type": "code",
   "execution_count": 4,
   "id": "56e6c1e2",
   "metadata": {},
   "outputs": [
    {
     "name": "stdout",
     "output_type": "stream",
     "text": [
      "<class 'pandas.core.frame.DataFrame'> (686, 8)\n",
      "<class 'numpy.ndarray'> (686,)\n",
      "<class 'pandas.core.frame.DataFrame'> (686, 2)\n"
     ]
    }
   ],
   "source": [
    "import pandas as pd\n",
    "import numpy as np\n",
    "from sksurv.datasets import load_gbsg2\n",
    "\n",
    "data_x, data_y = load_gbsg2()\n",
    "print(type(data_x), np.shape(data_x))\n",
    "print(type(data_y), np.shape(data_y))\n",
    "print(type(pd.DataFrame(data_y)), np.shape(pd.DataFrame(data_y)))"
   ]
  },
  {
   "cell_type": "markdown",
   "id": "ec4f78a1",
   "metadata": {},
   "source": [
    "Notice that the $y$ portion of the dataset is returned as an array, whereas the  $X$ portion is returned as a dataframe. We can convert it to a dataframe if desired."
   ]
  },
  {
   "cell_type": "code",
   "execution_count": 5,
   "id": "4e66ab66",
   "metadata": {
    "scrolled": true
   },
   "outputs": [
    {
     "data": {
      "text/html": [
       "<div>\n",
       "<style scoped>\n",
       "    .dataframe tbody tr th:only-of-type {\n",
       "        vertical-align: middle;\n",
       "    }\n",
       "\n",
       "    .dataframe tbody tr th {\n",
       "        vertical-align: top;\n",
       "    }\n",
       "\n",
       "    .dataframe thead th {\n",
       "        text-align: right;\n",
       "    }\n",
       "</style>\n",
       "<table border=\"1\" class=\"dataframe\">\n",
       "  <thead>\n",
       "    <tr style=\"text-align: right;\">\n",
       "      <th></th>\n",
       "      <th>age</th>\n",
       "      <th>estrec</th>\n",
       "      <th>horTh</th>\n",
       "      <th>menostat</th>\n",
       "      <th>pnodes</th>\n",
       "      <th>progrec</th>\n",
       "      <th>tgrade</th>\n",
       "      <th>tsize</th>\n",
       "    </tr>\n",
       "  </thead>\n",
       "  <tbody>\n",
       "    <tr>\n",
       "      <th>0</th>\n",
       "      <td>70.0</td>\n",
       "      <td>66.0</td>\n",
       "      <td>no</td>\n",
       "      <td>Post</td>\n",
       "      <td>3.0</td>\n",
       "      <td>48.0</td>\n",
       "      <td>II</td>\n",
       "      <td>21.0</td>\n",
       "    </tr>\n",
       "    <tr>\n",
       "      <th>1</th>\n",
       "      <td>56.0</td>\n",
       "      <td>77.0</td>\n",
       "      <td>yes</td>\n",
       "      <td>Post</td>\n",
       "      <td>7.0</td>\n",
       "      <td>61.0</td>\n",
       "      <td>II</td>\n",
       "      <td>12.0</td>\n",
       "    </tr>\n",
       "    <tr>\n",
       "      <th>2</th>\n",
       "      <td>58.0</td>\n",
       "      <td>271.0</td>\n",
       "      <td>yes</td>\n",
       "      <td>Post</td>\n",
       "      <td>9.0</td>\n",
       "      <td>52.0</td>\n",
       "      <td>II</td>\n",
       "      <td>35.0</td>\n",
       "    </tr>\n",
       "    <tr>\n",
       "      <th>3</th>\n",
       "      <td>59.0</td>\n",
       "      <td>29.0</td>\n",
       "      <td>yes</td>\n",
       "      <td>Post</td>\n",
       "      <td>4.0</td>\n",
       "      <td>60.0</td>\n",
       "      <td>II</td>\n",
       "      <td>17.0</td>\n",
       "    </tr>\n",
       "    <tr>\n",
       "      <th>4</th>\n",
       "      <td>73.0</td>\n",
       "      <td>65.0</td>\n",
       "      <td>no</td>\n",
       "      <td>Post</td>\n",
       "      <td>1.0</td>\n",
       "      <td>26.0</td>\n",
       "      <td>II</td>\n",
       "      <td>35.0</td>\n",
       "    </tr>\n",
       "  </tbody>\n",
       "</table>\n",
       "</div>"
      ],
      "text/plain": [
       "    age  estrec horTh menostat  pnodes  progrec tgrade  tsize\n",
       "0  70.0    66.0    no     Post     3.0     48.0     II   21.0\n",
       "1  56.0    77.0   yes     Post     7.0     61.0     II   12.0\n",
       "2  58.0   271.0   yes     Post     9.0     52.0     II   35.0\n",
       "3  59.0    29.0   yes     Post     4.0     60.0     II   17.0\n",
       "4  73.0    65.0    no     Post     1.0     26.0     II   35.0"
      ]
     },
     "execution_count": 5,
     "metadata": {},
     "output_type": "execute_result"
    }
   ],
   "source": [
    "data_x.head()"
   ]
  },
  {
   "cell_type": "code",
   "execution_count": 6,
   "id": "e410fb0b",
   "metadata": {},
   "outputs": [
    {
     "data": {
      "text/html": [
       "<div>\n",
       "<style scoped>\n",
       "    .dataframe tbody tr th:only-of-type {\n",
       "        vertical-align: middle;\n",
       "    }\n",
       "\n",
       "    .dataframe tbody tr th {\n",
       "        vertical-align: top;\n",
       "    }\n",
       "\n",
       "    .dataframe thead th {\n",
       "        text-align: right;\n",
       "    }\n",
       "</style>\n",
       "<table border=\"1\" class=\"dataframe\">\n",
       "  <thead>\n",
       "    <tr style=\"text-align: right;\">\n",
       "      <th></th>\n",
       "      <th>cens</th>\n",
       "      <th>time</th>\n",
       "    </tr>\n",
       "  </thead>\n",
       "  <tbody>\n",
       "    <tr>\n",
       "      <th>0</th>\n",
       "      <td>True</td>\n",
       "      <td>1814.0</td>\n",
       "    </tr>\n",
       "    <tr>\n",
       "      <th>1</th>\n",
       "      <td>True</td>\n",
       "      <td>2018.0</td>\n",
       "    </tr>\n",
       "    <tr>\n",
       "      <th>2</th>\n",
       "      <td>True</td>\n",
       "      <td>712.0</td>\n",
       "    </tr>\n",
       "    <tr>\n",
       "      <th>3</th>\n",
       "      <td>True</td>\n",
       "      <td>1807.0</td>\n",
       "    </tr>\n",
       "    <tr>\n",
       "      <th>4</th>\n",
       "      <td>True</td>\n",
       "      <td>772.0</td>\n",
       "    </tr>\n",
       "  </tbody>\n",
       "</table>\n",
       "</div>"
      ],
      "text/plain": [
       "   cens    time\n",
       "0  True  1814.0\n",
       "1  True  2018.0\n",
       "2  True   712.0\n",
       "3  True  1807.0\n",
       "4  True   772.0"
      ]
     },
     "execution_count": 6,
     "metadata": {},
     "output_type": "execute_result"
    }
   ],
   "source": [
    "data_y = pd.DataFrame(data_y)\n",
    "data_y.head()"
   ]
  },
  {
   "cell_type": "markdown",
   "id": "ceade6b0",
   "metadata": {},
   "source": [
    "# Loading the Breast Cancer Dataset in Lifelines"
   ]
  },
  {
   "cell_type": "code",
   "execution_count": 7,
   "id": "048947f9",
   "metadata": {},
   "outputs": [],
   "source": [
    "# !pip install --upgrade lifelines"
   ]
  },
  {
   "cell_type": "markdown",
   "id": "bfdbd631",
   "metadata": {},
   "source": [
    "In lifelines, the dataset is returned as a single dataframe, and it is up to the user to specify which columns contain the $y$ values."
   ]
  },
  {
   "cell_type": "code",
   "execution_count": 8,
   "id": "6f475923",
   "metadata": {},
   "outputs": [
    {
     "name": "stdout",
     "output_type": "stream",
     "text": [
      "(686, 10)\n"
     ]
    }
   ],
   "source": [
    "import lifelines\n",
    "data = lifelines.datasets.load_gbsg2()\n",
    "print(np.shape(data))"
   ]
  },
  {
   "cell_type": "code",
   "execution_count": 9,
   "id": "5c0ee2b6",
   "metadata": {},
   "outputs": [
    {
     "data": {
      "text/html": [
       "<div>\n",
       "<style scoped>\n",
       "    .dataframe tbody tr th:only-of-type {\n",
       "        vertical-align: middle;\n",
       "    }\n",
       "\n",
       "    .dataframe tbody tr th {\n",
       "        vertical-align: top;\n",
       "    }\n",
       "\n",
       "    .dataframe thead th {\n",
       "        text-align: right;\n",
       "    }\n",
       "</style>\n",
       "<table border=\"1\" class=\"dataframe\">\n",
       "  <thead>\n",
       "    <tr style=\"text-align: right;\">\n",
       "      <th></th>\n",
       "      <th>horTh</th>\n",
       "      <th>age</th>\n",
       "      <th>menostat</th>\n",
       "      <th>tsize</th>\n",
       "      <th>tgrade</th>\n",
       "      <th>pnodes</th>\n",
       "      <th>progrec</th>\n",
       "      <th>estrec</th>\n",
       "      <th>time</th>\n",
       "      <th>cens</th>\n",
       "    </tr>\n",
       "  </thead>\n",
       "  <tbody>\n",
       "    <tr>\n",
       "      <th>0</th>\n",
       "      <td>no</td>\n",
       "      <td>70</td>\n",
       "      <td>Post</td>\n",
       "      <td>21</td>\n",
       "      <td>II</td>\n",
       "      <td>3</td>\n",
       "      <td>48</td>\n",
       "      <td>66</td>\n",
       "      <td>1814</td>\n",
       "      <td>1</td>\n",
       "    </tr>\n",
       "    <tr>\n",
       "      <th>1</th>\n",
       "      <td>yes</td>\n",
       "      <td>56</td>\n",
       "      <td>Post</td>\n",
       "      <td>12</td>\n",
       "      <td>II</td>\n",
       "      <td>7</td>\n",
       "      <td>61</td>\n",
       "      <td>77</td>\n",
       "      <td>2018</td>\n",
       "      <td>1</td>\n",
       "    </tr>\n",
       "    <tr>\n",
       "      <th>2</th>\n",
       "      <td>yes</td>\n",
       "      <td>58</td>\n",
       "      <td>Post</td>\n",
       "      <td>35</td>\n",
       "      <td>II</td>\n",
       "      <td>9</td>\n",
       "      <td>52</td>\n",
       "      <td>271</td>\n",
       "      <td>712</td>\n",
       "      <td>1</td>\n",
       "    </tr>\n",
       "    <tr>\n",
       "      <th>3</th>\n",
       "      <td>yes</td>\n",
       "      <td>59</td>\n",
       "      <td>Post</td>\n",
       "      <td>17</td>\n",
       "      <td>II</td>\n",
       "      <td>4</td>\n",
       "      <td>60</td>\n",
       "      <td>29</td>\n",
       "      <td>1807</td>\n",
       "      <td>1</td>\n",
       "    </tr>\n",
       "    <tr>\n",
       "      <th>4</th>\n",
       "      <td>no</td>\n",
       "      <td>73</td>\n",
       "      <td>Post</td>\n",
       "      <td>35</td>\n",
       "      <td>II</td>\n",
       "      <td>1</td>\n",
       "      <td>26</td>\n",
       "      <td>65</td>\n",
       "      <td>772</td>\n",
       "      <td>1</td>\n",
       "    </tr>\n",
       "  </tbody>\n",
       "</table>\n",
       "</div>"
      ],
      "text/plain": [
       "  horTh  age menostat  tsize tgrade  pnodes  progrec  estrec  time  cens\n",
       "0    no   70     Post     21     II       3       48      66  1814     1\n",
       "1   yes   56     Post     12     II       7       61      77  2018     1\n",
       "2   yes   58     Post     35     II       9       52     271   712     1\n",
       "3   yes   59     Post     17     II       4       60      29  1807     1\n",
       "4    no   73     Post     35     II       1       26      65   772     1"
      ]
     },
     "execution_count": 9,
     "metadata": {},
     "output_type": "execute_result"
    }
   ],
   "source": [
    "data.head()"
   ]
  },
  {
   "cell_type": "code",
   "execution_count": 10,
   "id": "1e340774",
   "metadata": {},
   "outputs": [
    {
     "data": {
      "text/html": [
       "<div>\n",
       "<style scoped>\n",
       "    .dataframe tbody tr th:only-of-type {\n",
       "        vertical-align: middle;\n",
       "    }\n",
       "\n",
       "    .dataframe tbody tr th {\n",
       "        vertical-align: top;\n",
       "    }\n",
       "\n",
       "    .dataframe thead th {\n",
       "        text-align: right;\n",
       "    }\n",
       "</style>\n",
       "<table border=\"1\" class=\"dataframe\">\n",
       "  <thead>\n",
       "    <tr style=\"text-align: right;\">\n",
       "      <th></th>\n",
       "      <th>horTh</th>\n",
       "      <th>age</th>\n",
       "      <th>menostat</th>\n",
       "      <th>tsize</th>\n",
       "      <th>tgrade</th>\n",
       "      <th>pnodes</th>\n",
       "      <th>progrec</th>\n",
       "      <th>estrec</th>\n",
       "    </tr>\n",
       "  </thead>\n",
       "  <tbody>\n",
       "    <tr>\n",
       "      <th>0</th>\n",
       "      <td>no</td>\n",
       "      <td>70</td>\n",
       "      <td>Post</td>\n",
       "      <td>21</td>\n",
       "      <td>II</td>\n",
       "      <td>3</td>\n",
       "      <td>48</td>\n",
       "      <td>66</td>\n",
       "    </tr>\n",
       "    <tr>\n",
       "      <th>1</th>\n",
       "      <td>yes</td>\n",
       "      <td>56</td>\n",
       "      <td>Post</td>\n",
       "      <td>12</td>\n",
       "      <td>II</td>\n",
       "      <td>7</td>\n",
       "      <td>61</td>\n",
       "      <td>77</td>\n",
       "    </tr>\n",
       "    <tr>\n",
       "      <th>2</th>\n",
       "      <td>yes</td>\n",
       "      <td>58</td>\n",
       "      <td>Post</td>\n",
       "      <td>35</td>\n",
       "      <td>II</td>\n",
       "      <td>9</td>\n",
       "      <td>52</td>\n",
       "      <td>271</td>\n",
       "    </tr>\n",
       "    <tr>\n",
       "      <th>3</th>\n",
       "      <td>yes</td>\n",
       "      <td>59</td>\n",
       "      <td>Post</td>\n",
       "      <td>17</td>\n",
       "      <td>II</td>\n",
       "      <td>4</td>\n",
       "      <td>60</td>\n",
       "      <td>29</td>\n",
       "    </tr>\n",
       "    <tr>\n",
       "      <th>4</th>\n",
       "      <td>no</td>\n",
       "      <td>73</td>\n",
       "      <td>Post</td>\n",
       "      <td>35</td>\n",
       "      <td>II</td>\n",
       "      <td>1</td>\n",
       "      <td>26</td>\n",
       "      <td>65</td>\n",
       "    </tr>\n",
       "  </tbody>\n",
       "</table>\n",
       "</div>"
      ],
      "text/plain": [
       "  horTh  age menostat  tsize tgrade  pnodes  progrec  estrec\n",
       "0    no   70     Post     21     II       3       48      66\n",
       "1   yes   56     Post     12     II       7       61      77\n",
       "2   yes   58     Post     35     II       9       52     271\n",
       "3   yes   59     Post     17     II       4       60      29\n",
       "4    no   73     Post     35     II       1       26      65"
      ]
     },
     "execution_count": 10,
     "metadata": {},
     "output_type": "execute_result"
    }
   ],
   "source": [
    "idx = len(data.columns) - 2\n",
    "data_x = data.iloc[:,:idx]\n",
    "data_y = data.iloc[:,idx:]\n",
    "data_x.head()"
   ]
  },
  {
   "cell_type": "code",
   "execution_count": 11,
   "id": "18b95d73",
   "metadata": {},
   "outputs": [
    {
     "data": {
      "text/html": [
       "<div>\n",
       "<style scoped>\n",
       "    .dataframe tbody tr th:only-of-type {\n",
       "        vertical-align: middle;\n",
       "    }\n",
       "\n",
       "    .dataframe tbody tr th {\n",
       "        vertical-align: top;\n",
       "    }\n",
       "\n",
       "    .dataframe thead th {\n",
       "        text-align: right;\n",
       "    }\n",
       "</style>\n",
       "<table border=\"1\" class=\"dataframe\">\n",
       "  <thead>\n",
       "    <tr style=\"text-align: right;\">\n",
       "      <th></th>\n",
       "      <th>time</th>\n",
       "      <th>cens</th>\n",
       "    </tr>\n",
       "  </thead>\n",
       "  <tbody>\n",
       "    <tr>\n",
       "      <th>0</th>\n",
       "      <td>1814</td>\n",
       "      <td>1</td>\n",
       "    </tr>\n",
       "    <tr>\n",
       "      <th>1</th>\n",
       "      <td>2018</td>\n",
       "      <td>1</td>\n",
       "    </tr>\n",
       "    <tr>\n",
       "      <th>2</th>\n",
       "      <td>712</td>\n",
       "      <td>1</td>\n",
       "    </tr>\n",
       "    <tr>\n",
       "      <th>3</th>\n",
       "      <td>1807</td>\n",
       "      <td>1</td>\n",
       "    </tr>\n",
       "    <tr>\n",
       "      <th>4</th>\n",
       "      <td>772</td>\n",
       "      <td>1</td>\n",
       "    </tr>\n",
       "  </tbody>\n",
       "</table>\n",
       "</div>"
      ],
      "text/plain": [
       "   time  cens\n",
       "0  1814     1\n",
       "1  2018     1\n",
       "2   712     1\n",
       "3  1807     1\n",
       "4   772     1"
      ]
     },
     "execution_count": 11,
     "metadata": {},
     "output_type": "execute_result"
    }
   ],
   "source": [
    "data_y.head()"
   ]
  },
  {
   "cell_type": "markdown",
   "id": "b7ff769f",
   "metadata": {},
   "source": [
    "# Types of Statistical Methods"
   ]
  },
  {
   "cell_type": "markdown",
   "id": "9c1d9dcf",
   "metadata": {},
   "source": [
    "<p>There are three types of statistical methods used to estimate survival and hazard functions:</p>\n",
    "    <ol>\n",
    "        <li>Non-Parametric (e.g. Kaplan-Meier estimator)</li>\n",
    "        <li>Semi-Parametric (e.g. Cox proportional hazards model)</li>\n",
    "        <li>Parametric (e.g. Weibull model, Exponential model)</li>\n",
    "    </ol>\n",
    "\n",
    "<p>Parametric refers to methods using distributions which adhere to a particular shape given by density function parameters. For non-parametric models, an empirical estimation of the survival function is obtained, and in semi-parametric methods, there is a little of both.</p>\n",
    "\n",
    "<p>Subsequent articles are largely drawn from the lifelines documentation, and discuss each type of method. You can find the next one **here**</p>"
   ]
  },
  {
   "cell_type": "markdown",
   "id": "34c10383-f553-4f4f-a24f-10bffc773058",
   "metadata": {},
   "source": [
    "# References\n",
    "\n",
    "1. (n.d.). Lifelines Documentation. Lifelines. https://lifelines.readthedocs.io/en/latest/\n",
    "2. Moore, D. F. (2016). Applied Survival Analysis in R. Springer International Publishing Switzerland 2016.\n",
    "3. (n.d.). Scikit-Survival Documentation. https://scikit-survival.readthedocs.io/en/stable/user_guide/index.html\n",
    "4. [Udemy]. (2019, April 1). Survival Analysis in R [Video]. Udemy. https://www.udemy.com/course/survival-analysis-in-r/\n",
    "5. (2019, January 6). Survival Analysis Intuition and Implementation in Python. Towards Data Science. https://towardsdatascience.com/survival-analysis-intuition-implementation-in-python-504fde4fcf8e\n",
    "6. Lewinson, E. (2020, August 17). Introduction to Survival Analysis: The Kaplan-Meier estimator. Towards Data Science. https://towardsdatascience.com/introduction-to-survival-analysis-the-kaplan-meier-estimator-94ec5812a97a\n",
    "7. Lewinson, E. (2020, July 23). The Cox Proportional Hazards Model. Towards Data Science. https://towardsdatascience.com/the-cox-proportional-hazards-model-35e60e554d8f\n",
    "8. Lewinson, E. (2020, August 23). Introduction to Survival Analysis: The Nelson-Aalen estimator. Towards Data Science. https://towardsdatascience.com/introduction-to-survival-analysis-the-nelson-aalen-estimator-9780c63d549d"
   ]
  }
 ],
 "metadata": {
  "kernelspec": {
   "display_name": "Python 3 (ipykernel)",
   "language": "python",
   "name": "python3"
  },
  "language_info": {
   "codemirror_mode": {
    "name": "ipython",
    "version": 3
   },
   "file_extension": ".py",
   "mimetype": "text/x-python",
   "name": "python",
   "nbconvert_exporter": "python",
   "pygments_lexer": "ipython3",
   "version": "3.11.4"
  }
 },
 "nbformat": 4,
 "nbformat_minor": 5
}
