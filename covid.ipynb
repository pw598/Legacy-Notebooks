{
  "nbformat": 4,
  "nbformat_minor": 0,
  "metadata": {
    "colab": {
      "provenance": []
    },
    "kernelspec": {
      "name": "ir",
      "display_name": "R"
    },
    "language_info": {
      "name": "R"
    }
  },
  "cells": [
    {
      "cell_type": "code",
      "execution_count": 20,
      "metadata": {
        "id": "lcQYowGWYxD5"
      },
      "outputs": [],
      "source": [
        "# install.packages(\"BiocManager\")\n",
        "# library(\"BiocManager\")\n",
        "\n",
        "# BiocManager::install(\"rstan\")\n",
        "# BiocManager::install(\"outbreaks\")\n",
        "\n",
        "library(rstan)\n",
        "library(outbreaks)\n",
        "library(tidyverse)\n",
        "library(gridExtra)"
      ]
    },
    {
      "cell_type": "markdown",
      "source": [
        "abstract: This tutorial shows how to build, fit, and criticize disease transmission models in Stan, and should be useful to researchers interested in modeling the COVID-19 outbreak and doing Bayesian inference. Bayesian modeling provides a principled way to quantify uncertainty and incorporate prior knowledge into the model. What is more, Stan's main inference engine, Hamiltonian Monte Carlo sampling, is amiable to diagnostics, which means we can verify whether our inference is reliable. Stan is an expressive probabilistic programing language that abstracts the inference and allows users to focus on the modeling. The resulting code is readable and easily extensible, which makes the modeler's work more transparent and flexible. In this tutorial, we demonstrate with a simple Susceptible-Infected-Recovered (SIR) model how to formulate, fit, and diagnose a compartmental model in Stan. We also introduce more advanced topics which can help practitioners fit sophisticated models; notably, how to use simulations to probe our model and our priors, and computational techniques to scale ODE-based models."
      ],
      "metadata": {
        "id": "xNSE0L_OYxsp"
      }
    },
    {
      "cell_type": "markdown",
      "source": [
        "Transmission models of infectious diseases can help answer questions about past and future transmission,\n",
        "including the effects of interventions.\n",
        "\n",
        "<!- Such models can be expressed in several ways. -->\n",
        "\n",
        "<!- The two broad categories are population-based and agent-based models.  -->\n",
        "\n",
        "_Population-based models_ subdivide the total population into homogeneous groups,\n",
        "called _compartments_.\n",
        "The flows between compartments can be described by a system of differential equations.\n",
        "Individuals within a compartment are considered to be in the same state\n",
        "(e.g. susceptible, infected, etc.).\n",
        "Moreover, the time-dependent volume of each compartment\n",
        "solves a system of ordinary differential equations (ODEs).\n",
        "Compartment models are relatively easy to formulate\n",
        "and computationally tractable.\n",
        "\n",
        "<!- Agent-based models simulate inidivuals (called _agents_) -->\n",
        "\n",
        "<!- and their interaction with an environment over time. -->\n",
        "\n",
        "<!- This approach explicitly accounts for heterogeneity amongst individuals -->\n",
        "\n",
        "<!- but yields models which are difficult to handle, -->\n",
        "\n",
        "<!- both mathematically and computationally. -->\n",
        "\n",
        "<!- By contrast, compartment models are relatively easy to formulate -->\n",
        "<!- and computationally tractable. -->\n",
        "\n",
        "<!- and model the size of each compartment via a set of either continuous or discrete-time differential equations. -->\n",
        "\n",
        "<!- Individuals within each compartment are considered to have the same state with respect to the disease in question.  -->\n",
        "\n",
        "<!- Time-dependent number of individuals in each group is a solution of an ordinary differential equations system relating all the quantities. Stochastic processes, such as Markov chains, are also used to describe transitions between compartments. Agent-based models are used to simulate individuals (agents) and their interactions with an environment over time. Such models allow to account for heterogeneity in an explicit way but are very computationally demanding, especially when the objective is statistical inference.]. -->\n",
        "\n",
        "<!- Compartmental models described by ordinary differential equations (ODEs) have gained popularity due to several factors:  -->\n",
        "\n",
        "<!- they are relatively easy to formulate, are computationally more tractable than agent-based models,  -->\n",
        "\n",
        "<!- and in the simplest cases can be solved and/or analysed analytically.  -->\n",
        "\n",
        "<!- In practice, the volumes of some compartments and most parameters driving the dynamic are latent, -->\n",
        "\n",
        "<!- and thus need to be inferred.  -->\n",
        "\n",
        "<!- Statistical inference for ODEs is a hard task and should be treated separately from the model formulation. -->\n",
        "\n",
        "<!- The ongoing pandemic of the Coronavirus COVID-19 has led to an increased interest in statistical disease modeling. Indeed, transmission models of infectious diseases can help answer questions about forecasting and effects of interventions. Such models can be expressed in several ways^[The three broad categories are population-based, agent-based or stochastic models. Population-based models subdivide the total population into homogeneous groups (compartments) and model the volume of each group via a set of continuous-time differential equations or discrete-time difference equations. Individuals within each compartment are considered to have the same state with respect to the disease in question. Time-dependent number of individuals in each group is a solution of an ordinary differential equations (ODEs) system relating all the quantities. Agent-based models are used to simulate individuals (agents) and their interactions with an environment over time. Such models allow to account for heterogeneity in an explicit way but are very computationally demanding. Stochastic processes, such as Markov chains, are also used to describe transitions between compartments.]. Compartmental models described by ODEs have gained popularity due to several factors: they are relatively easy to formulate, require less computational time than agent-based models, and in the simplest case can be solved and/or analysed analytically. However in practice, the volumes of some compartments and most parameters driving the dynamic are latent, and thus need to be inferred. Statistical inference for ODEs is a hard task and should be treated separately from the model formulation. -->\n",
        "\n",
        "In this tutorial, we demonstrate with a simple example how\n",
        "to formulate and fit a typical compartmental model in Stan.\n",
        "Stan is a probabilistic programming framework designed to let the user focus on modeling, while inference happens under the hood [@Carpenter_stan_2017]. This allows for faster implementation and extension of epidemiological models through a principled modeling workflow, and is thus particularly useful when handling rapidly evolving data and knowledge.\n",
        "Stan is an expressive language that supports many probability densities, matrix operations, and numerical ODE solvers.\n",
        "We can combine all these elements to specify a data generating process.\n",
        "We can also compute useful epidemiological parameters,\n",
        "such as the _basic reproduction number_, $R_0$, and make predictions.\n",
        "\n",
        "<!- $R_0$ is defined as the expected number of secondary infections produced from one infected individual in a fully susceptible population through the entire duration of the infectious period. -->\n",
        "\n",
        "<!- $R_0 > 1$ indicates a sustainable infection, -->\n",
        "\n",
        "<!- which can lead to a major outbreak, -->\n",
        "\n",
        "<!- while $R_0 < 1$ suggests, under stable conditions, that the infection will die out. -->\n",
        "\n",
        "<!- ^[Two crucial numbers quantifying a disease are the *basic reproduction number* $R_0$ and the *effective reproduction number* $R_t.$ The basic reproduction number, $R_0$, is the expected number of secondary infections produced from one infected individual in a fully susceptible population through the entire duration of the infectious period. Values of $R_0$ greater than one indicate a sustainable infection, when a major outbreak to be foreseen, while values below one indicate, under stable conditions, a potentially small outbreak and that the infection will die out.]. -->\n",
        "\n",
        "Generative models formulated in Stan can be used both for simulation and inference.\n",
        "Stan bolsters several inference methods: full Bayesian inference using Markov chains Monte Carlo (MCMC), approximate Bayesian inference with variational inference, and penalized maximum likelihood estimation. We focus on Bayesian inference with MCMC.\n",
        "Bayesian inference gives us a principled quantification of uncertainty and the ability to incorporate domain knowledge in the form of priors, while MCMC is a reliable and flexible algorithm.\n",
        "In addition, Stan provides diagnostic tools to evaluate both the inference (e.g. accuracy of the MCMC, convergence of chains) and the model (e.g. posterior predictive checks)."
      ],
      "metadata": {
        "id": "1AOsZuVgYxu-"
      }
    },
    {
      "cell_type": "markdown",
      "source": [
        "## Outline\n",
        "\n",
        "Through the lens of the Susceptible-Infected-Recovered (SIR) model, we show how to put together a principled Bayesian workflow in Stan, allowing a faster development of reliable epidemiological models.\n",
        "In Section 1, we introduce how to build, fit, and diagnose compartment models in Stan.\n",
        "The next sections discuss topics that can help practitioners fit more complex models.\n",
        "Section 2 reviews how we can use simulated data to examine our model and our priors,\n",
        "and provides an introduction to inference calibration.\n",
        "Section 3 offers a pragmatic discussion on how to efficiently implement\n",
        "and scale up ODEs in Stan."
      ],
      "metadata": {
        "id": "Qk6BjkGtYxxV"
      }
    },
    {
      "cell_type": "markdown",
      "source": [
        "## Data\n",
        "\n",
        "In this example, we examine an outbreak of influenza A (H1N1) in 1978 at a British boarding school.\n",
        "The data consists of the daily number of students in bed, spanning over a time interval of 14 days.\n",
        "There were 763 male students who were mostly full boarders and 512 of them became ill.\n",
        "The outbreak lasted from the 22nd of January to the 4th of February.\n",
        "It is reported that one infected boy started the epidemic, which spread rapidly in the relatively closed community of the boarding school.\n",
        "\n",
        "<!- The original data were available only in a figure with some additional data in the [main text](https://www.ncbi.nlm.nih.gov/pmc/articles/PMC1603269/pdf/brmedj00115-0064.pdf).  -->\n",
        "\n",
        "The data are freely available in the R package outbreaks, maintained as part of the [R Epidemics Consortium](http://www.repidemicsconsortium.org)."
      ],
      "metadata": {
        "id": "IRdEQB1dYxzw"
      }
    },
    {
      "cell_type": "code",
      "source": [
        "head(influenza_england_1978_school)"
      ],
      "metadata": {
        "colab": {
          "base_uri": "https://localhost:8080/",
          "height": 286
        },
        "id": "XasjKS3AYx4W",
        "outputId": "0ff61829-ad24-4496-efd7-916ec0c37cdc"
      },
      "execution_count": 21,
      "outputs": [
        {
          "output_type": "display_data",
          "data": {
            "text/html": [
              "<table class=\"dataframe\">\n",
              "<caption>A data.frame: 6 × 3</caption>\n",
              "<thead>\n",
              "\t<tr><th></th><th scope=col>date</th><th scope=col>in_bed</th><th scope=col>convalescent</th></tr>\n",
              "\t<tr><th></th><th scope=col>&lt;date&gt;</th><th scope=col>&lt;int&gt;</th><th scope=col>&lt;int&gt;</th></tr>\n",
              "</thead>\n",
              "<tbody>\n",
              "\t<tr><th scope=row>1</th><td>1978-01-22</td><td>  3</td><td> 0</td></tr>\n",
              "\t<tr><th scope=row>2</th><td>1978-01-23</td><td>  8</td><td> 0</td></tr>\n",
              "\t<tr><th scope=row>3</th><td>1978-01-24</td><td> 26</td><td> 0</td></tr>\n",
              "\t<tr><th scope=row>4</th><td>1978-01-25</td><td> 76</td><td> 0</td></tr>\n",
              "\t<tr><th scope=row>5</th><td>1978-01-26</td><td>225</td><td> 9</td></tr>\n",
              "\t<tr><th scope=row>6</th><td>1978-01-27</td><td>298</td><td>17</td></tr>\n",
              "</tbody>\n",
              "</table>\n"
            ],
            "text/markdown": "\nA data.frame: 6 × 3\n\n| <!--/--> | date &lt;date&gt; | in_bed &lt;int&gt; | convalescent &lt;int&gt; |\n|---|---|---|---|\n| 1 | 1978-01-22 |   3 |  0 |\n| 2 | 1978-01-23 |   8 |  0 |\n| 3 | 1978-01-24 |  26 |  0 |\n| 4 | 1978-01-25 |  76 |  0 |\n| 5 | 1978-01-26 | 225 |  9 |\n| 6 | 1978-01-27 | 298 | 17 |\n\n",
            "text/latex": "A data.frame: 6 × 3\n\\begin{tabular}{r|lll}\n  & date & in\\_bed & convalescent\\\\\n  & <date> & <int> & <int>\\\\\n\\hline\n\t1 & 1978-01-22 &   3 &  0\\\\\n\t2 & 1978-01-23 &   8 &  0\\\\\n\t3 & 1978-01-24 &  26 &  0\\\\\n\t4 & 1978-01-25 &  76 &  0\\\\\n\t5 & 1978-01-26 & 225 &  9\\\\\n\t6 & 1978-01-27 & 298 & 17\\\\\n\\end{tabular}\n",
            "text/plain": [
              "  date       in_bed convalescent\n",
              "1 1978-01-22   3     0          \n",
              "2 1978-01-23   8     0          \n",
              "3 1978-01-24  26     0          \n",
              "4 1978-01-25  76     0          \n",
              "5 1978-01-26 225     9          \n",
              "6 1978-01-27 298    17          "
            ]
          },
          "metadata": {}
        }
      ]
    },
    {
      "cell_type": "code",
      "source": [
        "ggplot(data = influenza_england_1978_school) +\n",
        "  geom_point(mapping = aes(x = date, y = in_bed)) +\n",
        "  labs(y = \"Number of students in bed\")"
      ],
      "metadata": {
        "colab": {
          "base_uri": "https://localhost:8080/",
          "height": 437
        },
        "id": "k_2-pNxzYx6l",
        "outputId": "bd51ce22-cafe-4263-b199-0f8b6ca4e1e3"
      },
      "execution_count": 22,
      "outputs": [
        {
          "output_type": "display_data",
          "data": {
            "text/plain": [
              "plot without title"
            ],
            "image/png": "[encoded data removed]"
          },
          "metadata": {
            "image/png": {
              "width": 420,
              "height": 420
            }
          }
        }
      ]
    },
    {
      "cell_type": "markdown",
      "source": [
        "## Mathematical transmission model\n",
        "\n",
        "The Susceptible-Infected-Recovered (SIR) model splits the population in three time-dependent compartments: the susceptible, the infected (and infectious), and the recovered (and not infectious) compartments. When a susceptible individual comes into contact with an infectious individual, the former can become infected for some time, and then recover and become immune.\n",
        "The dynamics can be summarized graphically:"
      ],
      "metadata": {
        "id": "fBYIDEsWYx83"
      }
    },
    {
      "cell_type": "markdown",
      "source": [
        "The temporal dynamics of the sizes of each of the compartments are governed by the following  system of ODEs:\n",
        "\n",
        "$$\n",
        "\\begin{aligned}\n",
        " \\frac{dS}{dt} &= -\\beta  S \\frac{I}{N}\\\\\n",
        " \\frac{dI}{dt} &= \\beta  S  \\frac{I}{N} - \\gamma  I \\\\\n",
        " \\frac{dR}{dt} &= \\gamma I\n",
        "\\end{aligned}\n",
        "$$\n",
        "where\n",
        "\n",
        "* $S(t)$ is the number of people susceptible to becoming infected (no immunity),\n",
        "\n",
        "* $I(t)$ is the number of people currently infected (and infectious),\n",
        "\n",
        "* $R(t)$ is the number of recovered people (we assume they remain immune indefinitely),\n",
        "\n",
        "* $\\beta$ is the constant rate of infectious contact between people,\n",
        "\n",
        "* $\\gamma$ the constant recovery rate of infected individuals.\n",
        "\n",
        "\n",
        "Let's give some intuition behind these ODEs. The proportion of infected people among the population is $\\frac{I}{N}$. At each time step, given uniform contacts, the probability for a susceptible person to become infected is thus $\\beta\\frac{I}{N}$, with $\\beta$ the average number of contacts per person per time, multiplied by the probability of disease transmission when a susceptible and an infected subject come in contact. Hence, at each time step, $\\beta  S \\frac{I}{N}$ susceptible individuals become infected,  meaning $\\beta  S \\frac{I}{N}$ people leave the $S$ compartment and $\\beta  S \\frac{I}{N}$ people enter the $I$ compartment. Similarly, the recovery of an infected individual is taking place at rate $\\gamma$, and thus the number of infected individuals decreases with speed $\\gamma I$ while the number of recovered grows at the same speed.\n",
        "\n",
        "\n",
        "The above model holds under several assumptions:\n",
        "\n",
        "* births and deaths are not contributing to the dynamics and the total population $N=S+I+R$ remains constant,\n",
        "* recovered individuals do not become susceptible again over time,\n",
        "\n",
        "* the infection rate $\\beta$ and recovery rate $\\gamma$ are constant,\n",
        "\n",
        "* the population is homogeneous,\n",
        "\n",
        "* individuals meet any other individual uniformly at random (homogeneous mixing)\n",
        "and recovery time follows an exponential distribution with mean $\\frac{1}{\\gamma}$.\n",
        "\n",
        "* replacing the integer number of people in each compartement by a continuous approximation is legitimate (the population is big enough)\n",
        "\n",
        "In case of boarding school data, the spread of the disease has started with one infected individual which leads to the initial conditions $I(0) = 1, S(0) = N-1, R(0) = 0.$\n"
      ],
      "metadata": {
        "id": "S1p64PabYx-y"
      }
    },
    {
      "cell_type": "markdown",
      "source": [
        "## Statistical model\n",
        "\n",
        "We now introduce a _sampling distribution_ (also termed _likelihood_)\n",
        "$$\n",
        "  p(\\mathcal Y \\mid \\theta)\n",
        "$$\n",
        "which tells us, given model parameters $\\theta$, how to generate data $\\mathcal Y$.\n",
        "Inference reverse-engineers the data generating process\n",
        "and asks: \"given a model and observations, $\\mathcal Y$,\n",
        "what are plausible parameter values?\"\n",
        "In a Bayesian framework, the set of plausible values is characterized by\n",
        "the _posterior distribution_,\n",
        "$$\n",
        "p(\\theta \\mid \\mathcal Y).\n",
        "$$\n",
        "Bayes' rule teaches us that\n",
        "$$\n",
        "  p(\\theta \\mid \\mathcal Y) \\propto p(\\mathcal Y \\mid \\theta) p(\\theta)\n",
        "$$\n",
        "where $p(\\mathcal Y \\mid \\theta)$ is the sampling distribution,\n",
        "$p(\\theta)$ the _prior_ distribution,\n",
        "and $\\propto$ stands for \"proportional to\".\n",
        "The prior encodes information about the parameters we have\n",
        "before observing the data.\n",
        "To summarize, a Bayesian model couples a mathematical model of what we know about the parameters in the form of a prior and a sampling distribution, i.e. a model of the data generating process.\n",
        "\n",
        "<!- ^[Given the a priori probability of the parameters $p(\\theta)$ and the probability of the data given the parameters $p(y|\\theta)$, Bayes rules tells us that the posterior distribution of the parameters $\\theta$ is $p(\\theta|y) \\propto p(\\theta)p(y|\\theta)$]. Specifically, a Bayesian model requires a mathematical model of what we know about the parameters (i.e., a prior) and a model of what we know about the data generating process given the parameters (i.e., a sampling distribution). -->"
      ],
      "metadata": {
        "id": "7Um8nNkDYyCX"
      }
    },
    {
      "cell_type": "markdown",
      "source": [
        "### Sampling distribution\n",
        "\n",
        "<!- Here we build a compatemental model.  -->\n",
        "\n",
        "Given transmission parameters and initial conditions,\n",
        "a compartmental model defines a unique solution for each of the compartments,\n",
        "including the number of infected students, $I_\\text{ODE}(t)$.\n",
        "We want to link this solution to the observed data, i.e the number of students in bed, $I_\\text{obs}(t)$, at each time point.\n",
        "\n",
        "<!- (other states and parameters are latent).  -->\n",
        "The latter is a noisy estimate of the true number of infected students.\n",
        "\n",
        "<!- Likelihood allows us to match observed and predicted values to update the latent parameters. -->\n",
        "\n",
        "We choose to model the number of students in bed with a count distribution --\n",
        "the Negative Binomial.\n",
        "This distribution allows us to use $I_\\text{ODE}(t)$ as the expected value\n",
        "and account for over-dispersion, through the parameter $\\phi$:\n",
        "\n",
        "$$\n",
        "I_\\text{obs}(t) \\sim \\text{NegBin}(I_\\text{ODE}(t), \\phi)\n",
        "$$\n",
        "This gives us $p(\\mathcal Y \\mid \\theta)$, with $\\theta = (\\beta, \\gamma, \\phi)$, the parameters of the model."
      ],
      "metadata": {
        "id": "Z5XKY3nkb-Xa"
      }
    },
    {
      "cell_type": "markdown",
      "source": [
        "### Prior distribution\n",
        "\n",
        "We still need $p(\\theta)$. With $\\theta = (\\beta, \\gamma, \\phi)$, we specify a prior distribution for each of the three parameters. One advantage of the Bayesian approach is that we can formally\n",
        "incorporate prior knowledge about the parameters into the model.\n",
        "\n",
        "<!- prior knowledge about the parameters can be formally incoperated into the model. -->\n",
        "\n",
        "<!- Natural constraints on both $\\beta$ and $\\gamma$ are that they are positive.  -->\n",
        "\n",
        "<!- Knowledge about the contact rate, infectiousness and recovery rate can be expressed in the form of priors. -->\n",
        "\n",
        "For instance, we specify $\\gamma \\sim N(0.4, 0.5)$ (truncated at 0), which expresses our belief that $\\gamma$ has to be positive, and that $P(\\gamma \\leq 1) = 0.9$\n",
        "(i.e the probability that the recovery time is > 1 day is 0.9 *a priori*).\n",
        "We can change this prior if more information becomes available, constraining our parameter estimation more tightly or, on the contrary,\n",
        "increasing its variance.\n",
        "\n",
        "Section 2 discusses how to check if our priors are consistent with available domain knowledge using _prior predictive checks_.\n"
      ],
      "metadata": {
        "id": "EbFwPTKFb-Zw"
      }
    },
    {
      "cell_type": "markdown",
      "source": [
        "### Predictions and derived quantities\n",
        "\n",
        "Once we fit the model and obtain a posterior distribution for $\\theta$,\n",
        "we can derive additional quantities of interests.\n",
        "We can simulate predictions, $\\mathcal Y_\\mathrm{pred}$,\n",
        "and work out the plausible range of new observations.\n",
        "Because these predictions are based on the posterior, $p(\\theta \\mid \\mathcal Y)$,\n",
        "our simulations account for uncertainty both in the data generating process\n",
        "and in our estimates of $\\theta$.\n",
        "Moreover, we compute a posterior distribution of predictions\n",
        "$$\n",
        "  p(\\mathcal Y_\\mathrm{pred} \\mid \\mathcal Y) = \\int p(\\mathcal Y_{pred} | \\theta) p(\\theta | \\mathcal Y) d\\theta\n",
        "$$\n",
        "\n",
        "Similarly we can compute quantities that depend on the model parameters.\n",
        "An important example is the basic reproduction number, $R_0$.\n",
        "$R_0$ is defined as the expected number of secondary infections produced from one infected individual in a fully susceptible population through the entire duration of the infectious period.\n",
        "$R_0 > 1$ indicates a sustainable infection,\n",
        "which can lead to a major outbreak, while $R_0 < 1$ suggests, under stable conditions, that the infection will die out.\n",
        "Bayesian inference allows us to construct a posterior distribution for this quantity too\n",
        "$$\n",
        "  p(R_0 \\mid \\mathcal Y).\n",
        "$$"
      ],
      "metadata": {
        "id": "N-NhLciYb-b6"
      }
    },
    {
      "cell_type": "markdown",
      "source": [
        "## Coding the Model: Stan Program\n",
        "\n",
        "We will need the following libraries"
      ],
      "metadata": {
        "id": "5UaNg1I_b-eC"
      }
    },
    {
      "cell_type": "code",
      "source": [
        "rstan_options (auto_write = TRUE)\n",
        "options (mc.cores = parallel::detectCores ())\n",
        "set.seed(3) # for reproductibility"
      ],
      "metadata": {
        "id": "8aEGzJshb-gV"
      },
      "execution_count": 23,
      "outputs": []
    },
    {
      "cell_type": "markdown",
      "source": [
        "### Coding the ODE in Stan\n",
        "\n",
        "An ODE takes the form\n",
        "$$\n",
        "  \\frac{\\mathrm d y}{\\mathrm d t} = f(t, y)\n",
        "$$\n",
        "where $y$ are the _states_, in our example $y = (S, I, R)$,\n",
        "and $t$ is time.\n",
        "We also need an initial condition $y_0$ at $t_0$\n",
        "and the times, $\\tau$, at which we evaluate the solution.\n",
        "\n",
        "To specify an ODE in Stan, we first code $f$ in the `functions` block.\n",
        "This function must observe a strict signature:"
      ],
      "metadata": {
        "id": "ixVpS5vdb-ib"
      }
    },
    {
      "cell_type": "code",
      "source": [
        "# real[] f(real time, real[] state, real[] theta,\n",
        "#          real[] x_r, int[] x_i)"
      ],
      "metadata": {
        "id": "uP0CxeUDb-kt"
      },
      "execution_count": 24,
      "outputs": []
    },
    {
      "cell_type": "markdown",
      "source": [
        "with\n",
        "\n",
        "* `time`, $t$;\n",
        "\n",
        "* `state`, the volumes in each compartment, $y$;\n",
        "\n",
        "* `theta`, variables used to compute $f$, which depend on the model parameters;\n",
        "\n",
        "* `x_r`, real variables used to evaluate $f$, which only depend on fixed data;\n",
        "\n",
        "* `x_i`, integer values used to evaluate $f$, which only depend on fixed data.\n",
        "\n",
        "We motivate this signature in our discussion on scaling ODEs (section 3).\n",
        "\n",
        "In our example, the ODEs for the SIR model is defined as follows:"
      ],
      "metadata": {
        "id": "fNCeff9tcXCE"
      }
    },
    {
      "cell_type": "code",
      "source": [
        "# functions {\n",
        "#   real[] sir(real t, real[] y, real[] theta,\n",
        "#              real[] x_r, int[] x_i) {\n",
        "\n",
        "#       real S = y[1];\n",
        "#       real I = y[2];\n",
        "#       real R = y[3];\n",
        "#       real N = x_i[1];\n",
        "\n",
        "#       real beta = theta[1];\n",
        "#       real gamma = theta[2];\n",
        "\n",
        "#       real dS_dt = -beta * I * S / N;\n",
        "#       real dI_dt =  beta * I * S / N - gamma * I;\n",
        "#       real dR_dt =  gamma * I;\n",
        "\n",
        "#       return {dS_dt, dI_dt, dR_dt};\n",
        "#   }\n",
        "# }"
      ],
      "metadata": {
        "id": "4tYowByycXD_"
      },
      "execution_count": 25,
      "outputs": []
    },
    {
      "cell_type": "markdown",
      "source": [
        "We evaluate the solution numerically by using one of Stan's numerical integrators.\n",
        "We opt for the Runge-Kutta 4$^\\mathrm{th}$ / 5$^\\mathrm{th}$ order\n",
        "but, as we discuss in section 3, the user can consider other options.\n",
        "A call to the integrator looks as follows"
      ],
      "metadata": {
        "id": "UQDKknjGcXGL"
      }
    },
    {
      "cell_type": "code",
      "source": [
        "# y = integrate_ode_rk45(sir, y0, t0, ts, theta, x_r, x_i);"
      ],
      "metadata": {
        "id": "gxyhD4lmcXIV"
      },
      "execution_count": 26,
      "outputs": []
    },
    {
      "cell_type": "markdown",
      "source": [
        "with\n",
        "\n",
        "* `sir`, the name of the function that returns the derivatives, $f$;\n",
        "\n",
        "* `y0`, the initial condition;\n",
        "\n",
        "* `t0`, the time of the initial condition;\n",
        "\n",
        "* `ts`, the times at which we require the solution to be evaluated;\n",
        "\n",
        "* `theta`, `x_r`, `x_i`, arguments to be passed to $f$.\n",
        "\n",
        "We now have all the ingredients to solve our ODE.\n",
        "\n",
        "Note that in the given example, when we assume that the total population remains constant, the three derivatives $\\frac{dS}{dt}$, $\\frac{dI}{dt}$, $\\frac{dR}{dt}$ sum up to $0$:  We can use this fact to improve computational efficiency of the `sir` function by deriving the value of $\\frac{dI}{dt}$ from $\\frac{dS}{dt}$ and $\\frac{dR}{dt}$:"
      ],
      "metadata": {
        "id": "HnN9Q2rtcXKm"
      }
    },
    {
      "cell_type": "code",
      "source": [
        "# real dS_dt = -beta * I * S / N;\n",
        "# real dR_dt =  gamma * I;\n",
        "# real dI_dt =  -(dS_dt + dR_dt);"
      ],
      "metadata": {
        "id": "XZlFgRUOcXMz"
      },
      "execution_count": 27,
      "outputs": []
    },
    {
      "cell_type": "markdown",
      "source": [
        "### Building the model in Stan\n",
        "\n",
        "We next code the model in Stan, working through the various coding blocks.\n",
        "The `functions` block specifies `sir`"
      ],
      "metadata": {
        "id": "Eb23qmdLcXPA"
      }
    },
    {
      "cell_type": "code",
      "source": [
        "# real[] sir (...) {...} //copy code from above"
      ],
      "metadata": {
        "id": "wLG_zSLhcXQ5"
      },
      "execution_count": 28,
      "outputs": []
    },
    {
      "cell_type": "markdown",
      "source": [
        "Fixed data is declared in the `data` block:"
      ],
      "metadata": {
        "id": "zJ5dzHlMcXTA"
      }
    },
    {
      "cell_type": "code",
      "source": [
        "# data {\n",
        "#   int<lower=1> n_days;\n",
        "#   real y0[3];\n",
        "#   real t0;\n",
        "#   real ts[n_days];\n",
        "#   int N;\n",
        "#   int cases[n_days];\n",
        "# }"
      ],
      "metadata": {
        "id": "DcTSk52Gc0lI"
      },
      "execution_count": 29,
      "outputs": []
    },
    {
      "cell_type": "markdown",
      "source": [
        "We code transforms of the data in the `transformed data` block. In this example, we transform our data  to match the signature of `sir` (with `x_r` being of length 0 because we have nothing to put in it)."
      ],
      "metadata": {
        "id": "qrTqF_Wpc0na"
      }
    },
    {
      "cell_type": "code",
      "source": [
        "# transformed data {\n",
        "#   real x_r[0];\n",
        "#   int x_i[1] = { N };\n",
        "# }"
      ],
      "metadata": {
        "id": "jqeSXz_fc0qA"
      },
      "execution_count": 30,
      "outputs": []
    },
    {
      "cell_type": "markdown",
      "source": [
        "We next declare the model parameters. If you want some parameter to be bounded, and it is not already guaranteed by his prior, you need to specify `<lower=a, upper=b>` when declaring this parameter. Note that this is how you put a truncated prior distribution on a parameter."
      ],
      "metadata": {
        "id": "KhVbKRMKc0sE"
      }
    },
    {
      "cell_type": "code",
      "source": [
        "# parameters {\n",
        "#   real<lower=0> gamma;\n",
        "#   real<lower=0> beta;\n",
        "#   real<lower=0> phi_inv;\n",
        "# }"
      ],
      "metadata": {
        "id": "mHvryK5wc0t7"
      },
      "execution_count": 31,
      "outputs": []
    },
    {
      "cell_type": "markdown",
      "source": [
        "And then transforms of the parameters"
      ],
      "metadata": {
        "id": "OVZvyN1vc0wK"
      }
    },
    {
      "cell_type": "code",
      "source": [
        "# transformed parameters{\n",
        "#   real y[n_days, 3];\n",
        "#   real phi = 1. / phi_inv;\n",
        "#   {\n",
        "#     real theta[2];\n",
        "#     theta[1] = beta;\n",
        "#     theta[2] = gamma;\n",
        "\n",
        "#     y = integrate_ode_rk45(sir, y0, t0, ts, theta, x_r, x_i);\n",
        "#   }\n",
        "# }"
      ],
      "metadata": {
        "id": "UW6scDVAc0yY"
      },
      "execution_count": 32,
      "outputs": []
    },
    {
      "cell_type": "markdown",
      "source": [
        "With the ODE solution, $y$, in hand, the only thing left to do is to code the prior and sampling distribution.\n",
        "\n",
        "<!- As with the other parts of the model, these directly follow the notation in the mathematical specification. -->"
      ],
      "metadata": {
        "id": "SgI3y0Wkc005"
      }
    },
    {
      "cell_type": "code",
      "source": [
        "# model {\n",
        "#   //priors\n",
        "#   beta ~ normal(2, 1); //truncated at 0\n",
        "#   gamma ~ normal(0.4, 0.5); //truncated at 0\n",
        "#   phi_inv ~ exponential(5);\n",
        "\n",
        "#   //sampling distribution\n",
        "#   //col(matrix x, int n) - The n-th column of matrix x. Here the number of infected people\n",
        "#   cases ~ neg_binomial_2(col(to_matrix(y), 2), phi);\n",
        "# }"
      ],
      "metadata": {
        "id": "dOnJcrgoc028"
      },
      "execution_count": 33,
      "outputs": []
    },
    {
      "cell_type": "markdown",
      "source": [
        "Untangled from the inference, we can calculate the basic reproduction number, $R_0$, and predictions for the number of cases in the `generated quantities` block:"
      ],
      "metadata": {
        "id": "NQ10lElmebjG"
      }
    },
    {
      "cell_type": "code",
      "source": [
        "# generated quantities {\n",
        "#   real R0 = beta / gamma;\n",
        "#   real recovery_time = 1 / gamma;\n",
        "#   real pred_cases[n_days];\n",
        "#   pred_cases = neg_binomial_2_rng(col(to_matrix(y), 2) + 1e-5, phi);\n",
        "# }"
      ],
      "metadata": {
        "id": "EiUTgfXAeblF"
      },
      "execution_count": 34,
      "outputs": []
    },
    {
      "cell_type": "markdown",
      "source": [
        "### Fitting the model in R\n",
        "\n",
        "<!- To provide the data to Stan for inference -->\n",
        "  \n",
        "<!- ^[What do we mean by inference here? We want to infer the value of the parameters $\\theta$ given the data $y$ . We have already specified the priors $p(\\theta)$ and the likelihood $p(y|\\theta)$. Bayes rules tells us that the posterior distribution of the parameters $\\theta$ is $p(\\theta|y) \\propto p(\\theta)p(y|\\theta)$. We thus know this distribution $p(\\theta|y)$ up to a multiplicative constant. Stan provides a version of Markov Chain Monte Carlo (MCMC), which provides samples which approximativelly follow the $p(\\theta|y)$ distribution. By approximating the true posterior distribution by the empirical distribution on these samples, we can compute the expectations of functions of the paramaters, or e.g the probability that the number of infected student is more than 10 on the third day.],  -->\n",
        "\n",
        "<!- we collect it into a list -->\n",
        "\n",
        "We now go to R and collect the data into a list."
      ],
      "metadata": {
        "id": "QoW4RsBEebnW"
      }
    },
    {
      "cell_type": "code",
      "source": [
        "# time series of cases\n",
        "cases <- influenza_england_1978_school$in_bed  # Number of students in bed\n",
        "\n",
        "# total count\n",
        "N <- 763;\n",
        "\n",
        "# times\n",
        "n_days <- length(cases)\n",
        "t <- seq(0, n_days, by = 1)\n",
        "t0 = 0\n",
        "t <- t[-1]\n",
        "\n",
        "#initial conditions\n",
        "i0 <- 1\n",
        "s0 <- N - i0\n",
        "r0 <- 0\n",
        "y0 = c(S = s0, I = i0, R = r0)\n",
        "\n",
        "# data for Stan\n",
        "data_sir <- list(n_days = n_days, y0 = y0, t0 = t0, ts = t, N = N, cases = cases)\n",
        "\n",
        "# number of MCMC steps\n",
        "niter <- 2000"
      ],
      "metadata": {
        "id": "wamqp-FLebpk"
      },
      "execution_count": 35,
      "outputs": []
    },
    {
      "cell_type": "markdown",
      "source": [
        "Next we compile the model, saved in the file `sir_negbin.stan`,"
      ],
      "metadata": {
        "id": "gaIvpPC9ebtt"
      }
    },
    {
      "cell_type": "code",
      "source": [
        "model <- stan_model(\"sir_negbin.stan\")"
      ],
      "metadata": {
        "id": "PNZ56Tzbebvx"
      },
      "execution_count": 36,
      "outputs": []
    },
    {
      "cell_type": "markdown",
      "source": [
        "and run MCMC.\n",
        "For this problem, it suffices to use Stan's defaults.\n",
        "Note that, as is standard practice, we run 4 Markov chains."
      ],
      "metadata": {
        "id": "GiXh1kZsebxd"
      }
    },
    {
      "cell_type": "code",
      "source": [
        "fit_sir_negbin <- sampling(model,\n",
        "                data = data_sir,\n",
        "                iter = niter,\n",
        "                chains = 4)"
      ],
      "metadata": {
        "id": "tDmHZn3lebzu"
      },
      "execution_count": null,
      "outputs": []
    },
    {
      "cell_type": "markdown",
      "source": [
        "### Checking the inference\n",
        "\n",
        "Let's specify the parameters of interest."
      ],
      "metadata": {
        "id": "gKCRLGsikFW8"
      }
    },
    {
      "cell_type": "code",
      "source": [
        "pars=c('beta', 'gamma', \"R0\", \"recovery_time\")"
      ],
      "metadata": {
        "id": "67M-rBDykFY3"
      },
      "execution_count": null,
      "outputs": []
    },
    {
      "cell_type": "markdown",
      "source": [
        "<!- We here display the median (0.5 quantile) and 90% interval (0.05 and 0.95 quantiles), restricted to the parameters of interest. -->\n",
        "\n",
        "We start with a summary table of the results,\n",
        "which displays the posterior mean, standard error, quantiles,\n",
        "and some useful diagnostics."
      ],
      "metadata": {
        "id": "SonvlrhNkFbE"
      }
    },
    {
      "cell_type": "code",
      "source": [
        "print(fit_sir_negbin, pars = pars)"
      ],
      "metadata": {
        "id": "nY2o0HHRkFdd"
      },
      "execution_count": null,
      "outputs": []
    },
    {
      "cell_type": "markdown",
      "source": [
        "Stan gives us a host of information to evaluate whether the inference is reliable. During sampling, warnings can tell us if something is wrong (here we have no warnings^[Note that getting a few warnings is not always concerning, especially if they only occur during\n",
        "the warmup phase. See [here](https://mc-stan.org/misc/warnings.html) for an overview of Stan's warnings]). In the summary table, several quantities are available to check inference. Here we note that $\\widehat R$ is close to 1 (< 1.01),\n",
        "indicating the 4 Markov chains are in close agreement with one another.\n",
        "Furthermore the effective samples size, $n_\\mathrm{eff}$, is large (> 100^[$n_\\mathrm{eff} \\geq 100$ is considered sufficient to estimate the posterior mean correctly. Note that we may need a bigger $n_\\mathrm{eff}$ to estimate extreme quantiles.]),\n",
        "which means the Markov chains were able to cohesively explore the parameter space.\n",
        "Conversely, large $\\widehat R$ and low $n_\\mathrm{eff}$ would indicate that the Markov chains\n",
        "are poorly mixing. Apart from fixing coding errors, improving the mixing of the Markov chains almost always requires tweaking the model specification, for example with a [reparameterization](https://mc-stan.org/docs/2_23/stan-users-guide/reparameterization-section.html) or stronger priors.\n",
        "\n",
        "<!- There were no divergent transitions reported^[Divergences occur when Stan’s Hamiltonian solver diverges from the true Hamiltonian, which must be conserved, because of numerical problems in the stepwise gradient-based approximation of the curvature of the log density. This indicates that the Markov chains did not completely explore the posterior and that our Markov chain Monte Carlo estimators will be biased. This is often the sign that some region of the posterior is hard to explore and that the step-size strongly depends on the location. Divergences, however, can sometimes be false positives. To verify that we have real fitting issues we can rerun with a larger target acceptance probability, adapt_delta, which will force more accurate simulations of Hamiltonian trajectories and reduce the false positives.] and more generally no warning messages.  -->\n",
        "\n",
        "<!- $\\hat{R}$ values^[$\\hat{R}$ indicates how well different chains of the MCMC have mixed : if $\\hat{R}$ is close to 1, it means that all the chains are exploring the same region, and thus that no chain should be stuck in one subregion. In practice, $\\hat{R} \\leq 1.01$ is satisfactory.] are close to 1 (<1.01), and the effective sample size^[The effective sample size corresponds to the number of independant posterior draws which would yield the same standard error of estimation for the **mean** of the parameters that the draws from Stan's MCMC. Note that $n_{eff}$ can be much lower for quantiles. In practice, $n_{eff} \\geq 100$ for estimating the parameter mean is considered sufficient. With effective sample sizes of roughly one hundred, standard errors are roughly one tenth the size of posterior standard deviations, being in an inverse square root relation.] estimates for each parameter are sufficient (>100) for inference^[Both large $\\hat{R}$ and low effective samples per transition would be consequences of poorly mixing Markov chains. Improving the mixing of the Markov chains almost always requires tweaking the model specification, for example with a reparameterization or stronger priors.]. -->\n",
        "\n",
        "We can furthermore plot the marginal posterior densities\n",
        "and confirm the Markov chains are in agreement with one another.\n"
      ],
      "metadata": {
        "id": "MJZGTZyhkFfv"
      }
    },
    {
      "cell_type": "code",
      "source": [
        "stan_dens(fit_sir_negbin, pars = pars, separate_chains = TRUE)"
      ],
      "metadata": {
        "id": "L3gscuz_kFh2"
      },
      "execution_count": null,
      "outputs": []
    },
    {
      "cell_type": "markdown",
      "source": [
        "### Checking the model\n",
        "\n",
        "Now that we trust our inference, let us check the utility of our model.\n",
        "Utility is problem specific and can include the\n",
        "precise estimation of a quantity or predicting future behaviors.\n",
        "In general, it is good to check if our model, once fitted, produces simulations\n",
        "that are consistent with the observed data.\n",
        "This is the idea behind _posterior predictive checks_.\n",
        "\n",
        "We sample predictions, $\\mathcal Y_\\mathrm{pred}$,\n",
        "from $p(\\mathcal Y_\\mathrm{pred} \\mid \\mathcal Y)$\n",
        "and use these samples to construct a fitted curve for students in bed,\n",
        "together with the uncertainty (90% interval,\n",
        "meaning observed data is expected to fall outside of this interval one in ten times).\n",
        "This _posterior predictive check_ allows us to verify if the model captures the structure of the data.\n",
        "Here we see that the model gives a satisfying fit to the data,\n",
        "and that the model uncertainty is able to capture the variation of the data."
      ],
      "metadata": {
        "id": "P_rST68akFj_"
      }
    },
    {
      "cell_type": "code",
      "source": [
        "smr_pred <- cbind(as.data.frame(summary(\n",
        "  fit_sir_negbin, pars = \"pred_cases\", probs = c(0.05, 0.5, 0.95))$summary), t, cases)\n",
        "colnames(smr_pred) <- make.names(colnames(smr_pred)) # to remove % in the col names\n",
        "\n",
        "ggplot(smr_pred, mapping = aes(x = t)) +\n",
        "  geom_ribbon(aes(ymin = X5., ymax = X95.), fill = \"orange\", alpha = 0.6) +\n",
        "  geom_line(mapping = aes(x = t, y = X50.)) +\n",
        "  geom_point(mapping = aes(y = cases)) +\n",
        "  labs(x = \"Day\", y = \"Number of students in bed\")"
      ],
      "metadata": {
        "id": "5QNA3Rj9kFmK"
      },
      "execution_count": null,
      "outputs": []
    },
    {
      "cell_type": "markdown",
      "source": [
        "Maybe we also want to access the true number of infected people at each time, and not just the number of students in bed. This is a latent variable for which we have an estimation."
      ],
      "metadata": {
        "id": "9gCWflPBkFoX"
      }
    },
    {
      "cell_type": "code",
      "source": [
        "params <- lapply(t, function(i){sprintf(\"y[%s,2]\", i)}) #number of infected for each day\n",
        "smr_y <- as.data.frame(summary(fit_sir_negbin,\n",
        "                               pars = params, probs = c(0.05, 0.5, 0.95))$summary)\n",
        "colnames(smr_y) <- make.names(colnames(smr_y)) # to remove % in the col names\n",
        "\n",
        "ggplot(smr_y, mapping = aes(x = t)) +\n",
        "  geom_ribbon(aes(ymin = X5., ymax = X95.), fill = \"orange\", alpha = 0.6) +\n",
        "  geom_line(mapping = aes(x = t, y = X50.)) +\n",
        "  labs(x = \"Day\", y = \"Number of infected students\")"
      ],
      "metadata": {
        "id": "rzWqcLZ_n7Gq"
      },
      "execution_count": null,
      "outputs": []
    },
    {
      "cell_type": "code",
      "source": [
        "# Complete Stan Program\n",
        "\n",
        "# functions {\n",
        "#   real[] sir(real t, real[] y, real[] theta,\n",
        "#              real[] x_r, int[] x_i) {\n",
        "\n",
        "#       real S = y[1];\n",
        "#       real I = y[2];\n",
        "#       real R = y[3];\n",
        "#       real N = x_i[1];\n",
        "\n",
        "#       real beta = theta[1];\n",
        "#       real gamma = theta[2];\n",
        "\n",
        "#       real dS_dt = -beta * I * S / N;\n",
        "#       real dI_dt =  beta * I * S / N - gamma * I;\n",
        "#       real dR_dt =  gamma * I;\n",
        "\n",
        "#       return {dS_dt, dI_dt, dR_dt};\n",
        "#   }\n",
        "# }\n",
        "# data {\n",
        "#   int<lower=1> n_days;\n",
        "#   real y0[3];\n",
        "#   real t0;\n",
        "#   real ts[n_days];\n",
        "#   int N;\n",
        "#   int cases[n_days];\n",
        "# }\n",
        "# transformed data {\n",
        "#   real x_r[0];\n",
        "#   int x_i[1] = { N };\n",
        "# }\n",
        "# parameters {\n",
        "#   real<lower=0> gamma;\n",
        "#   real<lower=0> beta;\n",
        "#   real<lower=0> phi_inv;\n",
        "# }\n",
        "# transformed parameters{\n",
        "#   real y[n_days, 3];\n",
        "#   real phi = 1. / phi_inv;\n",
        "#   {\n",
        "#     real theta[2];\n",
        "#     theta[1] = beta;\n",
        "#     theta[2] = gamma;\n",
        "\n",
        "#     y = integrate_ode_rk45(sir, y0, t0, ts, theta, x_r, x_i);\n",
        "#   }\n",
        "# }\n",
        "# model {\n",
        "#   //priors\n",
        "#   beta ~ normal(2, 1);\n",
        "#   gamma ~ normal(0.4, 0.5);\n",
        "#   phi_inv ~ exponential(5);\n",
        "\n",
        "#   //sampling distribution\n",
        "#   //col(matrix x, int n) - The n-th column of matrix x. Here the number of infected people\n",
        "#   cases ~ neg_binomial_2(col(to_matrix(y), 2), phi);\n",
        "# }\n",
        "# generated quantities {\n",
        "#   real R0 = beta / gamma;\n",
        "#   real recovery_time = 1 / gamma;\n",
        "#   real pred_cases[n_days];\n",
        "#   pred_cases = neg_binomial_2_rng(col(to_matrix(y), 2), phi);\n",
        "# }"
      ],
      "metadata": {
        "id": "LTV2vGqan7I9"
      },
      "execution_count": null,
      "outputs": []
    },
    {
      "cell_type": "markdown",
      "source": [
        "# 2 Using simulated data to understand our model\n",
        "\n",
        "We fitted a simple model to a well-understood data set.\n",
        "In practice, we must proceed more cautiously\n",
        "and probe the behavior of our model and our inference algorithm.\n",
        "To that end, working with fake data can be a very productive endeavour.\n",
        "\n",
        "## Checking our priors\n",
        "\n",
        "We can check if our priors are sound\n",
        "by computing the *a priori* probability of various epidemiological parameters of interest.\n",
        "For instance for influenza, we know from domain knowledge that $R_0$ is typically between 1 and 2,\n",
        "and that the recovery time is approximately 1 week.\n",
        "We want priors that allow for every reasonable configurations of the data\n",
        "but exclude pattently absurd scenarios, per our domain expertise.\n",
        "To check if our priors fulfill this role, we can do a *prior predictive check*.\n",
        "<!-- i.e sample parameters of interest from the prior distribution. -->\n",
        "\n",
        "To conduct a prior predictive check, we take the same model as before,\n",
        "put the parameters of interest in the `generated_quantities` code block,\n",
        "and remove the sampling distribution term from the model.\n",
        "Without the sampling distribution, the parameters are not fitted to the data\n",
        "and are thus sampled from their prior distribution.\n",
        "The Stan code is thus the same as the final Stan code, without the `cases ~ neg_binomial_2(col(to_matrix(y), 2), phi);` line. A useful trick to make prior predictive check easy is to add a switch `compute_likelihood` to the data. Then in the `model` code block :"
      ],
      "metadata": {
        "id": "owPNjklyn7K8"
      }
    },
    {
      "cell_type": "code",
      "source": [
        "# if (compute_likelihood == 1)\n",
        "#   cases ~ neg_binomial_2(col(to_matrix(y), 2), phi);"
      ],
      "metadata": {
        "id": "IuRPlu_bn7NK"
      },
      "execution_count": null,
      "outputs": []
    },
    {
      "cell_type": "markdown",
      "source": [
        "This allows to do prior predictive check and inference with the same Stan file.\n",
        "\n",
        "We compile the model without the likelihood term"
      ],
      "metadata": {
        "id": "yb_6Z7Ban7Pc"
      }
    },
    {
      "cell_type": "code",
      "source": [
        "model <- stan_model(\"sir_prior.stan\")"
      ],
      "metadata": {
        "id": "R1I8hsHWn7Rg"
      },
      "execution_count": null,
      "outputs": []
    },
    {
      "cell_type": "markdown",
      "source": [
        "and sample from it."
      ],
      "metadata": {
        "id": "9xDPCFH9kFqf"
      }
    },
    {
      "cell_type": "code",
      "source": [
        "fit_sir_prior <- sampling(model,\n",
        "                 data = data_sir, seed = 0, chains = 4)"
      ],
      "metadata": {
        "id": "f0aTPBWfsGMM"
      },
      "execution_count": null,
      "outputs": []
    },
    {
      "cell_type": "markdown",
      "source": [
        "This gives us samples from the *a priori* distribution of parameters, which we can visualize.\n",
        "Here we show the distribution of the log of the recovery time,\n",
        "with the red bars showing loose bounds on the recovery time (1/2 day and 30 days).\n",
        "We observe that most of the probality mass is between the red bars\n",
        "but we still allow more extreme values,\n",
        "meaning our posterior can concentrate outside the bars, if the data warrants it."
      ],
      "metadata": {
        "id": "qYPqFw3fsGOe"
      }
    },
    {
      "cell_type": "code",
      "source": [
        "s_prior <- rstan::extract(fit_sir_prior)\n",
        "df_test <- tibble(r = s_prior$recovery_time)\n",
        "ggplot(data = df_test) +\n",
        "  geom_histogram(mapping = aes(x = r), bins = 30) +\n",
        "  labs(x = \"log(recovery time)\") +\n",
        "  geom_vline(xintercept = 0.5, color = \"red\") +\n",
        "  geom_vline(xintercept = 30, color = \"red\") +\n",
        "  scale_x_log10()"
      ],
      "metadata": {
        "id": "HpxHJ8u2sGQk"
      },
      "execution_count": null,
      "outputs": []
    },
    {
      "cell_type": "markdown",
      "source": [
        "We can do the same thing for $R_0$ (again, on the log-scale), the loose bounds being 0.3 and 30."
      ],
      "metadata": {
        "id": "a2W_zMxpsGS0"
      }
    },
    {
      "cell_type": "code",
      "source": [
        "df_test <- tibble(r = s_prior$R0)\n",
        "ggplot(data = df_test) +\n",
        "  geom_histogram(mapping = aes(x = r), bins = 30) +\n",
        "  labs(x = \"log(R0)\") +\n",
        "  geom_vline(xintercept = 0.3, color = \"red\") +\n",
        "  geom_vline(xintercept = 30, color = \"red\") +\n",
        "  scale_x_log10()"
      ],
      "metadata": {
        "id": "oYipTrAksGVB"
      },
      "execution_count": null,
      "outputs": []
    },
    {
      "cell_type": "markdown",
      "source": [
        "We thus see that these distributions are coherent with domain knowledge. See [here](https://github.com/stan-dev/stan/wiki/Prior-Choice-Recommendations) for more recommendations on prior choice.\n",
        "^[Previoulsy, we fitted the data with these priors and found a posteriori $R_0$ ~ 3 and a recovery time of ~ 2 days. This is quite unexpected from our basic domain knowledge, but can probably be explained ($R_0$ bigger among students? isolated students counts for recovered in the model? etc). This shows that the prior should not be too constraining in order to incorporate both prior knowledge and unexpected knowledge from the data.]\n",
        "\n",
        "We can also plot trajectories of infection according to the prior,\n",
        "that is the number of infected people at each time accoring to prior distributions of parameters."
      ],
      "metadata": {
        "id": "2dkMG6k6sGXM"
      }
    },
    {
      "cell_type": "code",
      "source": [
        "n_draws <- 1000\n",
        "draws <- as_tibble(t(s_prior$y[,,2][1:n_draws,])) %>% add_column(t=t)\n",
        "draws <-  pivot_longer(draws, c(1:1000) , names_to = \"draw\")\n",
        "draws %>%\n",
        "  ggplot() +\n",
        "  geom_line(mapping = aes(x = t, y=value, group = draw), alpha = 0.6, size=0.1) +\n",
        "  geom_hline(yintercept=763, color=\"red\")  +\n",
        "  geom_text(x=1.8, y=747, label=\"Population size\", color=\"red\") +\n",
        "  labs(x = \"Day\", y=\"Number of infected students\")"
      ],
      "metadata": {
        "id": "UA7UxDiRsGZR"
      },
      "execution_count": null,
      "outputs": []
    },
    {
      "cell_type": "markdown",
      "source": [
        "And the median (black line) and 90% interval of the *a priori* number of student in bed (i.e the observed number of infected students)."
      ],
      "metadata": {
        "id": "auXUHF8esGbh"
      }
    },
    {
      "cell_type": "code",
      "source": [
        "smr_pred <- cbind(as.data.frame(summary(fit_sir_prior, pars=\"pred_cases\",\n",
        "                                        probs=c(0.05, 0.5, 0.95))$summary), t)\n",
        "colnames(smr_pred) <- make.names(colnames(smr_pred)) # to remove % in the col names\n",
        "\n",
        "ggplot(smr_pred, mapping=aes(x=t)) +\n",
        "  geom_ribbon(aes(ymin = X5., ymax = X95.), fill = \"orange\", alpha = 0.6) +\n",
        "  geom_line(mapping=aes(x=t, y=X50.)) +\n",
        "  geom_hline(yintercept=763, color=\"red\" ) +\n",
        "  geom_text(x=1.8, y=747, label=\"Population size\", color=\"red\") +\n",
        "  labs(x = \"Day\", y=\"Number of students in bed\")"
      ],
      "metadata": {
        "id": "uPeoHrcQsuwv"
      },
      "execution_count": null,
      "outputs": []
    },
    {
      "cell_type": "markdown",
      "source": [
        "It seems that most trajectories are reasonable and quite diverse. Still, some of the curves look a little bit funky and suggest we could refine our priors and make them more informative, although it may not be needed here.\n",
        "\n",
        "Typically, we can get away with priors that do not capture all our *a priori* knowledge,\n",
        "provided the data is informative enough.\n",
        "However when dealing with complicated models and relatively sparse data,\n",
        "we usually need well constructed priors to regularize our estimates and avoid non-identifiability.\n",
        "\n",
        "## Can our inference algorithm recover the right parameters?\n",
        "\n",
        "While there exist many theoretical guarantees for MCMC algorithms,\n",
        "modelers should realize that these rely on a set of assumptions\n",
        "which are not always easy to verify\n",
        "and that many of these guarantees are _asymptotic_.\n",
        "This means they are proven in the limit where we have an infinite number of samples from the posterior distribution.\n",
        "A very nice, if advanced, review on the subject can be found in @Roberts_mcmc_2004.\n",
        "As practitioners, we must contend with finite computational resources\n",
        "and assumptions which may or may not hold.\n",
        "The diagnostics we reviewed earlier, e.g. $\\widehat R$, effective sample sizes,\n",
        "provide _necessary_ conditions for\n",
        "the MCMC sampler to work but not _sufficient_ ones.\n",
        "Nevertheless they are potent tools for diagnosing shortcomings in our inference.\n",
        "This section provides further such tools,\n",
        "from both a rigorous and a pragmatic perspective.\n",
        "\n",
        "\n",
        "Fitting the model to simulated data is, if done properly, an effective way\n",
        "to test whether our inference algorithm is reliable.\n",
        "If we cannot successfully fit the model in a controlled setting,\n",
        "it is unlikely we can do so with real data.\n",
        "This of course raises the question of what is meant by \"successfully fitting\"\n",
        "the model.\n",
        "In a Bayesian setting, this means our inference procedure recovers\n",
        "the correct posterior distribution.\n",
        "Unfortunately, even in a controlled setting,\n",
        "the posterior distribution is, but in the simplest cases, not tractable.\n",
        "\n",
        "A powerful method to check the accuracy of our Bayesian inference\n",
        "is _simulation-based calibration_ (SBC) [@Talts_sbc_2018].\n",
        "SBC exploits a very nice consistency result.\n",
        "The intuition is the following:\n",
        "if we draw our parameters from our prior distribution\n",
        "$$\n",
        "  \\theta_1, ..., \\theta_2 \\sim p(\\theta)\n",
        "$$\n",
        "and for each $\\theta_i$ simulate a data set $\\mathcal Y^i$,\n",
        "we can by fitting the model multiple times recover the prior distribution\n",
        "from the estimated posteriors.\n",
        "This technique is a bit beyond the scope of this tutorial,\n",
        "though we vividly encourage the reader to consult the original paper, or to see [here](https://betanalpha.github.io/assets/case_studies/principled_bayesian_workflow.html) how this method fits in a principled Bayesian workflow.\n",
        "\n",
        "For the time being, we focus on a simpler heuristic:\n",
        "fit the model to one simulated data set and\n",
        "check if we recover the correct parameter value.\n",
        "There are serious limitations with this approach:\n",
        "when do we consider that the estimated posterior distribution covers\n",
        "the correct value? How do we know if the variance of the posterior\n",
        "is properly estimated? etc.\n",
        "But the test is useful: in this controlled setting,\n",
        "do the chains converge?\n",
        "Is the computation of the log density numerically stable\n",
        "(e.g. are we using the right ODE integrator)?\n",
        "Do my priors prevent the chains from wondering into absurd regions\n",
        "of the parameter space?\n",
        "These are all questions this simple test can help us tackle.\n",
        "\n",
        "<!- A quick check is to take one trajectory sampled from the prior, and check if we can retrieve the true parameters with our model. Still, altough this test can be useful to shed light on some issues with the model, it is far from enough to falsify or validate a model. See [@talts2018validating] for a discussion of this method and a correct way to check calibration by fitting draws from the prior distribution. -->\n",
        "\n",
        "We take one arbitrary draw from the prior distribution"
      ],
      "metadata": {
        "id": "n4dHf8VcsuzA"
      }
    },
    {
      "cell_type": "code",
      "source": [
        "# one arbitrary draw from the prior distribution\n",
        "draw <- 12\n",
        "# the number of predicted cases sampled from the prior distribution, which we will use as data\n",
        "cases_simu <- s_prior$pred_cases[draw,]"
      ],
      "metadata": {
        "id": "YA_BThySsu1F"
      },
      "execution_count": null,
      "outputs": []
    },
    {
      "cell_type": "markdown",
      "source": [
        "And use it as data which we fit to our model."
      ],
      "metadata": {
        "id": "VQKEubs5su3F"
      }
    },
    {
      "cell_type": "code",
      "source": [
        "data_simu <-  list (n_days  = n_days, y0 = y0, t0 = t0, ts = t, N=N, cases=cases_simu)\n",
        "fit_simu <- sampling(model, data=data_simu, chains=4)"
      ],
      "metadata": {
        "id": "Wl5s9x87su5J"
      },
      "execution_count": null,
      "outputs": []
    },
    {
      "cell_type": "markdown",
      "source": [
        "We can then examine the estimated posterior distribution.\n",
        "\n",
        "<!- Here we see it is the case. -->"
      ],
      "metadata": {
        "id": "d5qVsYwbsu7A"
      }
    },
    {
      "cell_type": "code",
      "source": [
        "params = c(\"beta\", \"gamma\", \"phi\")\n",
        "paste(\"true beta :\", toString(s_prior$beta[draw]),\n",
        "      \", true gamma :\", toString(s_prior$gamma[draw]), \", true phi :\", toString(s_prior$phi[draw]))\n",
        "print(fit_simu, pars = params)"
      ],
      "metadata": {
        "id": "3_E9nucDsu9M"
      },
      "execution_count": null,
      "outputs": []
    },
    {
      "cell_type": "markdown",
      "source": [
        "We plot the posterior density (in red) to check if it matches the true value of the parameter (black line).\n",
        "The density is compatible with the true parameters, although not always centered on it.\n",
        "The latter is not alarming, especially if the model parameter $\\theta$ we sampled,\n",
        "lies on the tail of the prior distribution. We could repeat this process a few times to get a better sense of the performance of our inference algorithm."
      ],
      "metadata": {
        "id": "9BBaQfaEs-ot"
      }
    },
    {
      "cell_type": "code",
      "source": [
        "plot_beta <- stan_dens(fit_simu, pars=\"beta\") + geom_vline(xintercept =s_prior$beta[draw])\n",
        "plot_gamma <- stan_dens(fit_simu, pars=\"gamma\") + geom_vline(xintercept = s_prior$gamma[draw])\n",
        "plot_phi <- stan_dens(fit_simu, pars=\"phi_inv\") + geom_vline(xintercept = s_prior$phi_inv[draw])\n",
        "grid.arrange(plot_beta, plot_gamma, plot_phi, nrow=1)"
      ],
      "metadata": {
        "id": "lN37L7Pus-q5"
      },
      "execution_count": null,
      "outputs": []
    },
    {
      "cell_type": "markdown",
      "source": [
        "# 3 Scaling up ODE-based models\n",
        "\n",
        "Doing MCMC on ODE-based models can be computationally intensive,\n",
        "especially as we scale up the number of observations, parameters,\n",
        "and start using more sophisticated ODEs.\n",
        "If we want to ripe the benefits of a full Bayesian inference,\n",
        "we have to pay the computational cost.\n",
        "But while we cannot get away with a free lunch,\n",
        "we can avoid an overpriced one.\n",
        "Stan is a flexible language, which means there are worse and better ways of coding things.\n",
        "This section develops a few principles to make ODE models in Stan\n",
        "more scalable,\n",
        "drawing on our experience with an SEIR model of Covid-19 [@Riou_covid_2020].\n",
        "\n",
        "## The Computational cost of Stan\n",
        "\n",
        "Stan abstracts the inference away from the modeling but it's worth\n",
        "taking a peek inside the black box.\n",
        "Markov chains are constructed using a dynamic Hamiltonian Monte Carlo (HMC)\n",
        "sampler [e.g @Betancourt_hmc_2018; @Hoffman_nuts_2014].\n",
        "To run the sampler, we need to specify the log joint density over\n",
        "the observations, $\\mathcal Y$, and the latent variables, $\\theta$,\n",
        "$$\n",
        "  \\log p(\\mathcal Y, \\theta) = \\log p(\\mathcal Y \\mid \\theta) + \\log p(\\theta)\n",
        "$$\n",
        "which conveniently splits between a log likelihood and a log prior.\n",
        "This is ultimately what we specify in the `model` block.\n",
        "In addition, Hamiltonian Monte Carlo uses the gradient\n",
        "with respect to $\\theta$,\n",
        "$$\n",
        "  \\nabla_\\theta \\log p(\\mathcal Y, \\theta) = \\nabla_\\theta \\log p(\\theta \\mid \\mathcal Y).\n",
        "$$\n",
        "The gradient contains information about the posterior distribution which,\n",
        "when properly harnessed, allows us to efficiently sample from the posterior.\n",
        "Fortunately, the user does not need to specify the gradient.\n",
        "Instead, _automatic differentiation_ generates the requisite derivatives\n",
        "under the hood, based on computer code to evaluate the log joint density^[\n",
        "Though heavily used in computational statistics and machine learning,\n",
        "automatic differentiation remains an arcane subject for many practitioners;\n",
        "for a review on the subject, we recommend [@Margossian_ad_2019].\n",
        "A more comprehensive treatment can be found\n",
        "in [@Griewank_ad_2008].\n",
        "].\n",
        "But, just like evaluating $\\log p(\\mathcal Y, \\theta)$,\n",
        "differentiation has a computational cost.\n",
        "\n",
        "HMC simulates trajectories across the parameter space\n",
        "by numerically solving Hamilton's equations of motion.\n",
        "We solve these equations using a numerical leapfrog integrator.\n",
        "At each step the integrator takes,\n",
        "we need to _evaluate and differentiate_ $\\log p(\\mathcal Y, \\theta)$.\n",
        "\n",
        "## Partitioning the code into blocks\n",
        "\n",
        "This perspective informs how each model block scales.\n",
        "The `data` and parameters blocks are used to declare variables.\n",
        "The `transformed data` block is evaluated once.\n",
        "The `transformed parameters` and `model` blocks\n",
        "are evaluated and differentiated at each leapfrog step,\n",
        "which is multiple times per iteration.\n",
        "The `generated quantities` block is evaluated once per iteration.\n",
        "Hence operations in the `parameters` and `transformed parameters`\n",
        "blocks dominate the computational cost and should only entail\n",
        "operations that depend on $\\theta$\n",
        "and are required to compute $\\log p(\\mathcal Y, \\theta)$.\n",
        "\n",
        "In our boarding school model, the computation of $R_0$, for example,\n",
        "is relegated to `generated quantities`.\n",
        "Even though we want samples from $p(R_0 \\mid \\mathcal Y)$\n",
        "and $R_0$ depends on the model parameters,\n",
        "$R_0$ does not contribute to $\\log p(\\mathcal Y, \\theta)$.\n",
        "In the model by @Riou_covid_2020, we integrate an ODE --\n",
        "denoting the solution $y$ -- in\n",
        "`transformed parameters` from $t_0$ to $\\tau$,\n",
        "the time of the last observation\n",
        "$$\n",
        "  \\int_{t_0}^\\tau f(y, t) \\mathrm dt\n",
        "$$\n",
        "where\n",
        "$$\n",
        "  \\frac{\\mathrm d y}{\\mathrm d t} = f(y, t).\n",
        "$$\n",
        "We then make additional predictions, from time $\\tau$ to $\\tau'$,\n",
        "$$\n",
        "  \\int_\\tau^{\\tau'} f(y, t) \\mathrm{d}t.\n",
        "$$\n",
        "Because these predicted solutions do not impact our likelihood,\n",
        "we do these calculations in `generated quantities`.\n",
        "Compared to the first integral, this second integration is computed\n",
        "a small number of times\n",
        "and it is not differentiated, making its computational cost marginal.\n",
        "\n",
        "## Propagating derivatives through ODEs\n",
        "\n",
        "Our ODE is defined by\n",
        "$$\n",
        "  \\frac{\\mathrm d y}{\\mathrm d t} = f(y, t, \\vartheta, x).\n",
        "$$\n",
        "Here, $\\vartheta$ contains inputs to $f$ that depend on the model parameters, $\\theta$,\n",
        "while $x$ contains inputs which do _not_ depend on $\\theta$\n",
        "and therefore remain fixed as the Markov chain moves through the parameter space.\n",
        "Note that in general, $\\vartheta \\neq \\theta$.\n",
        "In the SIR model for example, $\\vartheta$ is defined as\n",
        "```\n",
        "theta[1] = beta;\n",
        "theta[2] = gamma;\n",
        "```\n",
        "and contains two model parameters.\n",
        "Specifically $\\vartheta = (\\beta, \\gamma)$, while $\\theta = (\\beta, \\gamma, \\phi^{-1})$.\n",
        "To define the integral, we additionally specify an initial time, $t_0$,\n",
        "times of integration, $\\tau$, and an initial condition, $y_0$,\n",
        "all of which can vary with $\\theta$.\n",
        "Hence when propagating derivatives to compute the gradient of the log joint density,\n",
        "we need to worry about how the solution varies\n",
        "with respect to $\\vartheta$ and potentially $y_0$^[\n",
        "While $t_0$ and $\\tau$ may depend on model parameters,\n",
        "we here assume they do not to avoid some minute technicalities\n",
        "and simplify our discussion.].\n",
        "We say that these elements are _varying parameters_\n",
        "and denote $K$ the number of such elements.\n",
        "Furthermore, let $N$ be the number of _states_, that is the length of $y$\n",
        "or in a SIR model, the number of compartments.\n",
        "\n",
        "In Stan, we propagate derivatives by solving a coupled system of ODEs.\n",
        "The intuition is the following.\n",
        "Suppose we want to compute\n",
        "$$\n",
        "  \\frac{\\mathrm d y}{\\mathrm d \\vartheta}.\n",
        "$$\n",
        "We do not have an analytical expression for $y$, so a direct\n",
        "application of automatic differentiation is not feasible.\n",
        "But we can, assuming the requisite derivatives exist, compute\n",
        "$$\n",
        "  \\frac{\\mathrm d f}{\\mathrm d \\vartheta} = \\frac{\\mathrm d}{\\mathrm dt}\n",
        "    \\frac{\\mathrm dy}{\\mathrm d \\vartheta}\n",
        "$$\n",
        "and then integrate this quantity numerically.\n",
        "The end result is that, instead of only solving for the $N$ original states,\n",
        "we solve an $N + NK$ system to both evaluate and differentiate $y$.\n",
        "\n",
        "Strictly speaking, we do not need to explicitly compute\n",
        "$\\mathrm d y / \\mathrm d \\vartheta$ to propagate derivatives;\n",
        "this is an important, if somewhat counter-intuitive, result of automatic differentiation,\n",
        "and motivates a so-called _adjoint method_^[For a discussion on adjoint methods, we\n",
        "recommend @Hindmarsh_ode_2020.],\n",
        "which only requires solving $2N + K$ ODE states.\n",
        "While this method is very much on our todo list,\n",
        "it is not yet implemented in Stan.\n",
        "But the takeaway is the same for both methods: we should minimize $K$ as much as possible.\n",
        "\n",
        "### Splitting fixed and varying parameters\n",
        "\n",
        "This sheds light on the function signature of Stan's numerical integrator.\n",
        "For every element in `theta`, we add an additional $N$ states to solve for.\n",
        "Hence, components which do not depend on $\\theta$ should be relegated\n",
        "to `x_r` and `x_i`.\n",
        "\n",
        "### Fixing the initial conditions (where we can)\n",
        "\n",
        "Suppose our initial condition, $y_0$, are varying parameters,\n",
        "i.e. depend on the model parameters.\n",
        "It is not uncommon for some of the elements in $y_0$ to not depend on $\\theta$.\n",
        "For example, in a compartment model,\n",
        "the initial condition for the first compartment may depend on model parameters,\n",
        "while it is 0 for the other compartments.\n",
        "More generally, $y_0$ may only depend on $k < N$ parameters.\n",
        "The straightforward approach is to pass $y_0$ as a vector of parameters.\n",
        "Stan interprets this as $N$ additional varying parameters,\n",
        "which means the number of ODE we solve increases by $N^2$.\n",
        "This is overpriced lunch!\n",
        "\n",
        "A better, if more intricate, approach is to solve the ODEs for deviations from the baseline\n",
        "and split $y_0$ between `theta` and `x_r`.\n",
        "\n",
        "Concretely, let\n",
        "$$\n",
        "  z = y - y_0 .\n",
        "$$\n",
        "The initial condition for $z$ is then $\\bf 0$, an $N$-vector of 0's\n",
        "and a fixed quantity.\n",
        "Now,\n",
        "$$\n",
        "  \\frac{\\mathrm d z}{\\mathrm d t} = \\frac{\\mathrm d y}{\\mathrm dt} = f(z + y_0, t, \\vartheta, x)\n",
        "    = \\widetilde{f}(z, t, \\widetilde \\vartheta, \\widetilde x)\n",
        "$$\n",
        "where $\\widetilde f$ is the same map as $f$,\n",
        "but applied to $z + y_0$ instead of $z$;\n",
        "$\\widetilde \\vartheta$ contains $\\vartheta$\n",
        "and the elements of $y_0$ that depend on $\\theta$;\n",
        "and $\\widetilde x$ contains $x$ and the elements of $y_0$\n",
        "that are fixed.\n",
        "With this implementation, $K$ is kept to a minimum.\n",
        "We recover the original $y$ simply by adding $y_0$ to $z$.\n",
        "\n",
        "In the SEIR model by [@Riou_covid_2020], we have 58 initial conditions\n",
        "but together these depend on a single parameter.\n",
        "$\\vartheta$ itself contains 4 elements.\n",
        "Reparameterizing the ODE means we go from $K = 62$ to $K = 5$,\n",
        "that is from solving 3596 coupled ODEs to only solving 290.\n",
        "\n",
        "\n",
        "## Picking the right ODE integrator\n",
        "\n",
        "The task of solving and differentiating an ODE boils down\n",
        "to integrating a coupled ODE system.\n",
        "Hence to sure reasonable performance,\n",
        "it is crucial to pick the right solver.\n",
        "\n",
        "### Arsenal of tools\n",
        "\n",
        "Stan provides a few options [e.g. @margossian_differential_2017].\n",
        "When available, the user can specify analytical solutions.\n",
        "If the ODE is linear, that is it has the form\n",
        "$$\n",
        "  \\frac{\\mathrm d y}{\\mathrm d t} = Ay\n",
        "$$\n",
        "for some matrix $A$, then the solution is $e^{tA}y_0$,\n",
        "where $e$ designates the matrix exponential.\n",
        "Stan supports the computation and differentiation of the matrix exponential.\n",
        "These methods usually run faster than numerical integrators\n",
        "and should be used when possible.\n",
        "\n",
        "The majority of the time, we deal with nonlinear ODEs\n",
        "with no analytical solution and must resort to numerical integrators.\n",
        "In the special case where the ODE can be decoupled,\n",
        "it is possible to combine different integration methods.\n",
        "For example, the ODE may have the form\n",
        "\\begin{eqnarray*}\n",
        "  \\frac{\\mathrm d y_1}{\\mathrm d t} & = & f(y_1, t) \\\\\n",
        "  \\frac{\\mathrm d y_2}{\\mathrm d t} & = & f(y_1, y_2, t)\n",
        "\\end{eqnarray*}\n",
        "in which case we can independently solve for $y_1$ and then solve for $y_2$.\n",
        "This scenario arises when $y_2$ is subjected to a forcing function,\n",
        "which is itself the solution to a (simple) ODE.\n",
        "We can then solve $y_1$ analytically and $y_2$ numerically,\n",
        "and get a decent speed up [e.g. @margossian_mixed_solver_2017].\n",
        "But we may be trading computational time for coding time.\n",
        "\n",
        "### Numerical integrators\n",
        "\n",
        "Stan supports a Runge-Kutta (rk45) method for non-stiff systems,\n",
        "```\n",
        "integrate_ode_rk45\n",
        "```\n",
        "and a backward differentiation (bdf) algorithm for stiff systems\n",
        "```\n",
        "integrate_ode_bdf\n",
        "```\n",
        "There is no formal definition of stiffness\n",
        "but the general idea is that the phenomenon occurs when\n",
        "the time step of the integrator needs to be extremely small\n",
        "-- smaller than what is needed to achieve the required\n",
        "accuracy -- in order to make the integrator stable.\n",
        "Stiffness can arise when the scale of the solution varies largely\n",
        "as a function of $t$.\n",
        "The rk45 integrator is typically faster, so we recommend it as a starting point.\n",
        "If however the system is stiff, the rk45 integrator will be numerically unstable.\n",
        "It is not uncommon for the bdf method, when it is warranted,\n",
        "to produce much more efficient inference.\n",
        "\n",
        "Users should therefore be prepared to adjust their solver.\n",
        "This can mean switching from rk45 to bdf,\n",
        "or adjusting the tuning parameters of the integrator,\n",
        "namely the relative and absolute tolerances, and the maximum number of steps.\n",
        "These features are detailed in the [user manual](https://mc-stan.org/docs/2_23/stan-users-guide/ode-solver-chapter.html).\n",
        "When an integrator fails to solve an ODE,\n",
        "Stan issues a warning message and rejects the iteration being computed.\n",
        "An excessive number of such failures can indicate the integrator needs to\n",
        "be adjusted.\n",
        "\n",
        "For certain problems,\n",
        "knowing a priori if a system is stiff may not be obvious.\n",
        "What is even less obvious is whether a coupled system is stiff.\n",
        "And what is yet again less obvious is whether a system is stiff or nonstiff\n",
        "across the range of parameters the Markov chain explores,\n",
        "both during the warmup and the sampling phases.\n",
        "During warmup the chain can indeed land in odd regions\n",
        "of the parameter space and the ODE can have an unexpected behavior.\n",
        "This is not a fault of the sampler, per se, because we need to explore the\n",
        "parameter space in order to find regions where the probability mass is high.\n",
        "_But it may be a fault of the model_\n",
        "if our priors allow for the parameters to take absurd values.\n",
        "Constructing more informative priors is then well spent effort,\n",
        "very much in line with what the _folk theorem of statistical computing_^[\"\n",
        "When you have computational problems, often there’s a problem with your model.\",\n",
        "see https://statmodeling.stat.columbia.edu/2008/05/13/the_folk_theore/.\n",
        "] prescribes.\n",
        "\n",
        "\n",
        "# 4 Extensions\n",
        "\n",
        "This is just one disease progression model that you might fit in Stan. Stan is meant to be flexible because modeling shouldn't be a cookie-cutter process. Here are a number of extensions to the model that might be useful to consider in different scenarios.\n",
        "\n",
        "1. One of the assumptions of the current model was that the rate $\\beta$ is constant. Another possibility is $\\beta$ could be modeled as a function of different interventions applied to the system over time.\n",
        "\n",
        "2. The boarding school data describes an isolated population where all of the cases can be observed and recorded. In a less controlled environment, however, under-reporting might take place. In such cases, models need to be corrected to adjust for the measurement procedure. Here both the selection of the tested population, as well as the test sensitivity might play a role.\n",
        "\n",
        "3. We have treated the number of students in bed on every given day as prevalence data. In many real life situations, the reported counts would represent the number of *new* cases on each given day constituting incidence data. In the simple model above, incidence can be computed as\n",
        "```{stan, eval=F, output.var=\"md\"}\n",
        "for (i in 1:n_days-1)\n",
        "  incidence[i] = y[i, 1] - y[i + 1, 1]; //S(t) - S(t + 1)\n",
        "```\n",
        "\n",
        "Model formulation can then be adjusted as\n",
        "```{stan, eval=F, output.var=\"md\"}\n",
        "cases ~ neg_binomial_2(incidence, phi);\n",
        "```\n",
        "\n",
        "4. If data for more than one compartment is available, it could be used as well for model fitting in the same framework. For instance, in the presence of the 'death due to disease' compartment, the data block would have an additional entry\n",
        "```{stan, eval=F, output.var=\"md\"}\n",
        "int deaths[n_days];\n",
        "```\n",
        "and the model part would include\n",
        "```{stan, eval=F, output.var=\"md\"}\n",
        "deaths ~ neg_binomial_2(col(to_matrix(y),4), phi_death);\n",
        "```\n",
        "where $y$ is the 4-entry state of the system, and $\\phi_\\text{death}$ is the death-specific overdispersion parameter.\n",
        "\n",
        "\n",
        "5. Further extensions could include an adjustment for the natural birth and death and temporal effect of immunity.\n",
        "\n",
        "6. Heterogeneity of the population could be reflected in separate compartments for different age groups and geographical regions.\n",
        "\n",
        "7. Spatial heterogeneity could be modelled either via metapopulation models or models capturing neighbouring structure explicitly, such as CAR models."
      ],
      "metadata": {
        "id": "eDR5nLu4s-tH"
      }
    }
  ]
}