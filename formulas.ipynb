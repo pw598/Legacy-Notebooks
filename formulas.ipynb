{
 "cells": [
  {
   "cell_type": "code",
   "execution_count": 1,
   "id": "8b25129b-ebe9-4a2f-8bc9-226d3ad65477",
   "metadata": {},
   "outputs": [],
   "source": [
    "# Variance"
   ]
  },
  {
   "cell_type": "markdown",
   "id": "78349a8e-ca97-4558-bc98-7df41b0426e2",
   "metadata": {},
   "source": [
    "Population Variance:\n",
    "\n",
    "<h4>$\\sigma^2 = \\frac{\\sum(x - \\mu)^2}{n}$</h4>\n",
    "\n",
    "Sample Variance:\n",
    "\n",
    "<h4>$s^2 = \\frac{\\sum(x - \\bar{x})^2}{n-1}$</h4>\n",
    "\n",
    "- $x$ is the value of an instance in the dataset\n",
    "- $\\mu$ is the population average value\n",
    "- $\\bar{x}$ is the sample average value\n",
    "- $n$ is the number of observations"
   ]
  },
  {
   "cell_type": "code",
   "execution_count": 2,
   "id": "b89cc0ab-f2ea-450e-a6b7-eb0a4a01cd19",
   "metadata": {},
   "outputs": [],
   "source": [
    "# Standard Deviation"
   ]
  },
  {
   "cell_type": "markdown",
   "id": "213adce5-53f0-4bc4-bccb-6f9265a6b9b1",
   "metadata": {
    "tags": []
   },
   "source": [
    "Population Standard Deviation:\n",
    "\n",
    "<h4>$\\sigma = \\sqrt{\\sigma^2} = \\sqrt{\\frac{\\sum(x - \\mu)^2}{n}}$</h4>\n",
    "\n",
    "Sample Standard Deviation:\n",
    "\n",
    "<h4>$s = \\sqrt{s^2} = \\sqrt{\\frac{\\sum(x - \\bar{x})^2}{n-1}}$</h4>\n",
    "\n",
    "- $\\sigma$ is the population standard deviation\n",
    "- $s$ is the sample standard deviation\n",
    "- $x$ is the value of an instance in the dataset\n",
    "- $\\mu$ is the population average value\n",
    "- $\\bar{x}$ is the sample average value\n",
    "- $n$ is the number of observations"
   ]
  },
  {
   "cell_type": "code",
   "execution_count": 3,
   "id": "efa5ddf4-5f7b-4452-9179-566783254763",
   "metadata": {},
   "outputs": [],
   "source": [
    "## Covariance"
   ]
  },
  {
   "cell_type": "markdown",
   "id": "0820fbc7-49a5-4672-825d-2a4ea71c54d2",
   "metadata": {},
   "source": [
    "Population Covariance: \n",
    "\n",
    "<h4>$cov(x,y) = \\frac{\\sum (x_i - \\bar{x}) (y_i - \\bar{y})}{n}$</h4>\n",
    "\n",
    "Sample Covariance: \n",
    "\n",
    "<h4>$cov(x,y) = \\frac{\\sum (x_i - \\bar{x}) (y_i - \\bar{y})}{n-1}$</h4>\n",
    "\n",
    "- $x$ is a vector (single row or column series) of values\n",
    "- $y$ is a vector of values\n",
    "- $x_i$ is an individual data point of $x$\n",
    "- $\\bar{x}$ is the average value of $x$\n",
    "- $y_i$ is an individual data point of $y$\n",
    "- $\\bar{y}$ is the average value of $y$\n",
    "- $n$ is the number of observations"
   ]
  },
  {
   "cell_type": "code",
   "execution_count": 4,
   "id": "0c092152-a170-489b-9ad3-6608546389dc",
   "metadata": {},
   "outputs": [],
   "source": [
    "## Correlation"
   ]
  },
  {
   "cell_type": "markdown",
   "id": "34786633-5150-4b25-8a95-c9f6b886ee98",
   "metadata": {
    "tags": []
   },
   "source": [
    "<h4>$r = \\frac{ \\sum (x_i - \\bar{x}) (y_i - \\bar{y}) }{ \\sqrt{\\sum(x_i - \\bar{x})^2} \\sqrt{\\sum(y_i - \\bar{y})^2} }$</h4>\n",
    "\n",
    "- $x$ is a vector of values\n",
    "- $y$ is a vector of values\n",
    "- $x_i$ is an individual data point of $x$\n",
    "- $\\bar{x}$ is the average value of $x$\n",
    "- $y_i$ is an individual data point of $y$\n",
    "- $\\bar{y}$ is the average value of $y$\n",
    "- $n$ is the number of observations"
   ]
  },
  {
   "cell_type": "code",
   "execution_count": 5,
   "id": "da1711c2-4011-4345-a246-ac18e9a2df70",
   "metadata": {},
   "outputs": [],
   "source": [
    "# Z-Score"
   ]
  },
  {
   "cell_type": "markdown",
   "id": "c05ff988-9d6b-41f9-b510-c8618ca0280f",
   "metadata": {},
   "source": [
    "<h4>$z = \\frac{x_i - \\mu}{\\sigma}$</h4>\n",
    "\n",
    "- $z$ is the distance in standard deviations of $x_i$ from the mean of $x$, $\\mu$\n",
    "- $x_i$ is an individual instance from the vector $x$\n",
    "- $\\mu$ is the average value of $x$\n",
    "- $\\sigma$ is the standard deviation of $x$"
   ]
  },
  {
   "cell_type": "code",
   "execution_count": 6,
   "id": "4c0d063d-7069-4edc-a669-5614589a0afe",
   "metadata": {},
   "outputs": [],
   "source": [
    "# Min-Max Scaling"
   ]
  },
  {
   "cell_type": "markdown",
   "id": "c610ff77-0b20-4d6d-ac18-b305e1be13d9",
   "metadata": {},
   "source": [
    "<h4>$scaled ~x_i = \\frac{x_i - min(x)}{max(x) - min(x)}$</h4>\n",
    "\n",
    "- $scaled ~x_i$ is the proportion of range from the minimum to maximum of the vector $x$\n",
    "- $x_i$ is an individual instance of $x$\n",
    "- $min(x)$ is the minimum value of $x$\n",
    "- $max(x)$ is the maximum value of $x$"
   ]
  },
  {
   "cell_type": "code",
   "execution_count": 7,
   "id": "b9d025fb-8e64-43a3-8984-31388d66d483",
   "metadata": {},
   "outputs": [],
   "source": [
    "# Confidence Intervals"
   ]
  },
  {
   "cell_type": "markdown",
   "id": "217bd999-45f4-48b9-ad9d-edfe85fb143b",
   "metadata": {},
   "source": [
    "Confidence Interval with z Statistic:\n",
    "\n",
    "$CI = \\bar{x} \\pm z_{\\alpha} \\frac{s}{\\sqrt{n}}$\n",
    "\n",
    "Confidence Interval with t Statistic:\n",
    "\n",
    "$CI = \\bar{x} \\pm t_{n-1} \\frac{s}{\\sqrt{n}}$\n",
    "\n",
    "- $\\bar{x}$ is the sample average\n",
    "- $z_{\\alpha}$ is a critical $z$ statistic for the given $\\alpha$ (significance) level\n",
    "- $\\alpha$ is the significance level (0.05 is common)\n",
    "- $s$ is the sample standard deviation\n",
    "- $t_{n-1}$ is a critical $t$ statistic with degrees of freedom equal to $n-1$\n",
    "- $n$ is the number of observations"
   ]
  },
  {
   "cell_type": "code",
   "execution_count": 8,
   "id": "deec38fd-3bab-466d-834b-1b67e3b23009",
   "metadata": {},
   "outputs": [],
   "source": [
    "# Normal Distribution PDF"
   ]
  },
  {
   "cell_type": "markdown",
   "id": "dd5c1a26-922c-432c-937f-4ab77895b94e",
   "metadata": {},
   "source": [
    "<h4>$f(x) = \\frac{1}{\\sigma \\sqrt{2 \\pi}} e^{ \\frac{1}{2} \\left( \\frac{x-\\mu}{\\sigma} \\right)^2 }$</h4>\n",
    "\n",
    "- $\\mu$ is the expected mean\n",
    "- $\\sigma$ is the standard deviation\n",
    "- $e$ is Euler's constant, an irrational (never-ending) number starting with $2.71828...$\n",
    "- $\\pi$ is an irrational number starting with $3.14159...$"
   ]
  },
  {
   "cell_type": "code",
   "execution_count": null,
   "id": "c2d2fe0c-6dd8-4892-bcad-ecf07b7b7842",
   "metadata": {},
   "outputs": [],
   "source": []
  },
  {
   "cell_type": "code",
   "execution_count": null,
   "id": "a046f92f-ce82-453a-a3af-ed7df887f699",
   "metadata": {},
   "outputs": [],
   "source": []
  },
  {
   "cell_type": "code",
   "execution_count": 9,
   "id": "b3dcefe2-7b6a-4b4f-96a9-7d0cf0f758dd",
   "metadata": {},
   "outputs": [],
   "source": [
    "# ANOVA"
   ]
  },
  {
   "cell_type": "markdown",
   "id": "6112fc52-c230-477f-bb94-4118537cc9d1",
   "metadata": {},
   "source": [
    "$H_0: \\mu_1 = \\mu_2 = \\ldots = \\mu_3$\n",
    "\n",
    "$H_A: \\mu_i \\neq \\mu_j$"
   ]
  },
  {
   "cell_type": "markdown",
   "id": "706972f8-f032-4b3e-a8f2-26c0f1365c55",
   "metadata": {},
   "source": [
    "$$SS = \\sum_{i=1}^n (x_i - \\bar{x})^2$$\n",
    "\n",
    "$$\\sigma^2 = \\frac{1}{n-1} \\sum_{i=1}^n (x_i - \\bar{x})^2$$"
   ]
  },
  {
   "cell_type": "markdown",
   "id": "342613ce-a088-4cef-8b33-5cbd7f9e3861",
   "metadata": {},
   "source": [
    "$F = \\frac{\\text{explained var.}}{\\text{unexplained var.}} = \\frac{\\text{due to factors}}{\\text{natural variation}}$"
   ]
  },
  {
   "cell_type": "markdown",
   "id": "e087bab3-c091-40f3-b08e-1820c9c26cd4",
   "metadata": {},
   "source": [
    "$$SS_{Total} = \\sum_{j=1}^{\\text{levels}} \\sum_{i=1}^{\\text{individuals}} (x_{ij} - \\bar{x})^2, ~~~df_{total}=N-1$$\n",
    "\n",
    "$$SS_{Between} = \\sum_{j=1}^{\\text{levels}} (\\bar{x}_j - \\bar{x})^2 ~n_j, ~~~df_{between}=k-1$$\n",
    "\n",
    "$$SS_{Within} = \\sum_{j=1}^{\\text{levels}} \\sum_{i=1}^{\\text{individuals}} (x_{ij} - \\bar{x}_j)^2, ~~~df_{within}=N-k$$"
   ]
  },
  {
   "cell_type": "markdown",
   "id": "6fd55410-3015-461c-a9d7-0d399eac408f",
   "metadata": {},
   "source": [
    "- $k$ is the number of levels"
   ]
  },
  {
   "cell_type": "markdown",
   "id": "4cc9eb8a-c6bb-4ff0-8325-e7471a26d0f5",
   "metadata": {},
   "source": [
    "$SS = \\sum_{i=1}^n (x_i - \\bar{x})^2$\n",
    "\n",
    "$\\sigma^2 = \\frac{1}{n-1} \\sum_{i=1}^n (x_i - \\bar{x})^2$\n",
    "\n",
    "The only difference between what we're calling sum of squares in ANOVA and the variance is that the variance divides the $\\sum_{i=1}^n (x_i - \\bar{x})^2$ by $n-1$ (or factors by $\\frac{1}{n-1})$."
   ]
  },
  {
   "cell_type": "markdown",
   "id": "8396dabe-e318-4423-b6be-34470090fbc2",
   "metadata": {},
   "source": []
  },
  {
   "cell_type": "markdown",
   "id": "a0a44c34-8071-4034-a472-a0c677f26625",
   "metadata": {},
   "source": [
    "$F = \\frac{\\text{explained var.}}{\\text{unexplained var.}} = \\frac{\\text{due to factors}}{\\text{natural variation}}$"
   ]
  },
  {
   "cell_type": "code",
   "execution_count": 10,
   "id": "7f6ba2d7-3956-467d-a2af-54fada774682",
   "metadata": {},
   "outputs": [],
   "source": [
    "# Two-Way ANOVA"
   ]
  },
  {
   "cell_type": "markdown",
   "id": "05e2093d-61d4-4369-92ba-4aa78874c965",
   "metadata": {},
   "source": [
    "$$SS_{Total} = \\sum_{j=1}^{levels} \\sum_{i=1}^{individuals} (x_{ij} - \\bar{x})^2, ~~~\\text{df}_{Total} = N-1$$\n",
    "\n",
    "$$SS_{Between} = \\sum_{j=1}^{levels} (\\bar{x}j - \\bar{x})^2 n_j, ~~~\\text{df}_{Between} = k-1$$\n",
    "\n",
    "$$SS_{Within} = \\sum_{j=1}^{levels} \\sum_{i=1}^{individuals} (x_{ij} - \\bar{x}_j)^2, ~~~\\text{df}_{Within} = N$$"
   ]
  },
  {
   "cell_type": "code",
   "execution_count": 11,
   "id": "8cf279d5-0e94-445e-b565-077440980f6a",
   "metadata": {},
   "outputs": [],
   "source": [
    "# The Tukey Test"
   ]
  },
  {
   "cell_type": "markdown",
   "id": "9f4449d1-b7d8-4953-8f7d-aa9c5046565d",
   "metadata": {},
   "source": [
    "$q = \\frac{ \\bar{x}_b - \\bar{x}_s }{ \\sqrt{MS_{Within}} \\sqrt{2/n} }$"
   ]
  },
  {
   "cell_type": "code",
   "execution_count": null,
   "id": "d3aede36-8103-45bd-8a73-96e0330b2c86",
   "metadata": {},
   "outputs": [],
   "source": []
  },
  {
   "cell_type": "code",
   "execution_count": 12,
   "id": "6aeeb386-0797-462b-bb57-ef877718dc17",
   "metadata": {},
   "outputs": [],
   "source": [
    "# Standard Error"
   ]
  },
  {
   "cell_type": "markdown",
   "id": "8a13724b-3472-4e3a-aa07-2ada8d2dec8f",
   "metadata": {},
   "source": [
    "$SE = \\sigma / \\sqrt{n}$\n",
    "- SE is the standard error of the mean\n",
    "- $\\sigma$ is the standard deviation\n",
    "- $n$ is the number of observations"
   ]
  },
  {
   "cell_type": "code",
   "execution_count": null,
   "id": "949d8bd5-1416-46a0-a7a4-12745eec2cdb",
   "metadata": {},
   "outputs": [],
   "source": []
  },
  {
   "cell_type": "code",
   "execution_count": 13,
   "id": "01dd7e0a-c8e6-4a87-b153-965f976cb934",
   "metadata": {},
   "outputs": [],
   "source": [
    "# Logistic Regression Example"
   ]
  },
  {
   "cell_type": "markdown",
   "id": "2d63fa4b-edc1-4d07-9217-8541aad00c3f",
   "metadata": {},
   "source": [
    "$P(y^{(i)}=1) = \\frac{1}{ 1 + exp(-( 3.681 + (0.113 \\times 13) - (0.396 \\times 4) - 0.680 \\times 4)) } = 0.700$"
   ]
  },
  {
   "cell_type": "code",
   "execution_count": null,
   "id": "979eae21-cc97-4406-8563-4d2fb96bfa6b",
   "metadata": {},
   "outputs": [],
   "source": []
  },
  {
   "cell_type": "markdown",
   "id": "6ba1b154-de09-4d13-8c67-b553e9ecbddf",
   "metadata": {},
   "source": [
    "$logits = \\text{log-odds} = ln \\left( \\frac{P(y=1)}{P(y=0)} \\right) = \\beta_0 + \\beta_1 x_1^{(i)} + \\ldots + \\beta_p x_p^{(i)}$"
   ]
  },
  {
   "cell_type": "code",
   "execution_count": null,
   "id": "5346a594-ee5e-44ce-b706-c505495528fb",
   "metadata": {},
   "outputs": [],
   "source": []
  },
  {
   "cell_type": "markdown",
   "id": "146f2da0-547f-480f-bbe6-fdfc7f8c5a44",
   "metadata": {
    "tags": []
   },
   "source": [
    "$odds = exp(logit) = exp(\\beta_0 + \\beta_1 x_1^{(i)} + \\ldots + \\beta_p x_p^{(i)})$"
   ]
  },
  {
   "cell_type": "code",
   "execution_count": null,
   "id": "fb2c49b1-6e50-4b18-aeef-89269d0c9d04",
   "metadata": {},
   "outputs": [],
   "source": []
  },
  {
   "cell_type": "markdown",
   "id": "d0bb8573-864a-4ade-bf6e-bc05dd0509f6",
   "metadata": {},
   "source": [
    "$probability = \\frac{odds}{1+odds} \\text{ if class=1, else } \\left( 1-\\frac{odds}{1+odds} \\right)$"
   ]
  },
  {
   "cell_type": "code",
   "execution_count": null,
   "id": "fbd2a67a-a49e-4abb-a54d-b9a0bf54bd16",
   "metadata": {},
   "outputs": [],
   "source": []
  },
  {
   "cell_type": "markdown",
   "id": "e7d636dd-7c7f-4910-8c1c-86f64a20823c",
   "metadata": {},
   "source": [
    "$\\text{log-likelihood} = ln(probability)$"
   ]
  },
  {
   "cell_type": "code",
   "execution_count": null,
   "id": "817bb135-9166-4ed3-a086-59836e7c6622",
   "metadata": {},
   "outputs": [],
   "source": []
  },
  {
   "cell_type": "code",
   "execution_count": null,
   "id": "502a7de1-56eb-4aee-b96f-68b6b52f9679",
   "metadata": {},
   "outputs": [],
   "source": []
  },
  {
   "cell_type": "markdown",
   "id": "3f6ca6ca-5c3e-43d1-9b0e-8dc7b532282f",
   "metadata": {},
   "source": [
    "$Q* = Q \\sqrt{s_p^2/n}$   \n",
    "\n",
    "correct?\n",
    "\n",
    "- $s_p^2$ is the pooled standard deviation across all groups\n",
    "- $n$ is the sample size for a given group (which one?)"
   ]
  },
  {
   "cell_type": "markdown",
   "id": "aeb1cd54-9347-422e-ae1f-f6e5ac1a4c9d",
   "metadata": {},
   "source": [
    "$Q* = Q \\sqrt{s_p^2/n} = 3.53 \\times \\sqrt{19.056/10} = 4.87$"
   ]
  },
  {
   "cell_type": "code",
   "execution_count": null,
   "id": "a94ba4b0-1a34-4f55-9211-5c4791a62561",
   "metadata": {},
   "outputs": [],
   "source": []
  },
  {
   "cell_type": "markdown",
   "id": "c546e208-cf9d-40bf-8c0a-0a0f5df9cba5",
   "metadata": {},
   "source": [
    "PMF:\n",
    "    \n",
    "$P(X=1) = p$\n",
    "\n",
    "$P(X=0) = 1-p = q$\n",
    "\n",
    "Expected Value: $p\n",
    "Variance: $pq$"
   ]
  },
  {
   "cell_type": "code",
   "execution_count": null,
   "id": "c199c27b-d05e-4c4e-97fb-2332ca8a1342",
   "metadata": {},
   "outputs": [],
   "source": []
  },
  {
   "cell_type": "code",
   "execution_count": null,
   "id": "8fce2407-98d6-47a6-b0eb-8f061460ac12",
   "metadata": {},
   "outputs": [],
   "source": []
  }
 ],
 "metadata": {
  "kernelspec": {
   "display_name": "Python 3 (ipykernel)",
   "language": "python",
   "name": "python3"
  },
  "language_info": {
   "codemirror_mode": {
    "name": "ipython",
    "version": 3
   },
   "file_extension": ".py",
   "mimetype": "text/x-python",
   "name": "python",
   "nbconvert_exporter": "python",
   "pygments_lexer": "ipython3",
   "version": "3.11.5"
  }
 },
 "nbformat": 4,
 "nbformat_minor": 5
}
