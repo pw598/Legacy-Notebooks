{
 "cells": [
  {
   "cell_type": "code",
   "execution_count": null,
   "id": "544023f7-7c48-47a0-9bc6-3bd08027ba4f",
   "metadata": {},
   "outputs": [],
   "source": []
  },
  {
   "cell_type": "markdown",
   "id": "78349a8e-ca97-4558-bc98-7df41b0426e2",
   "metadata": {},
   "source": [
    "Population Variance:\n",
    "\n",
    "$\\sigma^2 = \\frac{\\sum(x - \\mu)^2}{n}$\n",
    "\n",
    "Sample Variance:\n",
    "\n",
    "$s^2 = \\frac{\\sum(x - \\bar{x})^2}{n-1}$\n",
    "- $x$ is the value of an instance in the dataset\n",
    "- $\\mu$ is the population average value\n",
    "- $\\bar{x}$ is the sample average value\n",
    "- $n$ is the number of observations"
   ]
  },
  {
   "cell_type": "markdown",
   "id": "213adce5-53f0-4bc4-bccb-6f9265a6b9b1",
   "metadata": {
    "tags": []
   },
   "source": [
    "Population Standard Deviation:\n",
    "\n",
    "$\\sqrt{\\sigma^2} = \\sqrt{\\frac{\\sum(x - \\mu)^2}{n}}$\n",
    "\n",
    "Sample Standard Deviation:\n",
    "\n",
    "$\\sqrt{s^2} = \\sqrt{\\frac{\\sum(x - \\bar{x})^2}{n-1}}$"
   ]
  },
  {
   "cell_type": "code",
   "execution_count": null,
   "id": "efa5ddf4-5f7b-4452-9179-566783254763",
   "metadata": {},
   "outputs": [],
   "source": [
    "## Covariance"
   ]
  },
  {
   "cell_type": "markdown",
   "id": "0820fbc7-49a5-4672-825d-2a4ea71c54d2",
   "metadata": {},
   "source": [
    "Population Covariance: \n",
    "\n",
    "$cov(x,y) = \\frac{\\sum (x_i - \\bar{x}) (y_i - \\bar{y})}{N}$\n",
    "\n",
    "Sample Covariance: \n",
    "\n",
    "$cov(x,y) = \\frac{\\sum (x_i - \\bar{x}) (y_i - \\bar{y})}{N-1}$"
   ]
  },
  {
   "cell_type": "code",
   "execution_count": null,
   "id": "0c092152-a170-489b-9ad3-6608546389dc",
   "metadata": {},
   "outputs": [],
   "source": [
    "## Correlation"
   ]
  },
  {
   "cell_type": "markdown",
   "id": "34786633-5150-4b25-8a95-c9f6b886ee98",
   "metadata": {
    "tags": []
   },
   "source": [
    "$r = \\frac{ \\sum (x_i - \\bar{x}) (y_i - \\bar{y}) }{ \\sqrt{\\sum(x_i - \\bar{x})^2} \\sqrt{\\sum(y_i - \\bar{y})^2} }$"
   ]
  },
  {
   "cell_type": "code",
   "execution_count": null,
   "id": "da1711c2-4011-4345-a246-ac18e9a2df70",
   "metadata": {},
   "outputs": [],
   "source": []
  },
  {
   "cell_type": "code",
   "execution_count": null,
   "id": "46e5e641-cdfc-4a25-8b5f-0c924b19ad15",
   "metadata": {},
   "outputs": [],
   "source": []
  }
 ],
 "metadata": {
  "kernelspec": {
   "display_name": "Python 3 (ipykernel)",
   "language": "python",
   "name": "python3"
  },
  "language_info": {
   "codemirror_mode": {
    "name": "ipython",
    "version": 3
   },
   "file_extension": ".py",
   "mimetype": "text/x-python",
   "name": "python",
   "nbconvert_exporter": "python",
   "pygments_lexer": "ipython3",
   "version": "3.11.5"
  }
 },
 "nbformat": 4,
 "nbformat_minor": 5
}
