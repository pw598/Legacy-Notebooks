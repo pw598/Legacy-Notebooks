{
 "cells": [
  {
   "cell_type": "markdown",
   "id": "55b04544",
   "metadata": {},
   "source": [
    "# <i>Survival Analysis III</i>\n",
    "## <i>Cox Proportional Hazards Model</i>"
   ]
  },
  {
   "cell_type": "markdown",
   "id": "a73124c0",
   "metadata": {
    "tags": []
   },
   "source": [
    "There are a few popular models in survival regression: Cox's model, accelerated failure models, and Aalen's additive model. All models attempt to represent the hazard rate $h(t|x)$ as a function of $t$ and some covariates $X$.\n",
    "    \n",
    "The semi-parametric Cox proportional hazards model produces $\\beta_i$ coefficients of the independent variables, and non-negative hazard estimates, without making strong assumptions about the data the way that parametric methods do.\n",
    "\n",
    "The hazard and survival functions $h(t,X)$ and $S(t,X)$ can be estimated, but the Cox model cannot directly handle left-censored or interval-censored data.\n",
    "\n",
    "The Cox proportional hazards model expresses the hazard at time $t$ as the product of a baseline hazard function (i.e., with explanatory variables excluded) and the exponential of a term that is linear in its predictors. In other words, the expression is divided into one term depending on time only, and one term depending on the time-independent $X_i$s.\n",
    "\n",
    "The hazard function for the Cox proportional hazards model is:\n",
    "\n",
    "<h1>$\\underbrace{h(t|X)} = \\overbrace{h_0(t)} \\underbrace{ exp(\\sum_{i=1}^p \\beta_i X_i) }$</h1>\n",
    "\n",
    "- $h_0(t)$ is the baseline hazard, the probability of experiencing the event of interest when all covariates equal $0$\n",
    "- $X$ is the predictor variables\n",
    "- $p$ is the number of predictors\n",
    "- $\\beta$ is the vector of coefficients"
   ]
  },
  {
   "cell_type": "markdown",
   "id": "6c28b5fb-b1d7-432b-92f2-6659a55536a9",
   "metadata": {},
   "source": [
    "### Import Libraries and Data"
   ]
  },
  {
   "cell_type": "code",
   "execution_count": 1,
   "id": "2c6afb77-bfe9-486e-8174-faa4e9c0f196",
   "metadata": {},
   "outputs": [
    {
     "name": "stdout",
     "output_type": "stream",
     "text": [
      "(686, 10)\n"
     ]
    },
    {
     "data": {
      "text/html": [
       "<div>\n",
       "<style scoped>\n",
       "    .dataframe tbody tr th:only-of-type {\n",
       "        vertical-align: middle;\n",
       "    }\n",
       "\n",
       "    .dataframe tbody tr th {\n",
       "        vertical-align: top;\n",
       "    }\n",
       "\n",
       "    .dataframe thead th {\n",
       "        text-align: right;\n",
       "    }\n",
       "</style>\n",
       "<table border=\"1\" class=\"dataframe\">\n",
       "  <thead>\n",
       "    <tr style=\"text-align: right;\">\n",
       "      <th></th>\n",
       "      <th>horTh</th>\n",
       "      <th>age</th>\n",
       "      <th>menostat</th>\n",
       "      <th>tsize</th>\n",
       "      <th>tgrade</th>\n",
       "      <th>pnodes</th>\n",
       "      <th>progrec</th>\n",
       "      <th>estrec</th>\n",
       "      <th>time</th>\n",
       "      <th>cens</th>\n",
       "    </tr>\n",
       "  </thead>\n",
       "  <tbody>\n",
       "    <tr>\n",
       "      <th>0</th>\n",
       "      <td>no</td>\n",
       "      <td>70</td>\n",
       "      <td>Post</td>\n",
       "      <td>21</td>\n",
       "      <td>II</td>\n",
       "      <td>3</td>\n",
       "      <td>48</td>\n",
       "      <td>66</td>\n",
       "      <td>1814</td>\n",
       "      <td>1</td>\n",
       "    </tr>\n",
       "    <tr>\n",
       "      <th>1</th>\n",
       "      <td>yes</td>\n",
       "      <td>56</td>\n",
       "      <td>Post</td>\n",
       "      <td>12</td>\n",
       "      <td>II</td>\n",
       "      <td>7</td>\n",
       "      <td>61</td>\n",
       "      <td>77</td>\n",
       "      <td>2018</td>\n",
       "      <td>1</td>\n",
       "    </tr>\n",
       "    <tr>\n",
       "      <th>2</th>\n",
       "      <td>yes</td>\n",
       "      <td>58</td>\n",
       "      <td>Post</td>\n",
       "      <td>35</td>\n",
       "      <td>II</td>\n",
       "      <td>9</td>\n",
       "      <td>52</td>\n",
       "      <td>271</td>\n",
       "      <td>712</td>\n",
       "      <td>1</td>\n",
       "    </tr>\n",
       "    <tr>\n",
       "      <th>3</th>\n",
       "      <td>yes</td>\n",
       "      <td>59</td>\n",
       "      <td>Post</td>\n",
       "      <td>17</td>\n",
       "      <td>II</td>\n",
       "      <td>4</td>\n",
       "      <td>60</td>\n",
       "      <td>29</td>\n",
       "      <td>1807</td>\n",
       "      <td>1</td>\n",
       "    </tr>\n",
       "    <tr>\n",
       "      <th>4</th>\n",
       "      <td>no</td>\n",
       "      <td>73</td>\n",
       "      <td>Post</td>\n",
       "      <td>35</td>\n",
       "      <td>II</td>\n",
       "      <td>1</td>\n",
       "      <td>26</td>\n",
       "      <td>65</td>\n",
       "      <td>772</td>\n",
       "      <td>1</td>\n",
       "    </tr>\n",
       "  </tbody>\n",
       "</table>\n",
       "</div>"
      ],
      "text/plain": [
       "  horTh  age menostat  tsize tgrade  pnodes  progrec  estrec  time  cens\n",
       "0    no   70     Post     21     II       3       48      66  1814     1\n",
       "1   yes   56     Post     12     II       7       61      77  2018     1\n",
       "2   yes   58     Post     35     II       9       52     271   712     1\n",
       "3   yes   59     Post     17     II       4       60      29  1807     1\n",
       "4    no   73     Post     35     II       1       26      65   772     1"
      ]
     },
     "execution_count": 1,
     "metadata": {},
     "output_type": "execute_result"
    }
   ],
   "source": [
    "import lifelines\n",
    "import numpy as np\n",
    "import pandas as pd\n",
    "import matplotlib.pyplot as plt\n",
    "\n",
    "data = lifelines.datasets.load_gbsg2()\n",
    "print(np.shape(data))\n",
    "data.head()"
   ]
  },
  {
   "cell_type": "markdown",
   "id": "2b5d3eca-a207-4ece-8b7f-80e8faaf573f",
   "metadata": {},
   "source": [
    "### Preprocessing"
   ]
  },
  {
   "cell_type": "markdown",
   "id": "e238f0e2-e729-4cfe-bb87-5b665aa388ca",
   "metadata": {},
   "source": [
    "There are categorical variables, which we will need to convert to numeric if we are to use them in a regression model."
   ]
  },
  {
   "cell_type": "code",
   "execution_count": 2,
   "id": "3520ae91-7467-414e-89fd-1a124e62826e",
   "metadata": {
    "tags": []
   },
   "outputs": [
    {
     "name": "stdout",
     "output_type": "stream",
     "text": [
      "no     440\n",
      "yes    246\n",
      "Name: horTh, dtype: int64\n",
      "\n",
      "Post    396\n",
      "Pre     290\n",
      "Name: menostat, dtype: int64\n",
      "\n",
      "II     444\n",
      "III    161\n",
      "I       81\n",
      "Name: tgrade, dtype: int64\n"
     ]
    }
   ],
   "source": [
    "print(data['horTh'].value_counts())\n",
    "print()\n",
    "print(data['menostat'].value_counts())\n",
    "print()\n",
    "print(data['tgrade'].value_counts())"
   ]
  },
  {
   "cell_type": "markdown",
   "id": "1052ab1e-92be-46cd-83b5-16061ede6582",
   "metadata": {},
   "source": [
    "##### Label-Encoding"
   ]
  },
  {
   "cell_type": "markdown",
   "id": "e2aa9d94-0298-447b-b819-883fcd8c2f25",
   "metadata": {
    "tags": []
   },
   "source": [
    "horTh and menostat only have two categories, so we can use label-encoding. Tumor grade has three categories, and will require one-hot encoding."
   ]
  },
  {
   "cell_type": "code",
   "execution_count": 3,
   "id": "6dc1ba0f-77cf-4c8a-982a-d17bdaecbf86",
   "metadata": {
    "tags": []
   },
   "outputs": [],
   "source": [
    "data['horTh'] = data['horTh'].map({'no': 0, 'yes': 1})\n",
    "data['menostat'] = data['menostat'].map({'Pre': 0, 'Post': 1})"
   ]
  },
  {
   "cell_type": "markdown",
   "id": "983421a6-3ded-4065-9238-d5e518a7a038",
   "metadata": {},
   "source": [
    "##### One-Hot Encoding"
   ]
  },
  {
   "cell_type": "code",
   "execution_count": 4,
   "id": "d5a31564-a762-4a0a-8c8b-a85a2ae3ec77",
   "metadata": {
    "tags": []
   },
   "outputs": [
    {
     "data": {
      "text/html": [
       "<div>\n",
       "<style scoped>\n",
       "    .dataframe tbody tr th:only-of-type {\n",
       "        vertical-align: middle;\n",
       "    }\n",
       "\n",
       "    .dataframe tbody tr th {\n",
       "        vertical-align: top;\n",
       "    }\n",
       "\n",
       "    .dataframe thead th {\n",
       "        text-align: right;\n",
       "    }\n",
       "</style>\n",
       "<table border=\"1\" class=\"dataframe\">\n",
       "  <thead>\n",
       "    <tr style=\"text-align: right;\">\n",
       "      <th></th>\n",
       "      <th>horTh</th>\n",
       "      <th>age</th>\n",
       "      <th>menostat</th>\n",
       "      <th>tsize</th>\n",
       "      <th>pnodes</th>\n",
       "      <th>progrec</th>\n",
       "      <th>estrec</th>\n",
       "      <th>time</th>\n",
       "      <th>cens</th>\n",
       "      <th>tgrd2</th>\n",
       "      <th>tgrd3</th>\n",
       "    </tr>\n",
       "  </thead>\n",
       "  <tbody>\n",
       "    <tr>\n",
       "      <th>0</th>\n",
       "      <td>0</td>\n",
       "      <td>70</td>\n",
       "      <td>1</td>\n",
       "      <td>21</td>\n",
       "      <td>3</td>\n",
       "      <td>48</td>\n",
       "      <td>66</td>\n",
       "      <td>1814</td>\n",
       "      <td>1</td>\n",
       "      <td>1</td>\n",
       "      <td>0</td>\n",
       "    </tr>\n",
       "    <tr>\n",
       "      <th>1</th>\n",
       "      <td>1</td>\n",
       "      <td>56</td>\n",
       "      <td>1</td>\n",
       "      <td>12</td>\n",
       "      <td>7</td>\n",
       "      <td>61</td>\n",
       "      <td>77</td>\n",
       "      <td>2018</td>\n",
       "      <td>1</td>\n",
       "      <td>1</td>\n",
       "      <td>0</td>\n",
       "    </tr>\n",
       "  </tbody>\n",
       "</table>\n",
       "</div>"
      ],
      "text/plain": [
       "   horTh  age  menostat  tsize  pnodes  progrec  estrec  time  cens  tgrd2  \\\n",
       "0      0   70         1     21       3       48      66  1814     1      1   \n",
       "1      1   56         1     12       7       61      77  2018     1      1   \n",
       "\n",
       "   tgrd3  \n",
       "0      0  \n",
       "1      0  "
      ]
     },
     "execution_count": 4,
     "metadata": {},
     "output_type": "execute_result"
    }
   ],
   "source": [
    "dummies = pd.get_dummies(data['tgrade'], drop_first=True)\n",
    "data = pd.concat([data, dummies], axis=1)\n",
    "data.drop(columns=['tgrade'], inplace=True)\n",
    "data = data.rename(columns={'II': 'tgrd2', 'III': 'tgrd3'})\n",
    "data.head(2)"
   ]
  },
  {
   "cell_type": "markdown",
   "id": "4bc33e74-0308-4d45-aa78-8a2014acc4ff",
   "metadata": {
    "tags": []
   },
   "source": [
    "### Cox Proportional Hazards Model"
   ]
  },
  {
   "cell_type": "markdown",
   "id": "45ce2181-b92e-4bf8-85ae-17ee5e865eb4",
   "metadata": {},
   "source": [
    "Here, a Cox PH model is fitted, and a summary of results printed."
   ]
  },
  {
   "cell_type": "code",
   "execution_count": 5,
   "id": "8b00b578-5e71-4e31-81a8-a07d61dce7f7",
   "metadata": {
    "tags": []
   },
   "outputs": [
    {
     "data": {
      "text/html": [
       "<div>\n",
       "<style scoped>\n",
       "    .dataframe tbody tr th:only-of-type {\n",
       "        vertical-align: middle;\n",
       "    }\n",
       "\n",
       "    .dataframe tbody tr th {\n",
       "        vertical-align: top;\n",
       "    }\n",
       "\n",
       "    .dataframe thead th {\n",
       "        text-align: right;\n",
       "    }\n",
       "</style>\n",
       "<table border=\"1\" class=\"dataframe\">\n",
       "  <tbody>\n",
       "    <tr>\n",
       "      <th>model</th>\n",
       "      <td>lifelines.CoxPHFitter</td>\n",
       "    </tr>\n",
       "    <tr>\n",
       "      <th>duration col</th>\n",
       "      <td>'time'</td>\n",
       "    </tr>\n",
       "    <tr>\n",
       "      <th>event col</th>\n",
       "      <td>'cens'</td>\n",
       "    </tr>\n",
       "    <tr>\n",
       "      <th>baseline estimation</th>\n",
       "      <td>breslow</td>\n",
       "    </tr>\n",
       "    <tr>\n",
       "      <th>number of observations</th>\n",
       "      <td>686</td>\n",
       "    </tr>\n",
       "    <tr>\n",
       "      <th>number of events observed</th>\n",
       "      <td>299</td>\n",
       "    </tr>\n",
       "    <tr>\n",
       "      <th>partial log-likelihood</th>\n",
       "      <td>-1735.73</td>\n",
       "    </tr>\n",
       "    <tr>\n",
       "      <th>time fit was run</th>\n",
       "      <td>2023-09-03 21:46:37 UTC</td>\n",
       "    </tr>\n",
       "  </tbody>\n",
       "</table>\n",
       "</div><table border=\"1\" class=\"dataframe\">\n",
       "  <thead>\n",
       "    <tr style=\"text-align: right;\">\n",
       "      <th style=\"min-width: 12px;\"></th>\n",
       "      <th style=\"min-width: 12px;\">coef</th>\n",
       "      <th style=\"min-width: 12px;\">exp(coef)</th>\n",
       "      <th style=\"min-width: 12px;\">se(coef)</th>\n",
       "      <th style=\"min-width: 12px;\">coef lower 95%</th>\n",
       "      <th style=\"min-width: 12px;\">coef upper 95%</th>\n",
       "      <th style=\"min-width: 12px;\">exp(coef) lower 95%</th>\n",
       "      <th style=\"min-width: 12px;\">exp(coef) upper 95%</th>\n",
       "      <th style=\"min-width: 12px;\">cmp to</th>\n",
       "      <th style=\"min-width: 12px;\">z</th>\n",
       "      <th style=\"min-width: 12px;\">p</th>\n",
       "      <th style=\"min-width: 12px;\">-log2(p)</th>\n",
       "    </tr>\n",
       "  </thead>\n",
       "  <tbody>\n",
       "    <tr>\n",
       "      <th>horTh</th>\n",
       "      <td>-0.35</td>\n",
       "      <td>0.71</td>\n",
       "      <td>0.13</td>\n",
       "      <td>-0.60</td>\n",
       "      <td>-0.09</td>\n",
       "      <td>0.55</td>\n",
       "      <td>0.91</td>\n",
       "      <td>0.00</td>\n",
       "      <td>-2.68</td>\n",
       "      <td>0.01</td>\n",
       "      <td>7.10</td>\n",
       "    </tr>\n",
       "    <tr>\n",
       "      <th>age</th>\n",
       "      <td>-0.01</td>\n",
       "      <td>0.99</td>\n",
       "      <td>0.01</td>\n",
       "      <td>-0.03</td>\n",
       "      <td>0.01</td>\n",
       "      <td>0.97</td>\n",
       "      <td>1.01</td>\n",
       "      <td>0.00</td>\n",
       "      <td>-1.02</td>\n",
       "      <td>0.31</td>\n",
       "      <td>1.69</td>\n",
       "    </tr>\n",
       "    <tr>\n",
       "      <th>menostat</th>\n",
       "      <td>0.26</td>\n",
       "      <td>1.29</td>\n",
       "      <td>0.18</td>\n",
       "      <td>-0.10</td>\n",
       "      <td>0.62</td>\n",
       "      <td>0.90</td>\n",
       "      <td>1.86</td>\n",
       "      <td>0.00</td>\n",
       "      <td>1.41</td>\n",
       "      <td>0.16</td>\n",
       "      <td>2.65</td>\n",
       "    </tr>\n",
       "    <tr>\n",
       "      <th>tsize</th>\n",
       "      <td>0.01</td>\n",
       "      <td>1.01</td>\n",
       "      <td>0.00</td>\n",
       "      <td>0.00</td>\n",
       "      <td>0.02</td>\n",
       "      <td>1.00</td>\n",
       "      <td>1.02</td>\n",
       "      <td>0.00</td>\n",
       "      <td>1.98</td>\n",
       "      <td>0.05</td>\n",
       "      <td>4.39</td>\n",
       "    </tr>\n",
       "    <tr>\n",
       "      <th>pnodes</th>\n",
       "      <td>0.05</td>\n",
       "      <td>1.05</td>\n",
       "      <td>0.01</td>\n",
       "      <td>0.03</td>\n",
       "      <td>0.06</td>\n",
       "      <td>1.03</td>\n",
       "      <td>1.07</td>\n",
       "      <td>0.00</td>\n",
       "      <td>6.55</td>\n",
       "      <td>&lt;0.005</td>\n",
       "      <td>34.03</td>\n",
       "    </tr>\n",
       "    <tr>\n",
       "      <th>progrec</th>\n",
       "      <td>-0.00</td>\n",
       "      <td>1.00</td>\n",
       "      <td>0.00</td>\n",
       "      <td>-0.00</td>\n",
       "      <td>-0.00</td>\n",
       "      <td>1.00</td>\n",
       "      <td>1.00</td>\n",
       "      <td>0.00</td>\n",
       "      <td>-3.87</td>\n",
       "      <td>&lt;0.005</td>\n",
       "      <td>13.14</td>\n",
       "    </tr>\n",
       "    <tr>\n",
       "      <th>estrec</th>\n",
       "      <td>0.00</td>\n",
       "      <td>1.00</td>\n",
       "      <td>0.00</td>\n",
       "      <td>-0.00</td>\n",
       "      <td>0.00</td>\n",
       "      <td>1.00</td>\n",
       "      <td>1.00</td>\n",
       "      <td>0.00</td>\n",
       "      <td>0.44</td>\n",
       "      <td>0.66</td>\n",
       "      <td>0.60</td>\n",
       "    </tr>\n",
       "    <tr>\n",
       "      <th>tgrd2</th>\n",
       "      <td>0.64</td>\n",
       "      <td>1.89</td>\n",
       "      <td>0.25</td>\n",
       "      <td>0.15</td>\n",
       "      <td>1.12</td>\n",
       "      <td>1.16</td>\n",
       "      <td>3.08</td>\n",
       "      <td>0.00</td>\n",
       "      <td>2.55</td>\n",
       "      <td>0.01</td>\n",
       "      <td>6.55</td>\n",
       "    </tr>\n",
       "    <tr>\n",
       "      <th>tgrd3</th>\n",
       "      <td>0.78</td>\n",
       "      <td>2.18</td>\n",
       "      <td>0.27</td>\n",
       "      <td>0.25</td>\n",
       "      <td>1.31</td>\n",
       "      <td>1.29</td>\n",
       "      <td>3.69</td>\n",
       "      <td>0.00</td>\n",
       "      <td>2.90</td>\n",
       "      <td>&lt;0.005</td>\n",
       "      <td>8.08</td>\n",
       "    </tr>\n",
       "  </tbody>\n",
       "</table><br><div>\n",
       "<style scoped>\n",
       "    .dataframe tbody tr th:only-of-type {\n",
       "        vertical-align: middle;\n",
       "    }\n",
       "\n",
       "    .dataframe tbody tr th {\n",
       "        vertical-align: top;\n",
       "    }\n",
       "\n",
       "    .dataframe thead th {\n",
       "        text-align: right;\n",
       "    }\n",
       "</style>\n",
       "<table border=\"1\" class=\"dataframe\">\n",
       "  <tbody>\n",
       "    <tr>\n",
       "      <th>Concordance</th>\n",
       "      <td>0.69</td>\n",
       "    </tr>\n",
       "    <tr>\n",
       "      <th>Partial AIC</th>\n",
       "      <td>3489.46</td>\n",
       "    </tr>\n",
       "    <tr>\n",
       "      <th>log-likelihood ratio test</th>\n",
       "      <td>104.75 on 9 df</td>\n",
       "    </tr>\n",
       "    <tr>\n",
       "      <th>-log2(p) of ll-ratio test</th>\n",
       "      <td>59.01</td>\n",
       "    </tr>\n",
       "  </tbody>\n",
       "</table>\n",
       "</div>"
      ],
      "text/latex": [
       "\\begin{tabular}{lrrrrrrrrrrr}\n",
       " & coef & exp(coef) & se(coef) & coef lower 95% & coef upper 95% & exp(coef) lower 95% & exp(coef) upper 95% & cmp to & z & p & -log2(p) \\\\\n",
       "covariate &  &  &  &  &  &  &  &  &  &  &  \\\\\n",
       "horTh & -0.35 & 0.71 & 0.13 & -0.60 & -0.09 & 0.55 & 0.91 & 0.00 & -2.68 & 0.01 & 7.10 \\\\\n",
       "age & -0.01 & 0.99 & 0.01 & -0.03 & 0.01 & 0.97 & 1.01 & 0.00 & -1.02 & 0.31 & 1.69 \\\\\n",
       "menostat & 0.26 & 1.29 & 0.18 & -0.10 & 0.62 & 0.90 & 1.86 & 0.00 & 1.41 & 0.16 & 2.65 \\\\\n",
       "tsize & 0.01 & 1.01 & 0.00 & 0.00 & 0.02 & 1.00 & 1.02 & 0.00 & 1.98 & 0.05 & 4.39 \\\\\n",
       "pnodes & 0.05 & 1.05 & 0.01 & 0.03 & 0.06 & 1.03 & 1.07 & 0.00 & 6.55 & 0.00 & 34.03 \\\\\n",
       "progrec & -0.00 & 1.00 & 0.00 & -0.00 & -0.00 & 1.00 & 1.00 & 0.00 & -3.87 & 0.00 & 13.14 \\\\\n",
       "estrec & 0.00 & 1.00 & 0.00 & -0.00 & 0.00 & 1.00 & 1.00 & 0.00 & 0.44 & 0.66 & 0.60 \\\\\n",
       "tgrd2 & 0.64 & 1.89 & 0.25 & 0.15 & 1.12 & 1.16 & 3.08 & 0.00 & 2.55 & 0.01 & 6.55 \\\\\n",
       "tgrd3 & 0.78 & 2.18 & 0.27 & 0.25 & 1.31 & 1.29 & 3.69 & 0.00 & 2.90 & 0.00 & 8.08 \\\\\n",
       "\\end{tabular}\n"
      ],
      "text/plain": [
       "<lifelines.CoxPHFitter: fitted with 686 total observations, 387 right-censored observations>\n",
       "             duration col = 'time'\n",
       "                event col = 'cens'\n",
       "      baseline estimation = breslow\n",
       "   number of observations = 686\n",
       "number of events observed = 299\n",
       "   partial log-likelihood = -1735.73\n",
       "         time fit was run = 2023-09-03 21:46:37 UTC\n",
       "\n",
       "---\n",
       "            coef  exp(coef)   se(coef)   coef lower 95%   coef upper 95%  exp(coef) lower 95%  exp(coef) upper 95%\n",
       "covariate                                                                                                         \n",
       "horTh      -0.35       0.71       0.13            -0.60            -0.09                 0.55                 0.91\n",
       "age        -0.01       0.99       0.01            -0.03             0.01                 0.97                 1.01\n",
       "menostat    0.26       1.29       0.18            -0.10             0.62                 0.90                 1.86\n",
       "tsize       0.01       1.01       0.00             0.00             0.02                 1.00                 1.02\n",
       "pnodes      0.05       1.05       0.01             0.03             0.06                 1.03                 1.07\n",
       "progrec    -0.00       1.00       0.00            -0.00            -0.00                 1.00                 1.00\n",
       "estrec      0.00       1.00       0.00            -0.00             0.00                 1.00                 1.00\n",
       "tgrd2       0.64       1.89       0.25             0.15             1.12                 1.16                 3.08\n",
       "tgrd3       0.78       2.18       0.27             0.25             1.31                 1.29                 3.69\n",
       "\n",
       "            cmp to     z      p   -log2(p)\n",
       "covariate                                 \n",
       "horTh         0.00 -2.68   0.01       7.10\n",
       "age           0.00 -1.02   0.31       1.69\n",
       "menostat      0.00  1.41   0.16       2.65\n",
       "tsize         0.00  1.98   0.05       4.39\n",
       "pnodes        0.00  6.55 <0.005      34.03\n",
       "progrec       0.00 -3.87 <0.005      13.14\n",
       "estrec        0.00  0.44   0.66       0.60\n",
       "tgrd2         0.00  2.55   0.01       6.55\n",
       "tgrd3         0.00  2.90 <0.005       8.08\n",
       "---\n",
       "Concordance = 0.69\n",
       "Partial AIC = 3489.46\n",
       "log-likelihood ratio test = 104.75 on 9 df\n",
       "-log2(p) of ll-ratio test = 59.01"
      ]
     },
     "metadata": {},
     "output_type": "display_data"
    }
   ],
   "source": [
    "from lifelines import CoxPHFitter\n",
    "cph = CoxPHFitter()\n",
    "cph.fit(data, duration_col='time', event_col='cens')\n",
    "\n",
    "cph.print_summary()"
   ]
  },
  {
   "cell_type": "markdown",
   "id": "2745b0ae-df40-439d-964a-92bc4c3bd619",
   "metadata": {},
   "source": [
    "Most variables were significant at $\\alpha \\lt 0.05$, though 3 were not, according to the p-values. The metrics at the bottom of the summary provide overall comparability to other models, and a couple of them will soon be described in depth."
   ]
  },
  {
   "cell_type": "markdown",
   "id": "fd23d6c4-96a0-4343-a3c0-2bf0e656a347",
   "metadata": {},
   "source": [
    "The Cox fitter has a nice <code>plot</code> function which can be very informative, and below plots the magnitude of coefficients for each of the variables, along with each of their confidence intervals."
   ]
  },
  {
   "cell_type": "code",
   "execution_count": 6,
   "id": "f526c9c6-9fdb-4d6d-9345-a14ffbb90256",
   "metadata": {
    "tags": []
   },
   "outputs": [
    {
     "data": {
      "image/png": "[encoded data removed]",
      "text/plain": [
       "<Figure size 640x480 with 1 Axes>"
      ]
     },
     "metadata": {},
     "output_type": "display_data"
    }
   ],
   "source": [
    "cph.plot();"
   ]
  },
  {
   "cell_type": "markdown",
   "id": "8aa95110-7964-4f8f-9e71-4861a2805b92",
   "metadata": {
    "tags": []
   },
   "source": [
    "The Cox PH model includes the following parameters:\n",
    "- <code>penalizer</code>: attaches a penalty to the size of the coefficients, default of 0. This improves stability with correlated features\n",
    "- <code>l1_ratio</code>: ratio to assign to a L1 vs L2 penalty"
   ]
  },
  {
   "cell_type": "markdown",
   "id": "7c4dc75a",
   "metadata": {},
   "source": [
    "# The Proportional Hazards Assumption"
   ]
  },
  {
   "cell_type": "markdown",
   "id": "3aeb2778",
   "metadata": {},
   "source": [
    "The proportional hazards assumption is the assumption that covariates have a linear, multiplicative effect on the hazard function, and that the effect stays the same across time. The three assumptions made by the Cox model are that:\n",
    "\n",
    "1. The hazard ratio of two subjects remains the same at all times\n",
    "2. The explanatory variables act multiplicatively on the hazard function\n",
    "3. Failure times of individual subjects are independent of each other\n",
    "\n",
    "Methods of checking the data for compliance with the proportional hazards assumption include graphical analysis, plots of observed vs. Kaplan-Meier expected values, checking with time-dependent covariates, and goodness-of-fit tests."
   ]
  },
  {
   "cell_type": "markdown",
   "id": "7b1b4497-b5a5-46be-bb83-d43916bb8226",
   "metadata": {},
   "source": [
    "Below is one of many alternatives for proportional hazard testing, that assigns p-values to describe the compliance of each variable to the assumption. You can read about this and the other tests lifelines offers <a href=\"https://lifelines.readthedocs.io/en/latest/jupyter_notebooks/Proportional%20hazard%20assumption.html\">here</a>."
   ]
  },
  {
   "cell_type": "code",
   "execution_count": 7,
   "id": "7f47cbbc",
   "metadata": {
    "tags": []
   },
   "outputs": [
    {
     "data": {
      "text/html": [
       "<div>\n",
       "<style scoped>\n",
       "    .dataframe tbody tr th:only-of-type {\n",
       "        vertical-align: middle;\n",
       "    }\n",
       "\n",
       "    .dataframe tbody tr th {\n",
       "        vertical-align: top;\n",
       "    }\n",
       "\n",
       "    .dataframe thead th {\n",
       "        text-align: right;\n",
       "    }\n",
       "</style>\n",
       "<table border=\"1\" class=\"dataframe\">\n",
       "  <tbody>\n",
       "    <tr>\n",
       "      <th>time_transform</th>\n",
       "      <td>rank</td>\n",
       "    </tr>\n",
       "    <tr>\n",
       "      <th>null_distribution</th>\n",
       "      <td>chi squared</td>\n",
       "    </tr>\n",
       "    <tr>\n",
       "      <th>degrees_of_freedom</th>\n",
       "      <td>1</td>\n",
       "    </tr>\n",
       "    <tr>\n",
       "      <th>model</th>\n",
       "      <td>&lt;lifelines.CoxPHFitter: fitted with 686 total ...</td>\n",
       "    </tr>\n",
       "    <tr>\n",
       "      <th>test_name</th>\n",
       "      <td>proportional_hazard_test</td>\n",
       "    </tr>\n",
       "  </tbody>\n",
       "</table>\n",
       "</div><table border=\"1\" class=\"dataframe\">\n",
       "  <thead>\n",
       "    <tr style=\"text-align: right;\">\n",
       "      <th></th>\n",
       "      <th>test_statistic</th>\n",
       "      <th>p</th>\n",
       "      <th>-log2(p)</th>\n",
       "    </tr>\n",
       "  </thead>\n",
       "  <tbody>\n",
       "    <tr>\n",
       "      <th>age</th>\n",
       "      <td>2.79</td>\n",
       "      <td>0.09</td>\n",
       "      <td>3.40</td>\n",
       "    </tr>\n",
       "    <tr>\n",
       "      <th>estrec</th>\n",
       "      <td>1.42</td>\n",
       "      <td>0.23</td>\n",
       "      <td>2.10</td>\n",
       "    </tr>\n",
       "    <tr>\n",
       "      <th>horTh</th>\n",
       "      <td>0.21</td>\n",
       "      <td>0.65</td>\n",
       "      <td>0.63</td>\n",
       "    </tr>\n",
       "    <tr>\n",
       "      <th>menostat</th>\n",
       "      <td>0.01</td>\n",
       "      <td>0.94</td>\n",
       "      <td>0.08</td>\n",
       "    </tr>\n",
       "    <tr>\n",
       "      <th>pnodes</th>\n",
       "      <td>0.57</td>\n",
       "      <td>0.45</td>\n",
       "      <td>1.16</td>\n",
       "    </tr>\n",
       "    <tr>\n",
       "      <th>progrec</th>\n",
       "      <td>1.08</td>\n",
       "      <td>0.30</td>\n",
       "      <td>1.74</td>\n",
       "    </tr>\n",
       "    <tr>\n",
       "      <th>tgrd2</th>\n",
       "      <td>1.83</td>\n",
       "      <td>0.18</td>\n",
       "      <td>2.51</td>\n",
       "    </tr>\n",
       "    <tr>\n",
       "      <th>tgrd3</th>\n",
       "      <td>5.86</td>\n",
       "      <td>0.02</td>\n",
       "      <td>6.02</td>\n",
       "    </tr>\n",
       "    <tr>\n",
       "      <th>tsize</th>\n",
       "      <td>0.18</td>\n",
       "      <td>0.67</td>\n",
       "      <td>0.58</td>\n",
       "    </tr>\n",
       "  </tbody>\n",
       "</table>"
      ],
      "text/latex": [
       "\\begin{tabular}{lrrr}\n",
       " & test_statistic & p & -log2(p) \\\\\n",
       "age & 2.79 & 0.09 & 3.40 \\\\\n",
       "estrec & 1.42 & 0.23 & 2.10 \\\\\n",
       "horTh & 0.21 & 0.65 & 0.63 \\\\\n",
       "menostat & 0.01 & 0.94 & 0.08 \\\\\n",
       "pnodes & 0.57 & 0.45 & 1.16 \\\\\n",
       "progrec & 1.08 & 0.30 & 1.74 \\\\\n",
       "tgrd2 & 1.83 & 0.18 & 2.51 \\\\\n",
       "tgrd3 & 5.86 & 0.02 & 6.02 \\\\\n",
       "tsize & 0.18 & 0.67 & 0.58 \\\\\n",
       "\\end{tabular}\n"
      ],
      "text/plain": [
       "<lifelines.StatisticalResult: proportional_hazard_test>\n",
       "    time_transform = rank\n",
       " null_distribution = chi squared\n",
       "degrees_of_freedom = 1\n",
       "             model = <lifelines.CoxPHFitter: fitted with 686 total observations, 387 right-censored observations>\n",
       "         test_name = proportional_hazard_test\n",
       "\n",
       "---\n",
       "          test_statistic    p  -log2(p)\n",
       "age                 2.79 0.09      3.40\n",
       "estrec              1.42 0.23      2.10\n",
       "horTh               0.21 0.65      0.63\n",
       "menostat            0.01 0.94      0.08\n",
       "pnodes              0.57 0.45      1.16\n",
       "progrec             1.08 0.30      1.74\n",
       "tgrd2               1.83 0.18      2.51\n",
       "tgrd3               5.86 0.02      6.02\n",
       "tsize               0.18 0.67      0.58"
      ]
     },
     "metadata": {},
     "output_type": "display_data"
    }
   ],
   "source": [
    "from lifelines.statistics import proportional_hazard_test\n",
    "\n",
    "results = proportional_hazard_test(cph, data, time_transform='rank')\n",
    "results.print_summary(decimals=3, model=\"untransformed variables\")"
   ]
  },
  {
   "cell_type": "code",
   "execution_count": 9,
   "id": "2efacc78-d99c-4dc0-8ef4-5c2f4c18ab75",
   "metadata": {
    "tags": []
   },
   "outputs": [
    {
     "data": {
      "text/plain": [
       "0.6918510280149093"
      ]
     },
     "execution_count": 9,
     "metadata": {},
     "output_type": "execute_result"
    }
   ],
   "source": [
    "cph.concordance_index_"
   ]
  },
  {
   "cell_type": "markdown",
   "id": "7c75ccfe-e900-4199-93ae-15cdb490aa42",
   "metadata": {},
   "source": [
    "The next article is about parametric survival models; you can find it **here**"
   ]
  },
  {
   "cell_type": "markdown",
   "id": "2fd60baa",
   "metadata": {},
   "source": [
    "# References\n",
    "\n",
    "1. (n.d.). Lifelines Documentation. Lifelines. https://lifelines.readthedocs.io/en/latest/\n",
    "2. Moore, D. F. (2016). Applied Survival Analysis in R. Springer International Publishing Switzerland 2016.\n",
    "3. (n.d.). Scikit-Survival Documentation. https://scikit-survival.readthedocs.io/en/stable/user_guide/index.html\n",
    "4. [Udemy]. (2019, April 1). Survival Analysis in R [Video]. Udemy. https://www.udemy.com/course/survival-analysis-in-r/\n",
    "5. (2019, January 6). Survival Analysis Intuition and Implementation in Python. Towards Data Science. https://towardsdatascience.com/survival-analysis-intuition-implementation-in-python-504fde4fcf8e\n",
    "6. Lewinson, E. (2020, August 17). Introduction to Survival Analysis: The Kaplan-Meier estimator. Towards Data Science. https://towardsdatascience.com/introduction-to-survival-analysis-the-kaplan-meier-estimator-94ec5812a97a\n",
    "7. Lewinson, E. (2020, July 23). The Cox Proportional Hazards Model. Towards Data Science. https://towardsdatascience.com/the-cox-proportional-hazards-model-35e60e554d8f\n",
    "8. Lewinson, E. (2020, August 23). Introduction to Survival Analysis: The Nelson-Aalen estimator. Towards Data Science. https://towardsdatascience.com/introduction-to-survival-analysis-the-nelson-aalen-estimator-9780c63d549d"
   ]
  }
 ],
 "metadata": {
  "kernelspec": {
   "display_name": "Python 3 (ipykernel)",
   "language": "python",
   "name": "python3"
  },
  "language_info": {
   "codemirror_mode": {
    "name": "ipython",
    "version": 3
   },
   "file_extension": ".py",
   "mimetype": "text/x-python",
   "name": "python",
   "nbconvert_exporter": "python",
   "pygments_lexer": "ipython3",
   "version": "3.11.4"
  }
 },
 "nbformat": 4,
 "nbformat_minor": 5
}
