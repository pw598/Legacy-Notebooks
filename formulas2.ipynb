{
 "cells": [
  {
   "cell_type": "markdown",
   "id": "d90c01a9-177a-461b-9fa3-eba3ce43750d",
   "metadata": {},
   "source": [
    "E(X) = \\sum_i x_i \\cdot P(X=x_i)\n",
    "\n",
    "- E(X) is the expected value of X\n",
    "- \\sum_i represents a summation over all x_i multiplied by P(X=x_i)\n",
    "- x_i is the i^{th} instance of x\n",
    "- \\cdot is the multiplication operation\n",
    "- P(X=x_i) is the probability that an instance of random variable X equals x_i"
   ]
  },
  {
   "cell_type": "markdown",
   "id": "d503d06d-c7cb-4bef-b6de-076d5a0d7e97",
   "metadata": {},
   "source": [
    "Var(X) = E(X-E(X))^2"
   ]
  },
  {
   "cell_type": "code",
   "execution_count": null,
   "id": "3c06a567-7a0b-4e30-98be-ac8e2f1ba701",
   "metadata": {},
   "outputs": [],
   "source": [
    "Var(X) = E(X^2)-(E(X))^2"
   ]
  },
  {
   "cell_type": "code",
   "execution_count": null,
   "id": "cd60d064-8310-4eab-9272-6814a5d49139",
   "metadata": {},
   "outputs": [],
   "source": [
    "SD(X) = \\sqrt{Var(X)}"
   ]
  },
  {
   "cell_type": "code",
   "execution_count": null,
   "id": "0f3f2e91-2c7f-454a-a47a-14f23d5a2023",
   "metadata": {},
   "outputs": [],
   "source": [
    "Cov(X,Y) = E((X-E(X))(Y-E(Y)))"
   ]
  },
  {
   "cell_type": "code",
   "execution_count": null,
   "id": "d985febf-92d8-4dd7-b18b-6f4027163cc7",
   "metadata": {},
   "outputs": [],
   "source": [
    "Cov(X,Y) = E(XY) - E(X)E(Y)"
   ]
  },
  {
   "cell_type": "code",
   "execution_count": null,
   "id": "adf1ec59-dfb5-4a3e-8127-8120e0692e5c",
   "metadata": {},
   "outputs": [],
   "source": [
    "Corr(X,Y) = \\frac{Cov(X,Y)}{\\sqrt{Var(X)Var(Y)}}"
   ]
  },
  {
   "cell_type": "code",
   "execution_count": null,
   "id": "d220cb08-391e-4f87-8ebc-2fe1840feab7",
   "metadata": {},
   "outputs": [],
   "source": []
  },
  {
   "cell_type": "markdown",
   "id": "2106b079-55a4-4b11-abcd-9793fac7c233",
   "metadata": {
    "jp-MarkdownHeadingCollapsed": true,
    "tags": []
   },
   "source": [
    "Bernoulli\n",
    "\n",
    "PMF: \n",
    "\n",
    "$P(X=1)=p$, \n",
    "\n",
    "$P(X=0)=1-p=q$\n",
    "\n",
    "Expected Value: $p$\n",
    "\n",
    "Variance: $pq$"
   ]
  },
  {
   "cell_type": "code",
   "execution_count": null,
   "id": "db66e865-ba77-4bc6-bb75-997fffc2c0a4",
   "metadata": {},
   "outputs": [],
   "source": []
  },
  {
   "cell_type": "markdown",
   "id": "0439619c-c6d9-46bf-ae7f-83346c8de08f",
   "metadata": {},
   "source": [
    "Binomial\n",
    "\n",
    "PMF: $P(X = k) = \\binom{n}{k} p^k q^{n-k}$\n",
    "\n",
    "- $P(X=k)$ is the probability of $k$ successes in n trials\n",
    "- $\\binom{n}{k}$ is the binomial operation $n$-choose-$k$\n",
    "- $p$ is the probability of success for each trial\n",
    "- $q$ is the probability of failure for each trial\n",
    "\n",
    "Expected Value: $np$\n",
    "\n",
    "Variance: $npq$"
   ]
  },
  {
   "cell_type": "code",
   "execution_count": null,
   "id": "8c51d78e-777a-46d3-bbb3-839d1dc9075f",
   "metadata": {},
   "outputs": [],
   "source": []
  },
  {
   "cell_type": "markdown",
   "id": "1ad6c78b-75fa-47d6-9732-b7718b8f3979",
   "metadata": {},
   "source": [
    "Poisson\n",
    "\n",
    "PMF: $p(X = k) = \\frac{e^{-\\lambda}\\lambda^k}{k!}$\n",
    "\n",
    "- $p(X=k)$ is the probability of $k$ events in a unit of space or time\n",
    "- $e$ is Euler's constant, $2.71828...$\n",
    "- $\\lambda$ is the average number of events per unit of space or time\n",
    "- $k$ is the hypothetical number of events per unit of space or time\n",
    "\n",
    "Expected Value: $\\lambda$\n",
    "\n",
    "Variance: $\\lambda$"
   ]
  },
  {
   "cell_type": "code",
   "execution_count": null,
   "id": "c2120e44-67f9-4972-8c27-25848fc3fa43",
   "metadata": {},
   "outputs": [],
   "source": []
  },
  {
   "cell_type": "markdown",
   "id": "3e9c3d9e-b6ca-45d2-b5bf-0b760e00ff4e",
   "metadata": {},
   "source": [
    "Exponential\n",
    "\n",
    "PDF: $f(x) = \\lambda e^{-\\lambda x}$\n",
    "\n",
    "- $\\lambda$ is the average number of events in the corresponding Poisson process\n",
    "- $e$ is Euler's constant, $2.71828...$\n",
    "- $x$ is the hypothesized value\n",
    "\n",
    "Expected Value: $\\frac{1}{\\lambda}$\n",
    "\n",
    "Variance: $\\frac{1}{\\lambda^2}$"
   ]
  },
  {
   "cell_type": "code",
   "execution_count": null,
   "id": "85108068-2197-4c53-a9af-607bfcd29022",
   "metadata": {},
   "outputs": [],
   "source": []
  }
 ],
 "metadata": {
  "kernelspec": {
   "display_name": "Python 3 (ipykernel)",
   "language": "python",
   "name": "python3"
  },
  "language_info": {
   "codemirror_mode": {
    "name": "ipython",
    "version": 3
   },
   "file_extension": ".py",
   "mimetype": "text/x-python",
   "name": "python",
   "nbconvert_exporter": "python",
   "pygments_lexer": "ipython3",
   "version": "3.11.5"
  }
 },
 "nbformat": 4,
 "nbformat_minor": 5
}
